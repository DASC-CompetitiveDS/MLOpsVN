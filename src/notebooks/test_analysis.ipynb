{
 "cells": [
  {
   "cell_type": "code",
   "execution_count": 1,
   "metadata": {},
   "outputs": [
    {
     "name": "stdout",
     "output_type": "stream",
     "text": [
      "Append /home/v_user/khiempm/MLOpsVN/src to sys.path\n"
     ]
    }
   ],
   "source": [
    "from import_src import import_src\n",
    "import_src()"
   ]
  },
  {
   "cell_type": "code",
   "execution_count": 2,
   "metadata": {},
   "outputs": [],
   "source": [
    "import pandas as pd\n",
    "import numpy as np\n",
    "import seaborn as sns\n",
    "from matplotlib import pyplot as plt\n",
    "import os\n",
    "import json\n",
    "from plotly import express as px\n",
    "import mlflow"
   ]
  },
  {
   "cell_type": "code",
   "execution_count": 30,
   "metadata": {},
   "outputs": [],
   "source": [
    "pd.set_option('display.max_columns', 500)"
   ]
  },
  {
   "cell_type": "code",
   "execution_count": 4,
   "metadata": {},
   "outputs": [],
   "source": [
    "link_data_test_raw = '../../data/captured_data/phase-2/prob-2/raw/'\n",
    "train_raw_data = '../../data/raw_data/phase-2/prob-2/raw_train.parquet'"
   ]
  },
  {
   "cell_type": "code",
   "execution_count": 7,
   "metadata": {},
   "outputs": [],
   "source": [
    "raw_test = pd.DataFrame()\n",
    "count_ = 0\n",
    "for file_path in os.listdir(link_data_test_raw):\n",
    "    if 'parquet' not in file_path or \"123.parquet\" in file_path:\n",
    "        continue\n",
    "    captured_data = pd.read_parquet(f'{link_data_test_raw}{file_path}')\n",
    "    captured_data['parquet_idx'] = count_\n",
    "    raw_test = pd.concat([captured_x, captured_data])\n",
    "    count_ += 1"
   ]
  },
  {
   "cell_type": "code",
   "execution_count": 40,
   "metadata": {},
   "outputs": [
    {
     "data": {
      "text/plain": [
       "count    1.044440e+05\n",
       "mean     9.185845e+03\n",
       "std      1.602658e+05\n",
       "min      4.600000e+01\n",
       "25%      1.140000e+02\n",
       "50%      5.340000e+02\n",
       "75%      1.470000e+03\n",
       "max      1.018725e+07\n",
       "Name: feature7, dtype: float64"
      ]
     },
     "execution_count": 40,
     "metadata": {},
     "output_type": "execute_result"
    }
   ],
   "source": [
    "raw_test['feature7'].describe()"
   ]
  },
  {
   "cell_type": "code",
   "execution_count": 41,
   "metadata": {},
   "outputs": [
    {
     "data": {
      "text/plain": [
       "count    6.184100e+04\n",
       "mean     8.226342e+03\n",
       "std      1.692162e+05\n",
       "min      2.400000e+01\n",
       "25%      1.140000e+02\n",
       "50%      5.280000e+02\n",
       "75%      1.392000e+03\n",
       "max      1.435577e+07\n",
       "Name: feature7, dtype: float64"
      ]
     },
     "execution_count": 41,
     "metadata": {},
     "output_type": "execute_result"
    }
   ],
   "source": [
    "raw_train['feature7'].describe()"
   ]
  },
  {
   "cell_type": "code",
   "execution_count": 23,
   "metadata": {},
   "outputs": [],
   "source": [
    "order_cols = raw_train.columns.tolist()\n",
    "order_cols.remove('label')\n",
    "raw_test = raw_test[order_cols]"
   ]
  },
  {
   "cell_type": "code",
   "execution_count": 27,
   "metadata": {},
   "outputs": [
    {
     "data": {
      "text/plain": [
       "count    104444.000000\n",
       "mean          1.296438\n",
       "std           6.141171\n",
       "min           0.000000\n",
       "25%           0.000008\n",
       "50%           0.004351\n",
       "75%           0.672780\n",
       "max          59.999943\n",
       "Name: feature1, dtype: float64"
      ]
     },
     "execution_count": 27,
     "metadata": {},
     "output_type": "execute_result"
    }
   ],
   "source": [
    "raw_test['feature1'].describe()"
   ]
  },
  {
   "cell_type": "code",
   "execution_count": 28,
   "metadata": {},
   "outputs": [
    {
     "data": {
      "text/plain": [
       "count    61841.000000\n",
       "mean         1.250073\n",
       "std          6.007840\n",
       "min          0.000000\n",
       "25%          0.000008\n",
       "50%          0.004414\n",
       "75%          0.685279\n",
       "max         59.999935\n",
       "Name: feature1, dtype: float64"
      ]
     },
     "execution_count": 28,
     "metadata": {},
     "output_type": "execute_result"
    }
   ],
   "source": [
    "raw_train['feature1'].describe()"
   ]
  },
  {
   "cell_type": "code",
   "execution_count": 9,
   "metadata": {},
   "outputs": [],
   "source": [
    "raw_train = pd.read_parquet(train_raw_data)"
   ]
  },
  {
   "cell_type": "code",
   "execution_count": 35,
   "metadata": {},
   "outputs": [
    {
     "data": {
      "text/plain": [
       "feature1\n",
       "0.000009    6800\n",
       "0.000008    3763\n",
       "0.000003    3763\n",
       "0.000005    2255\n",
       "0.000004    1996\n",
       "            ... \n",
       "0.185814       1\n",
       "1.068945       1\n",
       "1.084268       1\n",
       "0.105288       1\n",
       "0.929489       1\n",
       "Name: count, Length: 29954, dtype: int64"
      ]
     },
     "execution_count": 35,
     "metadata": {},
     "output_type": "execute_result"
    }
   ],
   "source": [
    "raw_train['feature1'].value_counts()"
   ]
  },
  {
   "cell_type": "code",
   "execution_count": null,
   "metadata": {},
   "outputs": [],
   "source": []
  }
 ],
 "metadata": {
  "kernelspec": {
   "display_name": "Python 3",
   "language": "python",
   "name": "python3"
  },
  "language_info": {
   "codemirror_mode": {
    "name": "ipython",
    "version": 3
   },
   "file_extension": ".py",
   "mimetype": "text/x-python",
   "name": "python",
   "nbconvert_exporter": "python",
   "pygments_lexer": "ipython3",
   "version": "3.10.6"
  },
  "orig_nbformat": 4
 },
 "nbformat": 4,
 "nbformat_minor": 2
}
