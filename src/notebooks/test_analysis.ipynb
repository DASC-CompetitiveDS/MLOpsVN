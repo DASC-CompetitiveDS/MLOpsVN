{
 "cells": [
  {
   "cell_type": "code",
   "execution_count": 1,
   "metadata": {},
   "outputs": [
    {
     "name": "stdout",
     "output_type": "stream",
     "text": [
      "Append /home/ubuntu/khiempm/MLOpsVN/src to sys.path\n"
     ]
    }
   ],
   "source": [
    "from import_src import import_src\n",
    "import_src()"
   ]
  },
  {
   "cell_type": "code",
   "execution_count": 2,
   "metadata": {},
   "outputs": [
    {
     "name": "stderr",
     "output_type": "stream",
     "text": [
      "/usr/lib/python3/dist-packages/requests/__init__.py:89: RequestsDependencyWarning: urllib3 (2.0.4) or chardet (3.0.4) doesn't match a supported version!\n",
      "  warnings.warn(\"urllib3 ({}) or chardet ({}) doesn't match a supported \"\n"
     ]
    }
   ],
   "source": [
    "import pandas as pd\n",
    "import numpy as np\n",
    "import seaborn as sns\n",
    "from matplotlib import pyplot as plt\n",
    "import os\n",
    "import json\n",
    "from plotly import express as px\n",
    "import mlflow\n",
    "import seaborn as sns"
   ]
  },
  {
   "cell_type": "code",
   "execution_count": 3,
   "metadata": {},
   "outputs": [],
   "source": [
    "pd.set_option('display.max_columns', 500)"
   ]
  },
  {
   "cell_type": "code",
   "execution_count": 3,
   "metadata": {},
   "outputs": [],
   "source": [
    "link_data_test_raw = '../../data/captured_data/phase-2/prob-2/raw/'\n",
    "train_raw_data = '../../data/raw_data/phase-2/prob-2/raw_train.parquet'"
   ]
  },
  {
   "cell_type": "code",
   "execution_count": 4,
   "metadata": {},
   "outputs": [],
   "source": [
    "raw_test = pd.DataFrame()\n",
    "count_ = 0\n",
    "for file_path in os.listdir(link_data_test_raw):\n",
    "    if 'parquet' not in file_path or \"123.parquet\" in file_path:\n",
    "        continue\n",
    "    captured_data = pd.read_parquet(f'{link_data_test_raw}{file_path}')\n",
    "    captured_data['parquet_idx'] = count_\n",
    "    raw_test = pd.concat([raw_test, captured_data])\n",
    "    count_ += 1"
   ]
  },
  {
   "cell_type": "code",
   "execution_count": 5,
   "metadata": {},
   "outputs": [
    {
     "data": {
      "text/html": [
       "<div>\n",
       "<style scoped>\n",
       "    .dataframe tbody tr th:only-of-type {\n",
       "        vertical-align: middle;\n",
       "    }\n",
       "\n",
       "    .dataframe tbody tr th {\n",
       "        vertical-align: top;\n",
       "    }\n",
       "\n",
       "    .dataframe thead th {\n",
       "        text-align: right;\n",
       "    }\n",
       "</style>\n",
       "<table border=\"1\" class=\"dataframe\">\n",
       "  <thead>\n",
       "    <tr style=\"text-align: right;\">\n",
       "      <th></th>\n",
       "      <th>feature14</th>\n",
       "      <th>feature1</th>\n",
       "      <th>feature9</th>\n",
       "      <th>feature35</th>\n",
       "      <th>feature33</th>\n",
       "      <th>feature29</th>\n",
       "      <th>feature8</th>\n",
       "      <th>feature16</th>\n",
       "      <th>feature28</th>\n",
       "      <th>feature21</th>\n",
       "      <th>...</th>\n",
       "      <th>feature31</th>\n",
       "      <th>feature37</th>\n",
       "      <th>feature6</th>\n",
       "      <th>feature19</th>\n",
       "      <th>feature11</th>\n",
       "      <th>feature27</th>\n",
       "      <th>feature12</th>\n",
       "      <th>feature5</th>\n",
       "      <th>feature20</th>\n",
       "      <th>parquet_idx</th>\n",
       "    </tr>\n",
       "  </thead>\n",
       "  <tbody>\n",
       "    <tr>\n",
       "      <th>0</th>\n",
       "      <td>0.0</td>\n",
       "      <td>0.000009</td>\n",
       "      <td>254.0</td>\n",
       "      <td>24.0</td>\n",
       "      <td>15.0</td>\n",
       "      <td>0.0</td>\n",
       "      <td>0.0</td>\n",
       "      <td>0.000000</td>\n",
       "      <td>0.0</td>\n",
       "      <td>0.000000e+00</td>\n",
       "      <td>...</td>\n",
       "      <td>2.0</td>\n",
       "      <td>0.0</td>\n",
       "      <td>0.0</td>\n",
       "      <td>0.0</td>\n",
       "      <td>5.066666e+07</td>\n",
       "      <td>0.0</td>\n",
       "      <td>0.000000e+00</td>\n",
       "      <td>2.0</td>\n",
       "      <td>0.000000e+00</td>\n",
       "      <td>0</td>\n",
       "    </tr>\n",
       "    <tr>\n",
       "      <th>1</th>\n",
       "      <td>0.0</td>\n",
       "      <td>0.000004</td>\n",
       "      <td>254.0</td>\n",
       "      <td>7.0</td>\n",
       "      <td>2.0</td>\n",
       "      <td>0.0</td>\n",
       "      <td>0.0</td>\n",
       "      <td>0.000000</td>\n",
       "      <td>0.0</td>\n",
       "      <td>0.000000e+00</td>\n",
       "      <td>...</td>\n",
       "      <td>2.0</td>\n",
       "      <td>0.0</td>\n",
       "      <td>0.0</td>\n",
       "      <td>0.0</td>\n",
       "      <td>2.000000e+08</td>\n",
       "      <td>0.0</td>\n",
       "      <td>0.000000e+00</td>\n",
       "      <td>2.0</td>\n",
       "      <td>0.000000e+00</td>\n",
       "      <td>0</td>\n",
       "    </tr>\n",
       "    <tr>\n",
       "      <th>2</th>\n",
       "      <td>0.0</td>\n",
       "      <td>0.000009</td>\n",
       "      <td>254.0</td>\n",
       "      <td>14.0</td>\n",
       "      <td>14.0</td>\n",
       "      <td>0.0</td>\n",
       "      <td>0.0</td>\n",
       "      <td>0.000000</td>\n",
       "      <td>0.0</td>\n",
       "      <td>0.000000e+00</td>\n",
       "      <td>...</td>\n",
       "      <td>2.0</td>\n",
       "      <td>0.0</td>\n",
       "      <td>0.0</td>\n",
       "      <td>0.0</td>\n",
       "      <td>5.066666e+07</td>\n",
       "      <td>0.0</td>\n",
       "      <td>0.000000e+00</td>\n",
       "      <td>2.0</td>\n",
       "      <td>0.000000e+00</td>\n",
       "      <td>0</td>\n",
       "    </tr>\n",
       "    <tr>\n",
       "      <th>3</th>\n",
       "      <td>1.0</td>\n",
       "      <td>0.454651</td>\n",
       "      <td>254.0</td>\n",
       "      <td>4.0</td>\n",
       "      <td>3.0</td>\n",
       "      <td>0.0</td>\n",
       "      <td>268.0</td>\n",
       "      <td>64.424398</td>\n",
       "      <td>0.0</td>\n",
       "      <td>1.130290e+08</td>\n",
       "      <td>...</td>\n",
       "      <td>1.0</td>\n",
       "      <td>0.0</td>\n",
       "      <td>6.0</td>\n",
       "      <td>255.0</td>\n",
       "      <td>8.463635e+03</td>\n",
       "      <td>45.0</td>\n",
       "      <td>3.941485e+03</td>\n",
       "      <td>10.0</td>\n",
       "      <td>1.731973e+09</td>\n",
       "      <td>0</td>\n",
       "    </tr>\n",
       "    <tr>\n",
       "      <th>4</th>\n",
       "      <td>0.0</td>\n",
       "      <td>0.001038</td>\n",
       "      <td>31.0</td>\n",
       "      <td>1.0</td>\n",
       "      <td>1.0</td>\n",
       "      <td>0.0</td>\n",
       "      <td>162.0</td>\n",
       "      <td>0.007000</td>\n",
       "      <td>0.0</td>\n",
       "      <td>0.000000e+00</td>\n",
       "      <td>...</td>\n",
       "      <td>0.0</td>\n",
       "      <td>0.0</td>\n",
       "      <td>2.0</td>\n",
       "      <td>0.0</td>\n",
       "      <td>5.009634e+05</td>\n",
       "      <td>81.0</td>\n",
       "      <td>6.242774e+05</td>\n",
       "      <td>2.0</td>\n",
       "      <td>0.000000e+00</td>\n",
       "      <td>0</td>\n",
       "    </tr>\n",
       "    <tr>\n",
       "      <th>...</th>\n",
       "      <td>...</td>\n",
       "      <td>...</td>\n",
       "      <td>...</td>\n",
       "      <td>...</td>\n",
       "      <td>...</td>\n",
       "      <td>...</td>\n",
       "      <td>...</td>\n",
       "      <td>...</td>\n",
       "      <td>...</td>\n",
       "      <td>...</td>\n",
       "      <td>...</td>\n",
       "      <td>...</td>\n",
       "      <td>...</td>\n",
       "      <td>...</td>\n",
       "      <td>...</td>\n",
       "      <td>...</td>\n",
       "      <td>...</td>\n",
       "      <td>...</td>\n",
       "      <td>...</td>\n",
       "      <td>...</td>\n",
       "      <td>...</td>\n",
       "    </tr>\n",
       "    <tr>\n",
       "      <th>995</th>\n",
       "      <td>0.0</td>\n",
       "      <td>0.000003</td>\n",
       "      <td>254.0</td>\n",
       "      <td>21.0</td>\n",
       "      <td>20.0</td>\n",
       "      <td>0.0</td>\n",
       "      <td>0.0</td>\n",
       "      <td>0.000000</td>\n",
       "      <td>0.0</td>\n",
       "      <td>0.000000e+00</td>\n",
       "      <td>...</td>\n",
       "      <td>2.0</td>\n",
       "      <td>0.0</td>\n",
       "      <td>0.0</td>\n",
       "      <td>0.0</td>\n",
       "      <td>1.520000e+08</td>\n",
       "      <td>0.0</td>\n",
       "      <td>0.000000e+00</td>\n",
       "      <td>2.0</td>\n",
       "      <td>0.000000e+00</td>\n",
       "      <td>100</td>\n",
       "    </tr>\n",
       "    <tr>\n",
       "      <th>996</th>\n",
       "      <td>0.0</td>\n",
       "      <td>0.000940</td>\n",
       "      <td>31.0</td>\n",
       "      <td>2.0</td>\n",
       "      <td>1.0</td>\n",
       "      <td>0.0</td>\n",
       "      <td>178.0</td>\n",
       "      <td>0.002000</td>\n",
       "      <td>0.0</td>\n",
       "      <td>0.000000e+00</td>\n",
       "      <td>...</td>\n",
       "      <td>0.0</td>\n",
       "      <td>0.0</td>\n",
       "      <td>2.0</td>\n",
       "      <td>0.0</td>\n",
       "      <td>6.212766e+05</td>\n",
       "      <td>89.0</td>\n",
       "      <td>7.574468e+05</td>\n",
       "      <td>2.0</td>\n",
       "      <td>0.000000e+00</td>\n",
       "      <td>100</td>\n",
       "    </tr>\n",
       "    <tr>\n",
       "      <th>997</th>\n",
       "      <td>0.0</td>\n",
       "      <td>0.001588</td>\n",
       "      <td>31.0</td>\n",
       "      <td>3.0</td>\n",
       "      <td>1.0</td>\n",
       "      <td>0.0</td>\n",
       "      <td>304.0</td>\n",
       "      <td>0.208667</td>\n",
       "      <td>0.0</td>\n",
       "      <td>0.000000e+00</td>\n",
       "      <td>...</td>\n",
       "      <td>0.0</td>\n",
       "      <td>0.0</td>\n",
       "      <td>4.0</td>\n",
       "      <td>0.0</td>\n",
       "      <td>1.964736e+06</td>\n",
       "      <td>76.0</td>\n",
       "      <td>1.148615e+06</td>\n",
       "      <td>4.0</td>\n",
       "      <td>0.000000e+00</td>\n",
       "      <td>100</td>\n",
       "    </tr>\n",
       "    <tr>\n",
       "      <th>998</th>\n",
       "      <td>1.0</td>\n",
       "      <td>0.559659</td>\n",
       "      <td>254.0</td>\n",
       "      <td>4.0</td>\n",
       "      <td>1.0</td>\n",
       "      <td>0.0</td>\n",
       "      <td>268.0</td>\n",
       "      <td>98.494203</td>\n",
       "      <td>0.0</td>\n",
       "      <td>2.115931e+09</td>\n",
       "      <td>...</td>\n",
       "      <td>1.0</td>\n",
       "      <td>0.0</td>\n",
       "      <td>6.0</td>\n",
       "      <td>255.0</td>\n",
       "      <td>8.004875e+03</td>\n",
       "      <td>45.0</td>\n",
       "      <td>3.201950e+03</td>\n",
       "      <td>10.0</td>\n",
       "      <td>1.199180e+09</td>\n",
       "      <td>100</td>\n",
       "    </tr>\n",
       "    <tr>\n",
       "      <th>999</th>\n",
       "      <td>0.0</td>\n",
       "      <td>0.299048</td>\n",
       "      <td>31.0</td>\n",
       "      <td>4.0</td>\n",
       "      <td>1.0</td>\n",
       "      <td>0.0</td>\n",
       "      <td>312.0</td>\n",
       "      <td>82.230336</td>\n",
       "      <td>0.0</td>\n",
       "      <td>0.000000e+00</td>\n",
       "      <td>...</td>\n",
       "      <td>0.0</td>\n",
       "      <td>0.0</td>\n",
       "      <td>4.0</td>\n",
       "      <td>0.0</td>\n",
       "      <td>1.139616e+04</td>\n",
       "      <td>78.0</td>\n",
       "      <td>6.259864e+03</td>\n",
       "      <td>4.0</td>\n",
       "      <td>0.000000e+00</td>\n",
       "      <td>100</td>\n",
       "    </tr>\n",
       "  </tbody>\n",
       "</table>\n",
       "<p>103952 rows × 42 columns</p>\n",
       "</div>"
      ],
      "text/plain": [
       "     feature14  feature1  feature9  feature35  feature33  feature29  feature8   \n",
       "0          0.0  0.000009     254.0       24.0       15.0        0.0       0.0  \\\n",
       "1          0.0  0.000004     254.0        7.0        2.0        0.0       0.0   \n",
       "2          0.0  0.000009     254.0       14.0       14.0        0.0       0.0   \n",
       "3          1.0  0.454651     254.0        4.0        3.0        0.0     268.0   \n",
       "4          0.0  0.001038      31.0        1.0        1.0        0.0     162.0   \n",
       "..         ...       ...       ...        ...        ...        ...       ...   \n",
       "995        0.0  0.000003     254.0       21.0       20.0        0.0       0.0   \n",
       "996        0.0  0.000940      31.0        2.0        1.0        0.0     178.0   \n",
       "997        0.0  0.001588      31.0        3.0        1.0        0.0     304.0   \n",
       "998        1.0  0.559659     254.0        4.0        1.0        0.0     268.0   \n",
       "999        0.0  0.299048      31.0        4.0        1.0        0.0     312.0   \n",
       "\n",
       "     feature16  feature28     feature21  ...  feature31  feature37  feature6   \n",
       "0     0.000000        0.0  0.000000e+00  ...        2.0        0.0       0.0  \\\n",
       "1     0.000000        0.0  0.000000e+00  ...        2.0        0.0       0.0   \n",
       "2     0.000000        0.0  0.000000e+00  ...        2.0        0.0       0.0   \n",
       "3    64.424398        0.0  1.130290e+08  ...        1.0        0.0       6.0   \n",
       "4     0.007000        0.0  0.000000e+00  ...        0.0        0.0       2.0   \n",
       "..         ...        ...           ...  ...        ...        ...       ...   \n",
       "995   0.000000        0.0  0.000000e+00  ...        2.0        0.0       0.0   \n",
       "996   0.002000        0.0  0.000000e+00  ...        0.0        0.0       2.0   \n",
       "997   0.208667        0.0  0.000000e+00  ...        0.0        0.0       4.0   \n",
       "998  98.494203        0.0  2.115931e+09  ...        1.0        0.0       6.0   \n",
       "999  82.230336        0.0  0.000000e+00  ...        0.0        0.0       4.0   \n",
       "\n",
       "     feature19     feature11  feature27     feature12 feature5     feature20   \n",
       "0          0.0  5.066666e+07        0.0  0.000000e+00      2.0  0.000000e+00  \\\n",
       "1          0.0  2.000000e+08        0.0  0.000000e+00      2.0  0.000000e+00   \n",
       "2          0.0  5.066666e+07        0.0  0.000000e+00      2.0  0.000000e+00   \n",
       "3        255.0  8.463635e+03       45.0  3.941485e+03     10.0  1.731973e+09   \n",
       "4          0.0  5.009634e+05       81.0  6.242774e+05      2.0  0.000000e+00   \n",
       "..         ...           ...        ...           ...      ...           ...   \n",
       "995        0.0  1.520000e+08        0.0  0.000000e+00      2.0  0.000000e+00   \n",
       "996        0.0  6.212766e+05       89.0  7.574468e+05      2.0  0.000000e+00   \n",
       "997        0.0  1.964736e+06       76.0  1.148615e+06      4.0  0.000000e+00   \n",
       "998      255.0  8.004875e+03       45.0  3.201950e+03     10.0  1.199180e+09   \n",
       "999        0.0  1.139616e+04       78.0  6.259864e+03      4.0  0.000000e+00   \n",
       "\n",
       "     parquet_idx  \n",
       "0              0  \n",
       "1              0  \n",
       "2              0  \n",
       "3              0  \n",
       "4              0  \n",
       "..           ...  \n",
       "995          100  \n",
       "996          100  \n",
       "997          100  \n",
       "998          100  \n",
       "999          100  \n",
       "\n",
       "[103952 rows x 42 columns]"
      ]
     },
     "execution_count": 5,
     "metadata": {},
     "output_type": "execute_result"
    }
   ],
   "source": [
    "raw_test"
   ]
  },
  {
   "cell_type": "code",
   "execution_count": 91,
   "metadata": {},
   "outputs": [],
   "source": [
    "raw_train = pd.read_parquet(train_raw_data)\n",
    "order_cols = raw_train.columns.tolist()\n",
    "order_cols.remove('label')\n",
    "raw_test = raw_test[order_cols]"
   ]
  },
  {
   "cell_type": "code",
   "execution_count": 7,
   "metadata": {},
   "outputs": [],
   "source": [
    "corr_ = raw_train.drop(columns=['feature2', 'feature3', 'feature4', 'label']).corr()"
   ]
  },
  {
   "cell_type": "code",
   "execution_count": 13,
   "metadata": {},
   "outputs": [],
   "source": [
    "cols = raw_train.drop(columns=['feature2', 'feature3', 'feature4', 'label']).columns.tolist()"
   ]
  },
  {
   "cell_type": "code",
   "execution_count": 45,
   "metadata": {},
   "outputs": [],
   "source": [
    "drop_corr = ['feature5', 'feature13', 'feature6', 'feature14', 'feature22', 'feature30', 'feature35', 'feature32', 'feature36', 'feature37']"
   ]
  },
  {
   "cell_type": "code",
   "execution_count": 46,
   "metadata": {},
   "outputs": [],
   "source": [
    "cate_cols = ['feature9', 'feature10', 'feature31']"
   ]
  },
  {
   "cell_type": "code",
   "execution_count": 47,
   "metadata": {},
   "outputs": [
    {
     "data": {
      "text/plain": [
       "0        0.0\n",
       "1        0.0\n",
       "2        2.0\n",
       "3        1.0\n",
       "4        0.0\n",
       "        ... \n",
       "61836    0.0\n",
       "61837    1.0\n",
       "61838    2.0\n",
       "61839    2.0\n",
       "61840    2.0\n",
       "Name: feature31, Length: 61841, dtype: float64"
      ]
     },
     "execution_count": 47,
     "metadata": {},
     "output_type": "execute_result"
    }
   ],
   "source": [
    "raw_train['feature31']"
   ]
  },
  {
   "cell_type": "code",
   "execution_count": 32,
   "metadata": {},
   "outputs": [
    {
     "data": {
      "text/plain": [
       "'float64'"
      ]
     },
     "execution_count": 32,
     "metadata": {},
     "output_type": "execute_result"
    }
   ],
   "source": [
    "str(raw_train[each].dtype)"
   ]
  },
  {
   "cell_type": "code",
   "execution_count": null,
   "metadata": {},
   "outputs": [],
   "source": [
    "drop_cols = ['feature41', 'feature36', 'feature22', 'feature37']"
   ]
  },
  {
   "cell_type": "code",
   "execution_count": 95,
   "metadata": {},
   "outputs": [],
   "source": [
    "def data_processing_phase2_prob2(data, phase=\"train\"):\n",
    "    drop_corr = ['feature5', 'feature13', 'feature6', 'feature14', 'feature22', 'feature30', 'feature35', 'feature32', 'feature36', 'feature37']\n",
    "    convert_cate_cols = ['feature9', 'feature10', 'feature31']\n",
    "    data = data.drop(columns = drop_corr)\n",
    "    for col in convert_cate_cols:\n",
    "        data[col] = data[col].astype(int).astype(str)\n",
    "    cate_cols = ['feature2', 'feature3', 'feature4']\n",
    "    for col in cate_cols:\n",
    "        dict_count = data[col].value_counts().to_dict()\n",
    "        list_below = [key for key, value in dict_count.items() if value / data.shape[0] < 0.0005]\n",
    "        if phase == 'test':\n",
    "            list_below.append('null')\n",
    "        data[col] = data[col].replace({value: 'other' for value in list_below})\n",
    "    return data"
   ]
  },
  {
   "cell_type": "code",
   "execution_count": 106,
   "metadata": {},
   "outputs": [
    {
     "data": {
      "text/plain": [
       "[]"
      ]
     },
     "execution_count": 106,
     "metadata": {},
     "output_type": "execute_result"
    }
   ],
   "source": [
    "[each for each in raw_test_['feature4'].unique() if each not in each for each in raw_train_['feature4'].unique()]"
   ]
  },
  {
   "cell_type": "code",
   "execution_count": 107,
   "metadata": {},
   "outputs": [],
   "source": [
    "def get_num(n):\n",
    "    return n\n",
    "\n",
    "dict_ = {}\n",
    "dict_[1] = get_num"
   ]
  },
  {
   "cell_type": "code",
   "execution_count": 109,
   "metadata": {},
   "outputs": [
    {
     "data": {
      "text/plain": [
       "10"
      ]
     },
     "execution_count": 109,
     "metadata": {},
     "output_type": "execute_result"
    }
   ],
   "source": [
    "dict_[1](10)"
   ]
  },
  {
   "cell_type": "code",
   "execution_count": 111,
   "metadata": {},
   "outputs": [],
   "source": [
    "import pickle\n",
    "with open(\"../../data/train_data/phase-2/prob-2/category_index.pickle\", \"rb\") as file:\n",
    "    category_features = pickle.load(file)"
   ]
  },
  {
   "cell_type": "code",
   "execution_count": 112,
   "metadata": {},
   "outputs": [
    {
     "data": {
      "text/plain": [
       "{'feature2': Index(['arp', 'ospf', 'other', 'sctp', 'tcp', 'udp', 'unas'], dtype='object'),\n",
       " 'feature3': Index(['-', 'dhcp', 'dns', 'ftp', 'ftp-data', 'http', 'other', 'pop3', 'smtp',\n",
       "        'ssh', 'ssl'],\n",
       "       dtype='object'),\n",
       " 'feature4': Index(['CON', 'FIN', 'INT', 'REQ', 'other'], dtype='object')}"
      ]
     },
     "execution_count": 112,
     "metadata": {},
     "output_type": "execute_result"
    }
   ],
   "source": [
    "category_features "
   ]
  },
  {
   "cell_type": "code",
   "execution_count": null,
   "metadata": {},
   "outputs": [],
   "source": []
  }
 ],
 "metadata": {
  "kernelspec": {
   "display_name": "Python 3",
   "language": "python",
   "name": "python3"
  },
  "language_info": {
   "codemirror_mode": {
    "name": "ipython",
    "version": 3
   },
   "file_extension": ".py",
   "mimetype": "text/x-python",
   "name": "python",
   "nbconvert_exporter": "python",
   "pygments_lexer": "ipython3",
   "version": "3.8.10"
  },
  "orig_nbformat": 4
 },
 "nbformat": 4,
 "nbformat_minor": 2
}
