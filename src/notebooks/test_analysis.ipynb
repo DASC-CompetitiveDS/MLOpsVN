{
 "cells": [
  {
   "cell_type": "code",
   "execution_count": 1,
   "metadata": {},
   "outputs": [
    {
     "name": "stdout",
     "output_type": "stream",
     "text": [
      "Append /home/v_user/khiempm/MLOpsVN/src to sys.path\n"
     ]
    }
   ],
   "source": [
    "from import_src import import_src\n",
    "import_src()"
   ]
  },
  {
   "cell_type": "code",
   "execution_count": 2,
   "metadata": {},
   "outputs": [],
   "source": [
    "import pandas as pd\n",
    "import numpy as np\n",
    "import seaborn as sns\n",
    "from matplotlib import pyplot as plt\n",
    "import os\n",
    "import json\n",
    "from plotly import express as px\n",
    "import mlflow\n",
    "import seaborn as sns"
   ]
  },
  {
   "cell_type": "code",
   "execution_count": 3,
   "metadata": {},
   "outputs": [],
   "source": [
    "pd.set_option('display.max_columns', 500)"
   ]
  },
  {
   "cell_type": "code",
   "execution_count": 4,
   "metadata": {},
   "outputs": [],
   "source": [
    "link_data_test_raw = '../../data/captured_data/phase-2/prob-2/raw/'\n",
    "train_raw_data = '../../data/raw_data/phase-2/prob-2/raw_train.parquet'"
   ]
  },
  {
   "cell_type": "code",
   "execution_count": 5,
   "metadata": {},
   "outputs": [],
   "source": [
    "raw_test = pd.DataFrame()\n",
    "count_ = 0\n",
    "for file_path in os.listdir(link_data_test_raw):\n",
    "    if 'parquet' not in file_path or \"123.parquet\" in file_path:\n",
    "        continue\n",
    "    captured_data = pd.read_parquet(f'{link_data_test_raw}{file_path}')\n",
    "    captured_data['parquet_idx'] = count_\n",
    "    raw_test = pd.concat([raw_test, captured_data])\n",
    "    count_ += 1"
   ]
  },
  {
   "cell_type": "code",
   "execution_count": 91,
   "metadata": {},
   "outputs": [],
   "source": [
    "raw_train = pd.read_parquet(train_raw_data)\n",
    "order_cols = raw_train.columns.tolist()\n",
    "order_cols.remove('label')\n",
    "raw_test = raw_test[order_cols]"
   ]
  },
  {
   "cell_type": "code",
   "execution_count": 7,
   "metadata": {},
   "outputs": [],
   "source": [
    "corr_ = raw_train.drop(columns=['feature2', 'feature3', 'feature4', 'label']).corr()"
   ]
  },
  {
   "cell_type": "code",
   "execution_count": 13,
   "metadata": {},
   "outputs": [],
   "source": [
    "cols = raw_train.drop(columns=['feature2', 'feature3', 'feature4', 'label']).columns.tolist()"
   ]
  },
  {
   "cell_type": "code",
   "execution_count": 45,
   "metadata": {},
   "outputs": [],
   "source": [
    "drop_corr = ['feature5', 'feature13', 'feature6', 'feature14', 'feature22', 'feature30', 'feature35', 'feature32', 'feature36', 'feature37']"
   ]
  },
  {
   "cell_type": "code",
   "execution_count": 46,
   "metadata": {},
   "outputs": [],
   "source": [
    "cate_cols = ['feature9', 'feature10', 'feature31']"
   ]
  },
  {
   "cell_type": "code",
   "execution_count": 47,
   "metadata": {},
   "outputs": [
    {
     "data": {
      "text/plain": [
       "0        0.0\n",
       "1        0.0\n",
       "2        2.0\n",
       "3        1.0\n",
       "4        0.0\n",
       "        ... \n",
       "61836    0.0\n",
       "61837    1.0\n",
       "61838    2.0\n",
       "61839    2.0\n",
       "61840    2.0\n",
       "Name: feature31, Length: 61841, dtype: float64"
      ]
     },
     "execution_count": 47,
     "metadata": {},
     "output_type": "execute_result"
    }
   ],
   "source": [
    "raw_train['feature31']"
   ]
  },
  {
   "cell_type": "code",
   "execution_count": 32,
   "metadata": {},
   "outputs": [
    {
     "data": {
      "text/plain": [
       "'float64'"
      ]
     },
     "execution_count": 32,
     "metadata": {},
     "output_type": "execute_result"
    }
   ],
   "source": [
    "str(raw_train[each].dtype)"
   ]
  },
  {
   "cell_type": "code",
   "execution_count": null,
   "metadata": {},
   "outputs": [],
   "source": [
    "drop_cols = ['feature41', 'feature36', 'feature22', 'feature37']"
   ]
  },
  {
   "cell_type": "code",
   "execution_count": 95,
   "metadata": {},
   "outputs": [],
   "source": [
    "def data_processing_phase2_prob2(data, phase=\"train\"):\n",
    "    drop_corr = ['feature5', 'feature13', 'feature6', 'feature14', 'feature22', 'feature30', 'feature35', 'feature32', 'feature36', 'feature37']\n",
    "    convert_cate_cols = ['feature9', 'feature10', 'feature31']\n",
    "    data = data.drop(columns = drop_corr)\n",
    "    for col in convert_cate_cols:\n",
    "        data[col] = data[col].astype(int).astype(str)\n",
    "    cate_cols = ['feature2', 'feature3', 'feature4']\n",
    "    for col in cate_cols:\n",
    "        dict_count = data[col].value_counts().to_dict()\n",
    "        list_below = [key for key, value in dict_count.items() if value / data.shape[0] < 0.0005]\n",
    "        if phase == 'test':\n",
    "            list_below.append('null')\n",
    "        data[col] = data[col].replace({value: 'other' for value in list_below})\n",
    "    return data"
   ]
  },
  {
   "cell_type": "code",
   "execution_count": 106,
   "metadata": {},
   "outputs": [
    {
     "data": {
      "text/plain": [
       "[]"
      ]
     },
     "execution_count": 106,
     "metadata": {},
     "output_type": "execute_result"
    }
   ],
   "source": [
    "[each for each in raw_test_['feature4'].unique() if each not in each for each in raw_train_['feature4'].unique()]"
   ]
  },
  {
   "cell_type": "code",
   "execution_count": 107,
   "metadata": {},
   "outputs": [],
   "source": [
    "def get_num(n):\n",
    "    return n\n",
    "\n",
    "dict_ = {}\n",
    "dict_[1] = get_num"
   ]
  },
  {
   "cell_type": "code",
   "execution_count": 109,
   "metadata": {},
   "outputs": [
    {
     "data": {
      "text/plain": [
       "10"
      ]
     },
     "execution_count": 109,
     "metadata": {},
     "output_type": "execute_result"
    }
   ],
   "source": [
    "dict_[1](10)"
   ]
  },
  {
   "cell_type": "code",
   "execution_count": 111,
   "metadata": {},
   "outputs": [],
   "source": [
    "import pickle\n",
    "with open(\"../../data/train_data/phase-2/prob-2/category_index.pickle\", \"rb\") as file:\n",
    "    category_features = pickle.load(file)"
   ]
  },
  {
   "cell_type": "code",
   "execution_count": 112,
   "metadata": {},
   "outputs": [
    {
     "data": {
      "text/plain": [
       "{'feature2': Index(['arp', 'ospf', 'other', 'sctp', 'tcp', 'udp', 'unas'], dtype='object'),\n",
       " 'feature3': Index(['-', 'dhcp', 'dns', 'ftp', 'ftp-data', 'http', 'other', 'pop3', 'smtp',\n",
       "        'ssh', 'ssl'],\n",
       "       dtype='object'),\n",
       " 'feature4': Index(['CON', 'FIN', 'INT', 'REQ', 'other'], dtype='object')}"
      ]
     },
     "execution_count": 112,
     "metadata": {},
     "output_type": "execute_result"
    }
   ],
   "source": [
    "category_features "
   ]
  },
  {
   "cell_type": "code",
   "execution_count": null,
   "metadata": {},
   "outputs": [],
   "source": []
  }
 ],
 "metadata": {
  "kernelspec": {
   "display_name": "Python 3",
   "language": "python",
   "name": "python3"
  },
  "language_info": {
   "codemirror_mode": {
    "name": "ipython",
    "version": 3
   },
   "file_extension": ".py",
   "mimetype": "text/x-python",
   "name": "python",
   "nbconvert_exporter": "python",
   "pygments_lexer": "ipython3",
   "version": "3.10.6"
  },
  "orig_nbformat": 4
 },
 "nbformat": 4,
 "nbformat_minor": 2
}
