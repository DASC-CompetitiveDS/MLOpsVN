{
 "cells": [
  {
   "cell_type": "code",
   "execution_count": 1,
   "metadata": {},
   "outputs": [
    {
     "name": "stdout",
     "output_type": "stream",
     "text": [
      "Append /home/v_user/khiempm/MLOpsVN/src to sys.path\n"
     ]
    }
   ],
   "source": [
    "from import_src import import_src\n",
    "import_src()"
   ]
  },
  {
   "cell_type": "code",
   "execution_count": 8,
   "metadata": {},
   "outputs": [],
   "source": [
    "import pandas as pd\n",
    "import numpy as np\n",
    "import seaborn as sns\n",
    "from matplotlib import pyplot as plt\n",
    "import os\n",
    "import json\n",
    "from plotly import express as px\n",
    "from sklearn.preprocessing import LabelEncoder\n",
    "import mlflow\n",
    "import time\n",
    "import threading\n",
    "from sklearn.model_selection import StratifiedShuffleSplit, StratifiedKFold\n",
    "import itertools\n",
    "import pickle"
   ]
  },
  {
   "cell_type": "code",
   "execution_count": 9,
   "metadata": {},
   "outputs": [],
   "source": [
    "with open(\"../../data/train_data/phase-3/prob-2/dict_convert.pkl\", 'rb') as file_:\n",
    "    a = pickle.load(file_)"
   ]
  },
  {
   "cell_type": "code",
   "execution_count": 10,
   "metadata": {},
   "outputs": [
    {
     "data": {
      "text/plain": [
       "{'l2i': {'Denial of Service': 0,\n",
       "  'Exploits': 1,\n",
       "  'Information Gathering': 2,\n",
       "  'Malware': 3,\n",
       "  'Normal': 4,\n",
       "  'Other': 5},\n",
       " 'i2l': {0: 'Denial of Service',\n",
       "  1: 'Exploits',\n",
       "  2: 'Information Gathering',\n",
       "  3: 'Malware',\n",
       "  4: 'Normal',\n",
       "  5: 'Other'}}"
      ]
     },
     "execution_count": 10,
     "metadata": {},
     "output_type": "execute_result"
    }
   ],
   "source": [
    "a"
   ]
  },
  {
   "cell_type": "code",
   "execution_count": 7,
   "metadata": {},
   "outputs": [
    {
     "data": {
      "text/plain": [
       "'C'"
      ]
     },
     "execution_count": 7,
     "metadata": {},
     "output_type": "execute_result"
    }
   ],
   "source": [
    "lb.classes_[0]"
   ]
  },
  {
   "cell_type": "code",
   "execution_count": 3,
   "metadata": {},
   "outputs": [],
   "source": [
    "mlflow_evn = \"http://localhost:5000\"\n",
    "mlflow.set_tracking_uri(mlflow_evn)\n",
    "model_uri = os.path.join(\n",
    "    \"models:/\", \"phase-3_prob-2_lgbm_cv_specific_handle\", \"5\"\n",
    ")\n",
    "input_schema = mlflow.models.Model.load(model_uri).get_input_schema().to_dict()\n",
    "model = mlflow.sklearn.load_model(model_uri)\n",
    "get_features = [each['name'] for each in input_schema]"
   ]
  },
  {
   "cell_type": "code",
   "execution_count": 16,
   "metadata": {},
   "outputs": [],
   "source": [
    "link_data_test_raw_32 = '../../data/captured_data/phase-3/prob-2/raw/'\n",
    "link_data_test_raw_22 = '../../data/captured_data/phase-2/prob-2/raw/'\n",
    "link_data_test_processed_32 = '../../data/captured_data/phase-3/prob-2/'\n",
    "train_raw_data_32 = '../../data/raw_data/phase-3/prob-2/raw_train.parquet'\n",
    "train_raw_data_22 = '../../data/raw_data/phase-2/prob-2/raw_train.parquet'\n",
    "link_y_data_32 = '../../data/train_data/phase-3/prob-2/train_y.parquet'\n",
    "link_train_data_32 = '../../data/train_data/phase-3/prob-2/train_x_0.parquet'\n",
    "link_test_data_32 = '../../data/train_data/phase-3/prob-2/test_x.parquet'\n",
    "link_y_test_data_32 =   '../../data/train_data/phase-3/prob-2/test_y.parquet'\n",
    "# link_y_test_data_32 =   '../../data/train_data/phase-3/prob-2/test_y.parquet'\n"
   ]
  },
  {
   "cell_type": "code",
   "execution_count": 17,
   "metadata": {},
   "outputs": [],
   "source": [
    "check = pd.read_parquet(link_y_data_32)"
   ]
  },
  {
   "cell_type": "code",
   "execution_count": 19,
   "metadata": {},
   "outputs": [
    {
     "data": {
      "text/plain": [
       "0           Other\n",
       "1          Normal\n",
       "2        Exploits\n",
       "3          Normal\n",
       "4           Other\n",
       "           ...   \n",
       "77407      Normal\n",
       "77408    Exploits\n",
       "77409    Exploits\n",
       "77410      Normal\n",
       "77411    Exploits\n",
       "Name: label, Length: 77412, dtype: object"
      ]
     },
     "execution_count": 19,
     "metadata": {},
     "output_type": "execute_result"
    }
   ],
   "source": [
    "check['label']"
   ]
  },
  {
   "cell_type": "code",
   "execution_count": 33,
   "metadata": {},
   "outputs": [],
   "source": [
    "train_data = pd.read_parquet(link_train_data_32)"
   ]
  },
  {
   "cell_type": "code",
   "execution_count": 39,
   "metadata": {},
   "outputs": [
    {
     "data": {
      "text/plain": [
       "0.11394874179713739"
      ]
     },
     "execution_count": 39,
     "metadata": {},
     "output_type": "execute_result"
    }
   ],
   "source": [
    "train_data[train_data['feature2'] == -1].shape[0] / train_data.shape[0]"
   ]
  },
  {
   "cell_type": "code",
   "execution_count": 5,
   "metadata": {},
   "outputs": [],
   "source": [
    "def combine_parquet_test(url_test, parquet=False):\n",
    "    raw_test = pd.DataFrame()\n",
    "    count_ = 0\n",
    "    for file_path in os.listdir(url_test):\n",
    "        if 'parquet' not in file_path or \"123.parquet\" in file_path:\n",
    "            continue\n",
    "        captured_data = pd.read_parquet(f'{url_test}{file_path}')\n",
    "        if parquet:\n",
    "            captured_data['parquet_idx'] = count_\n",
    "        raw_test = pd.concat([raw_test, captured_data])\n",
    "        count_ += 1\n",
    "    print(count_)\n",
    "    return raw_test.reset_index(drop=True)"
   ]
  },
  {
   "cell_type": "code",
   "execution_count": 23,
   "metadata": {},
   "outputs": [
    {
     "name": "stdout",
     "output_type": "stream",
     "text": [
      "200\n"
     ]
    }
   ],
   "source": [
    "raw_test_32 = combine_parquet_test(link_data_test_raw_32)\n",
    "raw_data_32 = pd.read_parquet(train_raw_data_32)\n",
    "feature_columns = raw_data_32.columns.tolist()\n",
    "feature_columns.remove(\"label\")\n",
    "raw_test_32 = raw_test_32[feature_columns]"
   ]
  },
  {
   "cell_type": "code",
   "execution_count": 44,
   "metadata": {},
   "outputs": [
    {
     "data": {
      "text/plain": [
       "[(1,), (2,), (3,), ('K',), (5,)]"
      ]
     },
     "execution_count": 44,
     "metadata": {},
     "output_type": "execute_result"
    }
   ],
   "source": [
    "list(itertools.combinations([1,2,3,\"K\",5], 1))"
   ]
  },
  {
   "cell_type": "code",
   "execution_count": 29,
   "metadata": {},
   "outputs": [
    {
     "data": {
      "text/plain": [
       "0.019080034836393367"
      ]
     },
     "execution_count": 29,
     "metadata": {},
     "output_type": "execute_result"
    }
   ],
   "source": [
    "raw_test_32[~(raw_test_32['feature2'] == 'null') & (raw_test_32['feature3'] == 'unknown') & ~(raw_test_32['feature4'] == 'null')].shape[0] / raw_test_32.shape[0]"
   ]
  },
  {
   "cell_type": "code",
   "execution_count": 40,
   "metadata": {},
   "outputs": [
    {
     "data": {
      "text/plain": [
       "feature4\n",
       "INT     0.397459\n",
       "FIN     0.397103\n",
       "null    0.125555\n",
       "CON     0.065132\n",
       "REQ     0.014395\n",
       "ECO     0.000267\n",
       "RST     0.000089\n",
       "Name: count, dtype: float64"
      ]
     },
     "execution_count": 40,
     "metadata": {},
     "output_type": "execute_result"
    }
   ],
   "source": [
    "t = raw_test_32.groupby('feature4', group_keys=False).apply(lambda x: x.sample(frac=0.05))\n",
    "t['feature4'].value_counts() / t['feature4'].shape[0]"
   ]
  },
  {
   "cell_type": "code",
   "execution_count": 17,
   "metadata": {},
   "outputs": [],
   "source": [
    "def generate_index_missing_values(data, target_col, per, unavailable_index):\n",
    "    data['save_index'] = data.index.tolist()\n",
    "    left_index = list(set(data.index.tolist()) ^ set(unavailable_index))\n",
    "    left_data = data.loc[left_index].reset_index(drop=True)\n",
    "    left_data = left_data.groupby(target_col, group_keys=False).apply(lambda x: x.sample(frac=per))\n",
    "    del unavailable_index, data\n",
    "    return left_data['save_index'].values.tolist()\n",
    "\n",
    "def generate_missing_specific_columns(data, list_columns, missing_rate, target_col='label', unavailable_index=[], step=None):\n",
    "    step = len(list_columns) if step is None else step\n",
    "    idx_miss = len(missing_rate)\n",
    "    combinations = list(itertools.combinations(list_columns, step))\n",
    "    for comb in combinations:\n",
    "        missing_index = generate_index_missing_values(data[[target_col]], target_col, missing_rate[idx_miss - step], unavailable_index.copy())\n",
    "        unavailable_index = [*unavailable_index, *missing_index]\n",
    "        for col in comb:\n",
    "            data.loc[missing_index, col] = np.nan\n",
    "            print(f\"Col {col} - missing rate {data[col].isna().sum() / data.shape[0]}\")\n",
    "    if step == 1:\n",
    "        return data \n",
    "    return generate_missing_specific_columns(data, list_columns, missing_rate, target_col, unavailable_index, step - 1)\n"
   ]
  },
  {
   "cell_type": "code",
   "execution_count": 24,
   "metadata": {},
   "outputs": [
    {
     "name": "stderr",
     "output_type": "stream",
     "text": [
      "/tmp/ipykernel_86183/3653710991.py:2: SettingWithCopyWarning: \n",
      "A value is trying to be set on a copy of a slice from a DataFrame.\n",
      "Try using .loc[row_indexer,col_indexer] = value instead\n",
      "\n",
      "See the caveats in the documentation: https://pandas.pydata.org/pandas-docs/stable/user_guide/indexing.html#returning-a-view-versus-a-copy\n",
      "  data['save_index'] = data.index.tolist()\n",
      "/tmp/ipykernel_86183/3653710991.py:2: SettingWithCopyWarning: \n",
      "A value is trying to be set on a copy of a slice from a DataFrame.\n",
      "Try using .loc[row_indexer,col_indexer] = value instead\n",
      "\n",
      "See the caveats in the documentation: https://pandas.pydata.org/pandas-docs/stable/user_guide/indexing.html#returning-a-view-versus-a-copy\n",
      "  data['save_index'] = data.index.tolist()\n",
      "/tmp/ipykernel_86183/3653710991.py:2: SettingWithCopyWarning: \n",
      "A value is trying to be set on a copy of a slice from a DataFrame.\n",
      "Try using .loc[row_indexer,col_indexer] = value instead\n",
      "\n",
      "See the caveats in the documentation: https://pandas.pydata.org/pandas-docs/stable/user_guide/indexing.html#returning-a-view-versus-a-copy\n",
      "  data['save_index'] = data.index.tolist()\n",
      "/tmp/ipykernel_86183/3653710991.py:2: SettingWithCopyWarning: \n",
      "A value is trying to be set on a copy of a slice from a DataFrame.\n",
      "Try using .loc[row_indexer,col_indexer] = value instead\n",
      "\n",
      "See the caveats in the documentation: https://pandas.pydata.org/pandas-docs/stable/user_guide/indexing.html#returning-a-view-versus-a-copy\n",
      "  data['save_index'] = data.index.tolist()\n"
     ]
    },
    {
     "name": "stdout",
     "output_type": "stream",
     "text": [
      "Col feature2 - missing rate 0.04001638602013756\n",
      "Col feature3 - missing rate 0.04001638602013756\n",
      "Col feature4 - missing rate 0.04001638602013756\n",
      "Col feature2 - missing rate 0.068799724024924\n",
      "Col feature3 - missing rate 0.068799724024924\n",
      "Col feature2 - missing rate 0.09673142019361376\n",
      "Col feature4 - missing rate 0.06794808218882732\n",
      "Col feature3 - missing rate 0.09590133891032966\n",
      "Col feature4 - missing rate 0.09504969707423298\n",
      "Col feature2 - missing rate 0.11427092990664281\n",
      "Col feature3 - missing rate 0.11307431922554494\n",
      "Col feature4 - missing rate 0.11189926909725965\n"
     ]
    },
    {
     "name": "stderr",
     "output_type": "stream",
     "text": [
      "/tmp/ipykernel_86183/3653710991.py:2: SettingWithCopyWarning: \n",
      "A value is trying to be set on a copy of a slice from a DataFrame.\n",
      "Try using .loc[row_indexer,col_indexer] = value instead\n",
      "\n",
      "See the caveats in the documentation: https://pandas.pydata.org/pandas-docs/stable/user_guide/indexing.html#returning-a-view-versus-a-copy\n",
      "  data['save_index'] = data.index.tolist()\n",
      "/tmp/ipykernel_86183/3653710991.py:2: SettingWithCopyWarning: \n",
      "A value is trying to be set on a copy of a slice from a DataFrame.\n",
      "Try using .loc[row_indexer,col_indexer] = value instead\n",
      "\n",
      "See the caveats in the documentation: https://pandas.pydata.org/pandas-docs/stable/user_guide/indexing.html#returning-a-view-versus-a-copy\n",
      "  data['save_index'] = data.index.tolist()\n",
      "/tmp/ipykernel_86183/3653710991.py:2: SettingWithCopyWarning: \n",
      "A value is trying to be set on a copy of a slice from a DataFrame.\n",
      "Try using .loc[row_indexer,col_indexer] = value instead\n",
      "\n",
      "See the caveats in the documentation: https://pandas.pydata.org/pandas-docs/stable/user_guide/indexing.html#returning-a-view-versus-a-copy\n",
      "  data['save_index'] = data.index.tolist()\n"
     ]
    }
   ],
   "source": [
    "raw_data_32 = generate_missing_specific_columns(raw_data_32, ['feature2', 'feature3', 'feature4'], [0.04, 0.03, 0.02])"
   ]
  },
  {
   "cell_type": "code",
   "execution_count": 31,
   "metadata": {},
   "outputs": [
    {
     "data": {
      "text/plain": [
       "0.017539509713029044"
      ]
     },
     "execution_count": 31,
     "metadata": {},
     "output_type": "execute_result"
    }
   ],
   "source": [
    "raw_data_32[(raw_data_32['feature2'].isna()) & ~(raw_data_32['feature3'].isna()) & ~(raw_data_32['feature4'].isna())].shape[0] / raw_data_32.shape[0]"
   ]
  },
  {
   "cell_type": "code",
   "execution_count": 7,
   "metadata": {},
   "outputs": [],
   "source": [
    "col_num = feature_columns.copy()\n",
    "col_num.remove('feature2')\n",
    "col_num.remove('feature3')\n",
    "col_num.remove('feature4')"
   ]
  },
  {
   "cell_type": "code",
   "execution_count": 9,
   "metadata": {},
   "outputs": [],
   "source": [
    "corr_df = raw_data_32[col_num].corr().reset_index(drop=True)"
   ]
  },
  {
   "cell_type": "code",
   "execution_count": 7,
   "metadata": {},
   "outputs": [
    {
     "data": {
      "text/plain": [
       "feature9\n",
       "254.0    60740\n",
       "31.0     20215\n",
       "62.0     10113\n",
       "0.0       1540\n",
       "64.0        72\n",
       "1.0         31\n",
       "29.0        14\n",
       "63.0        12\n",
       "60.0        12\n",
       "255.0        8\n",
       "32.0         4\n",
       "30.0         1\n",
       "Name: count, dtype: int64"
      ]
     },
     "execution_count": 7,
     "metadata": {},
     "output_type": "execute_result"
    }
   ],
   "source": [
    "raw_data_32['feature9'].value_counts()"
   ]
  },
  {
   "cell_type": "code",
   "execution_count": 21,
   "metadata": {},
   "outputs": [
    {
     "data": {
      "text/plain": [
       "feature10\n",
       "0.0      105910\n",
       "252.0     69735\n",
       "29.0      48555\n",
       "60.0        816\n",
       "31.0         18\n",
       "32.0         18\n",
       "Name: count, dtype: int64"
      ]
     },
     "execution_count": 21,
     "metadata": {},
     "output_type": "execute_result"
    }
   ],
   "source": [
    "raw_test_32['feature10'].value_counts()"
   ]
  },
  {
   "cell_type": "code",
   "execution_count": 17,
   "metadata": {},
   "outputs": [
    {
     "data": {
      "text/plain": [
       "feature9\n",
       "254.0    148252\n",
       "31.0      48519\n",
       "62.0      24194\n",
       "0.0        3672\n",
       "64.0        180\n",
       "63.0         73\n",
       "32.0         36\n",
       "29.0         36\n",
       "255.0        36\n",
       "1.0          36\n",
       "60.0         18\n",
       "Name: count, dtype: int64"
      ]
     },
     "execution_count": 17,
     "metadata": {},
     "output_type": "execute_result"
    }
   ],
   "source": [
    "raw_test_32['feature9'].value_counts()"
   ]
  },
  {
   "cell_type": "code",
   "execution_count": 18,
   "metadata": {},
   "outputs": [
    {
     "data": {
      "text/plain": [
       "feature9\n",
       "254.0    60740\n",
       "31.0     20215\n",
       "62.0     10113\n",
       "0.0       1540\n",
       "64.0        72\n",
       "1.0         31\n",
       "29.0        14\n",
       "63.0        12\n",
       "60.0        12\n",
       "255.0        8\n",
       "32.0         4\n",
       "30.0         1\n",
       "Name: count, dtype: int64"
      ]
     },
     "execution_count": 18,
     "metadata": {},
     "output_type": "execute_result"
    }
   ],
   "source": [
    "raw_data_32['feature9'].value_counts()"
   ]
  },
  {
   "cell_type": "code",
   "execution_count": 12,
   "metadata": {},
   "outputs": [
    {
     "data": {
      "text/plain": [
       "feature26\n",
       "57.0      21502\n",
       "100.0     11319\n",
       "53.0       3284\n",
       "73.0       2751\n",
       "56.0       2666\n",
       "          ...  \n",
       "1484.0        1\n",
       "1397.0        1\n",
       "769.0         1\n",
       "930.0         1\n",
       "1019.0        1\n",
       "Name: count, Length: 1277, dtype: int64"
      ]
     },
     "execution_count": 12,
     "metadata": {},
     "output_type": "execute_result"
    }
   ],
   "source": [
    "raw_data_32['feature26'].value_counts()"
   ]
  },
  {
   "cell_type": "code",
   "execution_count": 14,
   "metadata": {},
   "outputs": [
    {
     "data": {
      "text/html": [
       "<div>\n",
       "<style scoped>\n",
       "    .dataframe tbody tr th:only-of-type {\n",
       "        vertical-align: middle;\n",
       "    }\n",
       "\n",
       "    .dataframe tbody tr th {\n",
       "        vertical-align: top;\n",
       "    }\n",
       "\n",
       "    .dataframe thead th {\n",
       "        text-align: right;\n",
       "    }\n",
       "</style>\n",
       "<table border=\"1\" class=\"dataframe\">\n",
       "  <thead>\n",
       "    <tr style=\"text-align: right;\">\n",
       "      <th></th>\n",
       "      <th>feature1</th>\n",
       "      <th>feature2</th>\n",
       "      <th>feature3</th>\n",
       "      <th>feature4</th>\n",
       "      <th>feature5</th>\n",
       "      <th>feature6</th>\n",
       "      <th>feature7</th>\n",
       "      <th>feature8</th>\n",
       "      <th>feature9</th>\n",
       "      <th>feature10</th>\n",
       "      <th>...</th>\n",
       "      <th>feature33</th>\n",
       "      <th>feature34</th>\n",
       "      <th>feature35</th>\n",
       "      <th>feature36</th>\n",
       "      <th>feature37</th>\n",
       "      <th>feature38</th>\n",
       "      <th>feature39</th>\n",
       "      <th>feature40</th>\n",
       "      <th>feature41</th>\n",
       "      <th>label</th>\n",
       "    </tr>\n",
       "  </thead>\n",
       "  <tbody>\n",
       "  </tbody>\n",
       "</table>\n",
       "<p>0 rows × 42 columns</p>\n",
       "</div>"
      ],
      "text/plain": [
       "Empty DataFrame\n",
       "Columns: [feature1, feature2, feature3, feature4, feature5, feature6, feature7, feature8, feature9, feature10, feature11, feature12, feature13, feature14, feature15, feature16, feature17, feature18, feature19, feature20, feature21, feature22, feature23, feature24, feature25, feature26, feature27, feature28, feature29, feature30, feature31, feature32, feature33, feature34, feature35, feature36, feature37, feature38, feature39, feature40, feature41, label]\n",
       "Index: []\n",
       "\n",
       "[0 rows x 42 columns]"
      ]
     },
     "execution_count": 14,
     "metadata": {},
     "output_type": "execute_result"
    }
   ],
   "source": [
    "raw_data_32[raw_data_32['feature40'] == 0]"
   ]
  },
  {
   "cell_type": "code",
   "execution_count": 21,
   "metadata": {},
   "outputs": [
    {
     "data": {
      "text/plain": [
       "feature40\n",
       "1.0     21142\n",
       "2.0     10253\n",
       "3.0      8712\n",
       "4.0      6832\n",
       "5.0      5693\n",
       "6.0      4793\n",
       "7.0      3863\n",
       "8.0      2721\n",
       "9.0      2151\n",
       "10.0     2124\n",
       "33.0     1644\n",
       "11.0     1433\n",
       "12.0     1413\n",
       "16.0     1264\n",
       "14.0     1237\n",
       "17.0     1073\n",
       "34.0     1057\n",
       "18.0      919\n",
       "13.0      910\n",
       "29.0      830\n",
       "26.0      827\n",
       "32.0      765\n",
       "28.0      757\n",
       "27.0      728\n",
       "30.0      703\n",
       "31.0      699\n",
       "25.0      648\n",
       "23.0      642\n",
       "24.0      616\n",
       "21.0      560\n",
       "22.0      547\n",
       "15.0      513\n",
       "19.0      480\n",
       "20.0      462\n",
       "37.0      457\n",
       "35.0      445\n",
       "39.0      366\n",
       "36.0      348\n",
       "43.0      330\n",
       "38.0      292\n",
       "40.0      275\n",
       "42.0      192\n",
       "45.0      180\n",
       "44.0      165\n",
       "41.0      159\n",
       "46.0      119\n",
       "51.0      118\n",
       "47.0       65\n",
       "50.0       61\n",
       "48.0       50\n",
       "49.0       41\n",
       "52.0       20\n",
       "62.0       20\n",
       "59.0       14\n",
       "54.0       13\n",
       "58.0       12\n",
       "53.0        9\n",
       "Name: count, dtype: int64"
      ]
     },
     "execution_count": 21,
     "metadata": {},
     "output_type": "execute_result"
    }
   ],
   "source": [
    "raw_data_32['feature40'].value_counts()"
   ]
  },
  {
   "cell_type": "code",
   "execution_count": 22,
   "metadata": {},
   "outputs": [
    {
     "data": {
      "text/plain": [
       "feature40\n",
       "1.0     51374\n",
       "2.0     25150\n",
       "3.0     21030\n",
       "4.0     16137\n",
       "5.0     13668\n",
       "6.0     11580\n",
       "7.0      8645\n",
       "8.0      6475\n",
       "9.0      5775\n",
       "10.0     4960\n",
       "33.0     3980\n",
       "11.0     3813\n",
       "12.0     3621\n",
       "14.0     3151\n",
       "16.0     2928\n",
       "17.0     2654\n",
       "34.0     2465\n",
       "13.0     2324\n",
       "26.0     2094\n",
       "18.0     2016\n",
       "30.0     1922\n",
       "25.0     1839\n",
       "29.0     1837\n",
       "28.0     1801\n",
       "22.0     1686\n",
       "32.0     1679\n",
       "27.0     1605\n",
       "31.0     1597\n",
       "24.0     1534\n",
       "23.0     1381\n",
       "15.0     1344\n",
       "20.0     1333\n",
       "35.0     1257\n",
       "21.0     1214\n",
       "37.0     1108\n",
       "36.0     1093\n",
       "19.0      999\n",
       "43.0      964\n",
       "39.0      816\n",
       "38.0      759\n",
       "40.0      580\n",
       "41.0      564\n",
       "42.0      415\n",
       "45.0      404\n",
       "44.0      349\n",
       "51.0      329\n",
       "46.0      164\n",
       "47.0      128\n",
       "50.0      127\n",
       "48.0      108\n",
       "62.0       74\n",
       "49.0       73\n",
       "53.0       37\n",
       "52.0       37\n",
       "58.0       37\n",
       "54.0       18\n",
       "Name: count, dtype: int64"
      ]
     },
     "execution_count": 22,
     "metadata": {},
     "output_type": "execute_result"
    }
   ],
   "source": [
    "raw_test_32['feature40'].value_counts()"
   ]
  },
  {
   "cell_type": "code",
   "execution_count": null,
   "metadata": {},
   "outputs": [],
   "source": []
  }
 ],
 "metadata": {
  "kernelspec": {
   "display_name": "Python 3",
   "language": "python",
   "name": "python3"
  },
  "language_info": {
   "codemirror_mode": {
    "name": "ipython",
    "version": 3
   },
   "file_extension": ".py",
   "mimetype": "text/x-python",
   "name": "python",
   "nbconvert_exporter": "python",
   "pygments_lexer": "ipython3",
   "version": "3.8.10"
  },
  "orig_nbformat": 4
 },
 "nbformat": 4,
 "nbformat_minor": 2
}
