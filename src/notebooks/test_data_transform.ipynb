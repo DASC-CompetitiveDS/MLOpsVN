{
 "cells": [
  {
   "cell_type": "code",
   "execution_count": 5,
   "metadata": {},
   "outputs": [
    {
     "name": "stdout",
     "output_type": "stream",
     "text": [
      "Append /home/ubuntu/tungpth/MLOpsVN/src to sys.path\n"
     ]
    }
   ],
   "source": [
    "# Important Setup\n",
    "# OPTIONAL: Load the \"autoreload\" extension so that code can change\n",
    "%load_ext autoreload\n",
    "\n",
    "# OPTIONAL: always reload modules so that as you change code in src, it gets loaded\n",
    "%autoreload 2\n",
    "from import_src import import_src\n",
    "import_src()"
   ]
  },
  {
   "cell_type": "code",
   "execution_count": 2,
   "metadata": {},
   "outputs": [],
   "source": [
    "import pandas as pd"
   ]
  },
  {
   "cell_type": "code",
   "execution_count": 37,
   "metadata": {},
   "outputs": [],
   "source": [
    "from raw_data_processor import RawDataProcessor\n",
    "import pickle\n",
    "import json\n",
    "from functools import partial"
   ]
  },
  {
   "cell_type": "code",
   "execution_count": 67,
   "metadata": {},
   "outputs": [],
   "source": [
    "raw_df = pd.read_parquet('../../data/raw_data/phase-2/prob-2/raw_train.parquet').iloc[:1000]"
   ]
  },
  {
   "cell_type": "code",
   "execution_count": 68,
   "metadata": {},
   "outputs": [],
   "source": [
    "with open('../../data/train_data/phase-2/prob-2/category_index.pickle', \"rb\") as f:\n",
    "    category_index =  pickle.load(f)\n"
   ]
  },
  {
   "cell_type": "code",
   "execution_count": 69,
   "metadata": {},
   "outputs": [],
   "source": [
    "# category_index"
   ]
  },
  {
   "cell_type": "code",
   "execution_count": 70,
   "metadata": {},
   "outputs": [],
   "source": [
    "with open('../../data/train_data/phase-2/prob-2/features_config.json') as f:\n",
    "    features_config = json.load(f)\n"
   ]
  },
  {
   "cell_type": "code",
   "execution_count": 71,
   "metadata": {},
   "outputs": [],
   "source": [
    "categorical_cols = features_config['category_columns']"
   ]
  },
  {
   "cell_type": "code",
   "execution_count": 72,
   "metadata": {},
   "outputs": [
    {
     "data": {
      "text/plain": [
       "{'feature2': Index(['3pc', 'a/n', 'aes-sp3-d', 'any', 'argus', 'aris', 'arp', 'ax.25',\n",
       "        'bbn-rcc', 'bna',\n",
       "        ...\n",
       "        'visa', 'vmtp', 'vrrp', 'wb-expak', 'wb-mon', 'wsn', 'xnet', 'xns-idp',\n",
       "        'xtp', 'zero'],\n",
       "       dtype='object', length=132),\n",
       " 'feature3': Index(['-', 'dhcp', 'dns', 'ftp', 'ftp-data', 'http', 'irc', 'pop3', 'radius',\n",
       "        'smtp', 'snmp', 'ssh', 'ssl'],\n",
       "       dtype='object'),\n",
       " 'feature4': Index(['ACC', 'CON', 'ECO', 'FIN', 'INT', 'REQ', 'RST'], dtype='object')}"
      ]
     },
     "execution_count": 72,
     "metadata": {},
     "output_type": "execute_result"
    }
   ],
   "source": [
    "category_index"
   ]
  },
  {
   "cell_type": "code",
   "execution_count": 73,
   "metadata": {},
   "outputs": [],
   "source": [
    "apply_cat_func = lambda col, category_index_col: pd.Series(pd.Categorical(col, categories=category_index_col).codes)"
   ]
  },
  {
   "cell_type": "code",
   "execution_count": 74,
   "metadata": {},
   "outputs": [],
   "source": [
    "dict_func = {key:partial(apply_cat_func, category_index_col=category_index[key]) for key in category_index.keys()}"
   ]
  },
  {
   "cell_type": "code",
   "execution_count": 75,
   "metadata": {},
   "outputs": [
    {
     "data": {
      "text/plain": [
       "{'feature2': functools.partial(<function <lambda> at 0x7f4b662afe50>, category_index_col=Index(['3pc', 'a/n', 'aes-sp3-d', 'any', 'argus', 'aris', 'arp', 'ax.25',\n",
       "        'bbn-rcc', 'bna',\n",
       "        ...\n",
       "        'visa', 'vmtp', 'vrrp', 'wb-expak', 'wb-mon', 'wsn', 'xnet', 'xns-idp',\n",
       "        'xtp', 'zero'],\n",
       "       dtype='object', length=132)),\n",
       " 'feature3': functools.partial(<function <lambda> at 0x7f4b662afe50>, category_index_col=Index(['-', 'dhcp', 'dns', 'ftp', 'ftp-data', 'http', 'irc', 'pop3', 'radius',\n",
       "        'smtp', 'snmp', 'ssh', 'ssl'],\n",
       "       dtype='object')),\n",
       " 'feature4': functools.partial(<function <lambda> at 0x7f4b662afe50>, category_index_col=Index(['ACC', 'CON', 'ECO', 'FIN', 'INT', 'REQ', 'RST'], dtype='object'))}"
      ]
     },
     "execution_count": 75,
     "metadata": {},
     "output_type": "execute_result"
    }
   ],
   "source": [
    "dict_func"
   ]
  },
  {
   "cell_type": "code",
   "execution_count": 65,
   "metadata": {},
   "outputs": [],
   "source": [
    "# dict_func = {key:'index' for key in category_index.keys()}\n",
    "# dict_func"
   ]
  },
  {
   "cell_type": "code",
   "execution_count": 80,
   "metadata": {},
   "outputs": [
    {
     "name": "stdout",
     "output_type": "stream",
     "text": [
      "4.06 ms ± 7.43 µs per loop (mean ± std. dev. of 7 runs, 100 loops each)\n"
     ]
    }
   ],
   "source": [
    "%%timeit\n",
    "\n",
    "apply_df = raw_df.copy()\n",
    "# for col in categorical_cols:\n",
    "#     apply_df[col] = apply_df[col].astype(\"category\")\n",
    "#     apply_df[col] = pd.Categorical(\n",
    "#         apply_df[col],\n",
    "#         categories=category_index[col],\n",
    "#     ).codes\n",
    "apply_df[categorical_cols] = apply_df[categorical_cols].astype('category')\n",
    "\n",
    "# apply_cat_func = lambda col: pd.Categorical(col, categories=category_index[col]).codes    \n",
    "# def apply_cat_func(col):\n",
    "#     # print(type(col))\n",
    "#     print(col)\n",
    "#     return pd.Categorical(col, categories=category_index[col]).codes\n",
    "#     # return col\n",
    "\n",
    "apply_df[categorical_cols] = apply_df[categorical_cols].transform(dict_func)\n",
    "\n"
   ]
  },
  {
   "cell_type": "code",
   "execution_count": 83,
   "metadata": {},
   "outputs": [
    {
     "name": "stdout",
     "output_type": "stream",
     "text": [
      "1.05 ms ± 1.51 µs per loop (mean ± std. dev. of 7 runs, 1,000 loops each)\n"
     ]
    }
   ],
   "source": [
    "%%timeit\n",
    "\n",
    "apply_df = raw_df.copy()\n",
    "for col in categorical_cols:\n",
    "    # apply_df[col] = apply_df[col].astype(\"category\")\n",
    "    apply_df[col] = pd.Categorical(\n",
    "        apply_df[col],\n",
    "        categories=category_index[col],\n",
    "    ).codes\n"
   ]
  },
  {
   "cell_type": "code",
   "execution_count": null,
   "metadata": {},
   "outputs": [],
   "source": []
  }
 ],
 "metadata": {
  "kernelspec": {
   "display_name": "Python 3",
   "language": "python",
   "name": "python3"
  },
  "language_info": {
   "codemirror_mode": {
    "name": "ipython",
    "version": 3
   },
   "file_extension": ".py",
   "mimetype": "text/x-python",
   "name": "python",
   "nbconvert_exporter": "python",
   "pygments_lexer": "ipython3",
   "version": "3.8.10"
  },
  "orig_nbformat": 4
 },
 "nbformat": 4,
 "nbformat_minor": 2
}
