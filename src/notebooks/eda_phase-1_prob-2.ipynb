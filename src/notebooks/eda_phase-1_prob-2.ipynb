{
 "cells": [
  {
   "cell_type": "code",
   "execution_count": 1,
   "metadata": {},
   "outputs": [
    {
     "name": "stdout",
     "output_type": "stream",
     "text": [
      "Append /home/v_user/tungpth_ws/MLOpsVN/src to sys.path\n"
     ]
    }
   ],
   "source": [
    "from import_src import import_src\n",
    "import_src()"
   ]
  },
  {
   "cell_type": "code",
   "execution_count": 2,
   "metadata": {},
   "outputs": [],
   "source": [
    "from raw_data_processor import RawDataProcessor"
   ]
  },
  {
   "cell_type": "code",
   "execution_count": 3,
   "metadata": {},
   "outputs": [],
   "source": [
    "import pandas as pd\n",
    "import numpy as np\n",
    "import seaborn as sns\n",
    "from matplotlib import pyplot as plt\n",
    "import os\n",
    "import json\n",
    "from plotly import express as px"
   ]
  },
  {
   "cell_type": "code",
   "execution_count": 4,
   "metadata": {},
   "outputs": [],
   "source": [
    "SRC_DIR = '../../data/raw_data/phase-1/prob-2'"
   ]
  },
  {
   "cell_type": "code",
   "execution_count": 5,
   "metadata": {},
   "outputs": [
    {
     "data": {
      "text/html": [
       "<div>\n",
       "<style scoped>\n",
       "    .dataframe tbody tr th:only-of-type {\n",
       "        vertical-align: middle;\n",
       "    }\n",
       "\n",
       "    .dataframe tbody tr th {\n",
       "        vertical-align: top;\n",
       "    }\n",
       "\n",
       "    .dataframe thead th {\n",
       "        text-align: right;\n",
       "    }\n",
       "</style>\n",
       "<table border=\"1\" class=\"dataframe\">\n",
       "  <thead>\n",
       "    <tr style=\"text-align: right;\">\n",
       "      <th></th>\n",
       "      <th>feature1</th>\n",
       "      <th>feature2</th>\n",
       "      <th>feature3</th>\n",
       "      <th>feature4</th>\n",
       "      <th>feature5</th>\n",
       "      <th>feature6</th>\n",
       "      <th>feature7</th>\n",
       "      <th>feature8</th>\n",
       "      <th>feature9</th>\n",
       "      <th>feature10</th>\n",
       "      <th>...</th>\n",
       "      <th>feature12</th>\n",
       "      <th>feature13</th>\n",
       "      <th>feature14</th>\n",
       "      <th>feature15</th>\n",
       "      <th>feature16</th>\n",
       "      <th>feature17</th>\n",
       "      <th>feature18</th>\n",
       "      <th>feature19</th>\n",
       "      <th>feature20</th>\n",
       "      <th>label</th>\n",
       "    </tr>\n",
       "  </thead>\n",
       "  <tbody>\n",
       "    <tr>\n",
       "      <th>0</th>\n",
       "      <td>V1</td>\n",
       "      <td>4.781942</td>\n",
       "      <td>V2</td>\n",
       "      <td>V8</td>\n",
       "      <td>1337.025331</td>\n",
       "      <td>V4</td>\n",
       "      <td>V4</td>\n",
       "      <td>2.0</td>\n",
       "      <td>V2</td>\n",
       "      <td>V0</td>\n",
       "      <td>...</td>\n",
       "      <td>V2</td>\n",
       "      <td>35.689494</td>\n",
       "      <td>none</td>\n",
       "      <td>V1</td>\n",
       "      <td>1.0</td>\n",
       "      <td>V2</td>\n",
       "      <td>1.0</td>\n",
       "      <td>none</td>\n",
       "      <td>yes</td>\n",
       "      <td>0</td>\n",
       "    </tr>\n",
       "    <tr>\n",
       "      <th>1</th>\n",
       "      <td>V3</td>\n",
       "      <td>22.764682</td>\n",
       "      <td>V4</td>\n",
       "      <td>V2</td>\n",
       "      <td>1664.415301</td>\n",
       "      <td>V0</td>\n",
       "      <td>V4</td>\n",
       "      <td>4.0</td>\n",
       "      <td>V1</td>\n",
       "      <td>V0</td>\n",
       "      <td>...</td>\n",
       "      <td>V0</td>\n",
       "      <td>23.265980</td>\n",
       "      <td>none</td>\n",
       "      <td>V1</td>\n",
       "      <td>2.0</td>\n",
       "      <td>V2</td>\n",
       "      <td>1.0</td>\n",
       "      <td>none</td>\n",
       "      <td>yes</td>\n",
       "      <td>0</td>\n",
       "    </tr>\n",
       "    <tr>\n",
       "      <th>2</th>\n",
       "      <td>V3</td>\n",
       "      <td>7.462099</td>\n",
       "      <td>V2</td>\n",
       "      <td>V3</td>\n",
       "      <td>750.653224</td>\n",
       "      <td>V3</td>\n",
       "      <td>V2</td>\n",
       "      <td>4.0</td>\n",
       "      <td>V2</td>\n",
       "      <td>V0</td>\n",
       "      <td>...</td>\n",
       "      <td>V2</td>\n",
       "      <td>34.060872</td>\n",
       "      <td>stores</td>\n",
       "      <td>V0</td>\n",
       "      <td>1.0</td>\n",
       "      <td>V2</td>\n",
       "      <td>1.0</td>\n",
       "      <td>yes</td>\n",
       "      <td>yes</td>\n",
       "      <td>0</td>\n",
       "    </tr>\n",
       "    <tr>\n",
       "      <th>3</th>\n",
       "      <td>V3</td>\n",
       "      <td>23.718364</td>\n",
       "      <td>V4</td>\n",
       "      <td>V7</td>\n",
       "      <td>4829.002078</td>\n",
       "      <td>V4</td>\n",
       "      <td>V2</td>\n",
       "      <td>4.0</td>\n",
       "      <td>V1</td>\n",
       "      <td>V0</td>\n",
       "      <td>...</td>\n",
       "      <td>V3</td>\n",
       "      <td>62.477448</td>\n",
       "      <td>none</td>\n",
       "      <td>V1</td>\n",
       "      <td>2.0</td>\n",
       "      <td>V1</td>\n",
       "      <td>1.0</td>\n",
       "      <td>none</td>\n",
       "      <td>yes</td>\n",
       "      <td>0</td>\n",
       "    </tr>\n",
       "    <tr>\n",
       "      <th>4</th>\n",
       "      <td>V3</td>\n",
       "      <td>13.768903</td>\n",
       "      <td>V3</td>\n",
       "      <td>V3</td>\n",
       "      <td>3559.956292</td>\n",
       "      <td>V3</td>\n",
       "      <td>V4</td>\n",
       "      <td>1.0</td>\n",
       "      <td>V1</td>\n",
       "      <td>V0</td>\n",
       "      <td>...</td>\n",
       "      <td>V2</td>\n",
       "      <td>41.999120</td>\n",
       "      <td>bank</td>\n",
       "      <td>V1</td>\n",
       "      <td>1.0</td>\n",
       "      <td>V2</td>\n",
       "      <td>1.0</td>\n",
       "      <td>yes</td>\n",
       "      <td>yes</td>\n",
       "      <td>0</td>\n",
       "    </tr>\n",
       "    <tr>\n",
       "      <th>...</th>\n",
       "      <td>...</td>\n",
       "      <td>...</td>\n",
       "      <td>...</td>\n",
       "      <td>...</td>\n",
       "      <td>...</td>\n",
       "      <td>...</td>\n",
       "      <td>...</td>\n",
       "      <td>...</td>\n",
       "      <td>...</td>\n",
       "      <td>...</td>\n",
       "      <td>...</td>\n",
       "      <td>...</td>\n",
       "      <td>...</td>\n",
       "      <td>...</td>\n",
       "      <td>...</td>\n",
       "      <td>...</td>\n",
       "      <td>...</td>\n",
       "      <td>...</td>\n",
       "      <td>...</td>\n",
       "      <td>...</td>\n",
       "      <td>...</td>\n",
       "    </tr>\n",
       "    <tr>\n",
       "      <th>59995</th>\n",
       "      <td>V3</td>\n",
       "      <td>5.834186</td>\n",
       "      <td>V2</td>\n",
       "      <td>V0</td>\n",
       "      <td>1549.229155</td>\n",
       "      <td>V0</td>\n",
       "      <td>V4</td>\n",
       "      <td>3.0</td>\n",
       "      <td>V2</td>\n",
       "      <td>V2</td>\n",
       "      <td>...</td>\n",
       "      <td>V0</td>\n",
       "      <td>52.368811</td>\n",
       "      <td>none</td>\n",
       "      <td>V1</td>\n",
       "      <td>1.0</td>\n",
       "      <td>V2</td>\n",
       "      <td>2.0</td>\n",
       "      <td>none</td>\n",
       "      <td>yes</td>\n",
       "      <td>0</td>\n",
       "    </tr>\n",
       "    <tr>\n",
       "      <th>59996</th>\n",
       "      <td>V2</td>\n",
       "      <td>10.379676</td>\n",
       "      <td>V2</td>\n",
       "      <td>V2</td>\n",
       "      <td>2417.228753</td>\n",
       "      <td>V0</td>\n",
       "      <td>V0</td>\n",
       "      <td>2.0</td>\n",
       "      <td>V1</td>\n",
       "      <td>V0</td>\n",
       "      <td>...</td>\n",
       "      <td>V0</td>\n",
       "      <td>70.966537</td>\n",
       "      <td>none</td>\n",
       "      <td>V1</td>\n",
       "      <td>1.0</td>\n",
       "      <td>V0</td>\n",
       "      <td>1.0</td>\n",
       "      <td>none</td>\n",
       "      <td>yes</td>\n",
       "      <td>0</td>\n",
       "    </tr>\n",
       "    <tr>\n",
       "      <th>59997</th>\n",
       "      <td>V3</td>\n",
       "      <td>11.601652</td>\n",
       "      <td>V2</td>\n",
       "      <td>V0</td>\n",
       "      <td>1488.169842</td>\n",
       "      <td>V0</td>\n",
       "      <td>V2</td>\n",
       "      <td>2.0</td>\n",
       "      <td>V2</td>\n",
       "      <td>V0</td>\n",
       "      <td>...</td>\n",
       "      <td>V1</td>\n",
       "      <td>32.796094</td>\n",
       "      <td>none</td>\n",
       "      <td>V1</td>\n",
       "      <td>1.0</td>\n",
       "      <td>V1</td>\n",
       "      <td>1.0</td>\n",
       "      <td>none</td>\n",
       "      <td>yes</td>\n",
       "      <td>0</td>\n",
       "    </tr>\n",
       "    <tr>\n",
       "      <th>59998</th>\n",
       "      <td>V1</td>\n",
       "      <td>13.837508</td>\n",
       "      <td>V4</td>\n",
       "      <td>V3</td>\n",
       "      <td>11925.211726</td>\n",
       "      <td>V0</td>\n",
       "      <td>V1</td>\n",
       "      <td>2.0</td>\n",
       "      <td>V2</td>\n",
       "      <td>V0</td>\n",
       "      <td>...</td>\n",
       "      <td>V3</td>\n",
       "      <td>33.884187</td>\n",
       "      <td>none</td>\n",
       "      <td>V1</td>\n",
       "      <td>2.0</td>\n",
       "      <td>V2</td>\n",
       "      <td>1.0</td>\n",
       "      <td>none</td>\n",
       "      <td>yes</td>\n",
       "      <td>0</td>\n",
       "    </tr>\n",
       "    <tr>\n",
       "      <th>59999</th>\n",
       "      <td>V0</td>\n",
       "      <td>44.446492</td>\n",
       "      <td>V2</td>\n",
       "      <td>V1</td>\n",
       "      <td>2178.636738</td>\n",
       "      <td>V0</td>\n",
       "      <td>V1</td>\n",
       "      <td>3.0</td>\n",
       "      <td>V2</td>\n",
       "      <td>V0</td>\n",
       "      <td>...</td>\n",
       "      <td>V2</td>\n",
       "      <td>27.906868</td>\n",
       "      <td>stores</td>\n",
       "      <td>V1</td>\n",
       "      <td>1.0</td>\n",
       "      <td>V2</td>\n",
       "      <td>2.0</td>\n",
       "      <td>none</td>\n",
       "      <td>yes</td>\n",
       "      <td>0</td>\n",
       "    </tr>\n",
       "  </tbody>\n",
       "</table>\n",
       "<p>60000 rows × 21 columns</p>\n",
       "</div>"
      ],
      "text/plain": [
       "      feature1   feature2 feature3 feature4      feature5 feature6 feature7   \n",
       "0           V1   4.781942       V2       V8   1337.025331       V4       V4  \\\n",
       "1           V3  22.764682       V4       V2   1664.415301       V0       V4   \n",
       "2           V3   7.462099       V2       V3    750.653224       V3       V2   \n",
       "3           V3  23.718364       V4       V7   4829.002078       V4       V2   \n",
       "4           V3  13.768903       V3       V3   3559.956292       V3       V4   \n",
       "...        ...        ...      ...      ...           ...      ...      ...   \n",
       "59995       V3   5.834186       V2       V0   1549.229155       V0       V4   \n",
       "59996       V2  10.379676       V2       V2   2417.228753       V0       V0   \n",
       "59997       V3  11.601652       V2       V0   1488.169842       V0       V2   \n",
       "59998       V1  13.837508       V4       V3  11925.211726       V0       V1   \n",
       "59999       V0  44.446492       V2       V1   2178.636738       V0       V1   \n",
       "\n",
       "       feature8 feature9 feature10  ...  feature12  feature13  feature14   \n",
       "0           2.0       V2        V0  ...         V2  35.689494       none  \\\n",
       "1           4.0       V1        V0  ...         V0  23.265980       none   \n",
       "2           4.0       V2        V0  ...         V2  34.060872     stores   \n",
       "3           4.0       V1        V0  ...         V3  62.477448       none   \n",
       "4           1.0       V1        V0  ...         V2  41.999120       bank   \n",
       "...         ...      ...       ...  ...        ...        ...        ...   \n",
       "59995       3.0       V2        V2  ...         V0  52.368811       none   \n",
       "59996       2.0       V1        V0  ...         V0  70.966537       none   \n",
       "59997       2.0       V2        V0  ...         V1  32.796094       none   \n",
       "59998       2.0       V2        V0  ...         V3  33.884187       none   \n",
       "59999       3.0       V2        V0  ...         V2  27.906868     stores   \n",
       "\n",
       "      feature15 feature16  feature17 feature18  feature19 feature20 label  \n",
       "0            V1       1.0         V2       1.0       none       yes     0  \n",
       "1            V1       2.0         V2       1.0       none       yes     0  \n",
       "2            V0       1.0         V2       1.0        yes       yes     0  \n",
       "3            V1       2.0         V1       1.0       none       yes     0  \n",
       "4            V1       1.0         V2       1.0        yes       yes     0  \n",
       "...         ...       ...        ...       ...        ...       ...   ...  \n",
       "59995        V1       1.0         V2       2.0       none       yes     0  \n",
       "59996        V1       1.0         V0       1.0       none       yes     0  \n",
       "59997        V1       1.0         V1       1.0       none       yes     0  \n",
       "59998        V1       2.0         V2       1.0       none       yes     0  \n",
       "59999        V1       1.0         V2       2.0       none       yes     0  \n",
       "\n",
       "[60000 rows x 21 columns]"
      ]
     },
     "execution_count": 5,
     "metadata": {},
     "output_type": "execute_result"
    }
   ],
   "source": [
    "df = pd.read_parquet(os.path.join(SRC_DIR, 'raw_train.parquet'))\n",
    "df"
   ]
  },
  {
   "cell_type": "code",
   "execution_count": 6,
   "metadata": {},
   "outputs": [
    {
     "data": {
      "text/plain": [
       "{'numeric_columns': ['feature2', 'feature5', 'feature13', 'feature18'],\n",
       " 'category_columns': ['feature1',\n",
       "  'feature3',\n",
       "  'feature4',\n",
       "  'feature6',\n",
       "  'feature7',\n",
       "  'feature8',\n",
       "  'feature9',\n",
       "  'feature10',\n",
       "  'feature11',\n",
       "  'feature12',\n",
       "  'feature14',\n",
       "  'feature15',\n",
       "  'feature16',\n",
       "  'feature17',\n",
       "  'feature19',\n",
       "  'feature20'],\n",
       " 'target_column': 'label',\n",
       " 'ml_type': 'classification'}"
      ]
     },
     "execution_count": 6,
     "metadata": {},
     "output_type": "execute_result"
    }
   ],
   "source": [
    "feature_config = json.load(open(os.path.join(SRC_DIR, 'features_config.json')))\n",
    "feature_config"
   ]
  },
  {
   "cell_type": "code",
   "execution_count": 7,
   "metadata": {},
   "outputs": [
    {
     "data": {
      "text/html": [
       "<div>\n",
       "<style scoped>\n",
       "    .dataframe tbody tr th:only-of-type {\n",
       "        vertical-align: middle;\n",
       "    }\n",
       "\n",
       "    .dataframe tbody tr th {\n",
       "        vertical-align: top;\n",
       "    }\n",
       "\n",
       "    .dataframe thead th {\n",
       "        text-align: right;\n",
       "    }\n",
       "</style>\n",
       "<table border=\"1\" class=\"dataframe\">\n",
       "  <thead>\n",
       "    <tr style=\"text-align: right;\">\n",
       "      <th></th>\n",
       "      <th>feature2</th>\n",
       "      <th>feature5</th>\n",
       "      <th>feature8</th>\n",
       "      <th>feature11</th>\n",
       "      <th>feature13</th>\n",
       "      <th>feature16</th>\n",
       "      <th>feature18</th>\n",
       "      <th>label</th>\n",
       "    </tr>\n",
       "  </thead>\n",
       "  <tbody>\n",
       "    <tr>\n",
       "      <th>count</th>\n",
       "      <td>60000.000000</td>\n",
       "      <td>60000.000000</td>\n",
       "      <td>60000.000000</td>\n",
       "      <td>60000.000000</td>\n",
       "      <td>60000.000000</td>\n",
       "      <td>60000.000000</td>\n",
       "      <td>60000.000000</td>\n",
       "      <td>60000.000000</td>\n",
       "    </tr>\n",
       "    <tr>\n",
       "      <th>mean</th>\n",
       "      <td>20.862730</td>\n",
       "      <td>3207.836096</td>\n",
       "      <td>2.953933</td>\n",
       "      <td>2.837467</td>\n",
       "      <td>35.641207</td>\n",
       "      <td>1.422100</td>\n",
       "      <td>1.159317</td>\n",
       "      <td>0.303583</td>\n",
       "    </tr>\n",
       "    <tr>\n",
       "      <th>std</th>\n",
       "      <td>12.083299</td>\n",
       "      <td>2792.931181</td>\n",
       "      <td>1.120535</td>\n",
       "      <td>1.105427</td>\n",
       "      <td>11.261281</td>\n",
       "      <td>0.606441</td>\n",
       "      <td>0.365974</td>\n",
       "      <td>0.459809</td>\n",
       "    </tr>\n",
       "    <tr>\n",
       "      <th>min</th>\n",
       "      <td>0.648717</td>\n",
       "      <td>-5997.669542</td>\n",
       "      <td>1.000000</td>\n",
       "      <td>1.000000</td>\n",
       "      <td>17.673884</td>\n",
       "      <td>1.000000</td>\n",
       "      <td>1.000000</td>\n",
       "      <td>0.000000</td>\n",
       "    </tr>\n",
       "    <tr>\n",
       "      <th>25%</th>\n",
       "      <td>11.959326</td>\n",
       "      <td>1388.207670</td>\n",
       "      <td>2.000000</td>\n",
       "      <td>2.000000</td>\n",
       "      <td>27.185828</td>\n",
       "      <td>1.000000</td>\n",
       "      <td>1.000000</td>\n",
       "      <td>0.000000</td>\n",
       "    </tr>\n",
       "    <tr>\n",
       "      <th>50%</th>\n",
       "      <td>18.087706</td>\n",
       "      <td>2273.676224</td>\n",
       "      <td>3.000000</td>\n",
       "      <td>3.000000</td>\n",
       "      <td>33.135070</td>\n",
       "      <td>1.000000</td>\n",
       "      <td>1.000000</td>\n",
       "      <td>0.000000</td>\n",
       "    </tr>\n",
       "    <tr>\n",
       "      <th>75%</th>\n",
       "      <td>24.903486</td>\n",
       "      <td>3813.300359</td>\n",
       "      <td>4.000000</td>\n",
       "      <td>4.000000</td>\n",
       "      <td>40.958943</td>\n",
       "      <td>2.000000</td>\n",
       "      <td>1.000000</td>\n",
       "      <td>1.000000</td>\n",
       "    </tr>\n",
       "    <tr>\n",
       "      <th>max</th>\n",
       "      <td>73.201640</td>\n",
       "      <td>19046.986011</td>\n",
       "      <td>4.000000</td>\n",
       "      <td>4.000000</td>\n",
       "      <td>82.179053</td>\n",
       "      <td>4.000000</td>\n",
       "      <td>2.000000</td>\n",
       "      <td>1.000000</td>\n",
       "    </tr>\n",
       "  </tbody>\n",
       "</table>\n",
       "</div>"
      ],
      "text/plain": [
       "           feature2      feature5      feature8     feature11     feature13   \n",
       "count  60000.000000  60000.000000  60000.000000  60000.000000  60000.000000  \\\n",
       "mean      20.862730   3207.836096      2.953933      2.837467     35.641207   \n",
       "std       12.083299   2792.931181      1.120535      1.105427     11.261281   \n",
       "min        0.648717  -5997.669542      1.000000      1.000000     17.673884   \n",
       "25%       11.959326   1388.207670      2.000000      2.000000     27.185828   \n",
       "50%       18.087706   2273.676224      3.000000      3.000000     33.135070   \n",
       "75%       24.903486   3813.300359      4.000000      4.000000     40.958943   \n",
       "max       73.201640  19046.986011      4.000000      4.000000     82.179053   \n",
       "\n",
       "          feature16     feature18         label  \n",
       "count  60000.000000  60000.000000  60000.000000  \n",
       "mean       1.422100      1.159317      0.303583  \n",
       "std        0.606441      0.365974      0.459809  \n",
       "min        1.000000      1.000000      0.000000  \n",
       "25%        1.000000      1.000000      0.000000  \n",
       "50%        1.000000      1.000000      0.000000  \n",
       "75%        2.000000      1.000000      1.000000  \n",
       "max        4.000000      2.000000      1.000000  "
      ]
     },
     "execution_count": 7,
     "metadata": {},
     "output_type": "execute_result"
    }
   ],
   "source": [
    "df.describe()"
   ]
  },
  {
   "cell_type": "code",
   "execution_count": 8,
   "metadata": {},
   "outputs": [
    {
     "name": "stdout",
     "output_type": "stream",
     "text": [
      "<class 'pandas.core.frame.DataFrame'>\n",
      "RangeIndex: 60000 entries, 0 to 59999\n",
      "Data columns (total 21 columns):\n",
      " #   Column     Non-Null Count  Dtype  \n",
      "---  ------     --------------  -----  \n",
      " 0   feature1   60000 non-null  object \n",
      " 1   feature2   60000 non-null  float64\n",
      " 2   feature3   60000 non-null  object \n",
      " 3   feature4   60000 non-null  object \n",
      " 4   feature5   60000 non-null  float64\n",
      " 5   feature6   60000 non-null  object \n",
      " 6   feature7   60000 non-null  object \n",
      " 7   feature8   60000 non-null  float64\n",
      " 8   feature9   60000 non-null  object \n",
      " 9   feature10  60000 non-null  object \n",
      " 10  feature11  60000 non-null  float64\n",
      " 11  feature12  60000 non-null  object \n",
      " 12  feature13  60000 non-null  float64\n",
      " 13  feature14  60000 non-null  object \n",
      " 14  feature15  60000 non-null  object \n",
      " 15  feature16  60000 non-null  float64\n",
      " 16  feature17  60000 non-null  object \n",
      " 17  feature18  60000 non-null  float64\n",
      " 18  feature19  60000 non-null  object \n",
      " 19  feature20  60000 non-null  object \n",
      " 20  label      60000 non-null  int64  \n",
      "dtypes: float64(7), int64(1), object(13)\n",
      "memory usage: 9.6+ MB\n"
     ]
    }
   ],
   "source": [
    "df.info()"
   ]
  },
  {
   "cell_type": "code",
   "execution_count": 9,
   "metadata": {},
   "outputs": [],
   "source": [
    "df_numeric = df[feature_config['numeric_columns']]\n",
    "df_categorical = df[feature_config['category_columns']]\n",
    "series_label = df['label']"
   ]
  },
  {
   "attachments": {},
   "cell_type": "markdown",
   "metadata": {},
   "source": [
    "# Univariate"
   ]
  },
  {
   "cell_type": "code",
   "execution_count": 10,
   "metadata": {},
   "outputs": [
    {
     "data": {
      "image/png": "[encoded data removed]",
      "text/plain": [
       "<Figure size 640x480 with 1 Axes>"
      ]
     },
     "metadata": {},
     "output_type": "display_data"
    },
    {
     "data": {
      "image/png": "[encoded data removed]",
      "text/plain": [
       "<Figure size 640x480 with 1 Axes>"
      ]
     },
     "metadata": {},
     "output_type": "display_data"
    },
    {
     "data": {
      "image/png": "[encoded data removed]",
      "text/plain": [
       "<Figure size 640x480 with 1 Axes>"
      ]
     },
     "metadata": {},
     "output_type": "display_data"
    },
    {
     "data": {
      "image/png": "[encoded data removed]",
      "text/plain": [
       "<Figure size 640x480 with 1 Axes>"
      ]
     },
     "metadata": {},
     "output_type": "display_data"
    }
   ],
   "source": [
    "for col in df_numeric.columns:\n",
    "    sns.histplot(df_numeric[col])\n",
    "    plt.show()"
   ]
  },
  {
   "cell_type": "code",
   "execution_count": 11,
   "metadata": {},
   "outputs": [
    {
     "data": {
      "text/plain": [
       "feature1\n",
       "V3    23659\n",
       "V0    16355\n",
       "V1    16130\n",
       "V2     3856\n",
       "Name: count, dtype: int64"
      ]
     },
     "metadata": {},
     "output_type": "display_data"
    },
    {
     "data": {
      "text/plain": [
       "feature3\n",
       "V2    31782\n",
       "V4    17474\n",
       "V3     5317\n",
       "V1     2936\n",
       "V0     2491\n",
       "Name: count, dtype: int64"
      ]
     },
     "metadata": {},
     "output_type": "display_data"
    },
    {
     "data": {
      "text/plain": [
       "feature4\n",
       "V3     16634\n",
       "V0     14005\n",
       "V2     10761\n",
       "V1      6183\n",
       "V9      5822\n",
       "V6      2962\n",
       "V5      1450\n",
       "V4       788\n",
       "V10      765\n",
       "V8       555\n",
       "V7        75\n",
       "Name: count, dtype: int64"
      ]
     },
     "metadata": {},
     "output_type": "display_data"
    },
    {
     "data": {
      "text/plain": [
       "feature6\n",
       "V0    35846\n",
       "V4    11013\n",
       "V1     6231\n",
       "V2     3872\n",
       "V3     3038\n",
       "Name: count, dtype: int64"
      ]
     },
     "metadata": {},
     "output_type": "display_data"
    },
    {
     "data": {
      "text/plain": [
       "feature7\n",
       "V2    20178\n",
       "V4    15405\n",
       "V3    10360\n",
       "V1    10319\n",
       "V0     3738\n",
       "Name: count, dtype: int64"
      ]
     },
     "metadata": {},
     "output_type": "display_data"
    },
    {
     "data": {
      "text/plain": [
       "feature8\n",
       "4.0    27876\n",
       "2.0    13694\n",
       "3.0     9957\n",
       "1.0     8473\n",
       "Name: count, dtype: int64"
      ]
     },
     "metadata": {},
     "output_type": "display_data"
    },
    {
     "data": {
      "text/plain": [
       "feature9\n",
       "V2    32919\n",
       "V1    18545\n",
       "V3     5502\n",
       "V0     2972\n",
       "V4       62\n",
       "Name: count, dtype: int64"
      ]
     },
     "metadata": {},
     "output_type": "display_data"
    },
    {
     "data": {
      "text/plain": [
       "feature10\n",
       "V0    54407\n",
       "V2     3032\n",
       "V1     2561\n",
       "Name: count, dtype: int64"
      ]
     },
     "metadata": {},
     "output_type": "display_data"
    },
    {
     "data": {
      "text/plain": [
       "feature11\n",
       "4.0    24614\n",
       "2.0    18444\n",
       "3.0     8981\n",
       "1.0     7961\n",
       "Name: count, dtype: int64"
      ]
     },
     "metadata": {},
     "output_type": "display_data"
    },
    {
     "data": {
      "text/plain": [
       "feature12\n",
       "V2    19540\n",
       "V0    17068\n",
       "V1    14068\n",
       "V3     9324\n",
       "Name: count, dtype: int64"
      ]
     },
     "metadata": {},
     "output_type": "display_data"
    },
    {
     "data": {
      "text/plain": [
       "feature14\n",
       "none      48517\n",
       "bank       8435\n",
       "stores     3048\n",
       "Name: count, dtype: int64"
      ]
     },
     "metadata": {},
     "output_type": "display_data"
    },
    {
     "data": {
      "text/plain": [
       "feature15\n",
       "V1    42275\n",
       "V0    10995\n",
       "V2     6730\n",
       "Name: count, dtype: int64"
      ]
     },
     "metadata": {},
     "output_type": "display_data"
    },
    {
     "data": {
      "text/plain": [
       "feature16\n",
       "1.0    37794\n",
       "2.0    19681\n",
       "3.0     1930\n",
       "4.0      595\n",
       "Name: count, dtype: int64"
      ]
     },
     "metadata": {},
     "output_type": "display_data"
    },
    {
     "data": {
      "text/plain": [
       "feature17\n",
       "V2    37390\n",
       "V1    12099\n",
       "V3     8908\n",
       "V0     1603\n",
       "Name: count, dtype: int64"
      ]
     },
     "metadata": {},
     "output_type": "display_data"
    },
    {
     "data": {
      "text/plain": [
       "feature19\n",
       "none    35672\n",
       "yes     24328\n",
       "Name: count, dtype: int64"
      ]
     },
     "metadata": {},
     "output_type": "display_data"
    },
    {
     "data": {
      "text/plain": [
       "feature20\n",
       "yes    57645\n",
       "no      2355\n",
       "Name: count, dtype: int64"
      ]
     },
     "metadata": {},
     "output_type": "display_data"
    }
   ],
   "source": [
    "for col in df_categorical.columns:\n",
    "    display(df_categorical[col].value_counts())"
   ]
  },
  {
   "cell_type": "code",
   "execution_count": 12,
   "metadata": {},
   "outputs": [
    {
     "data": {
      "image/png": "[encoded data removed]",
      "text/plain": [
       "<Figure size 640x480 with 1 Axes>"
      ]
     },
     "metadata": {},
     "output_type": "display_data"
    }
   ],
   "source": [
    "sns.histplot(series_label)\n",
    "plt.show()"
   ]
  },
  {
   "attachments": {},
   "cell_type": "markdown",
   "metadata": {},
   "source": [
    "# Bi-variate"
   ]
  },
  {
   "cell_type": "code",
   "execution_count": null,
   "metadata": {},
   "outputs": [],
   "source": [
    "for col in df_numeric.columns:\n",
    "    data = [df_numeric[col][series_label==0], df_numeric[col][series_label==1]]\n",
    "    plt.boxplot(data)\n",
    "    plt.title(col)\n",
    "    plt.show()"
   ]
  },
  {
   "cell_type": "code",
   "execution_count": null,
   "metadata": {},
   "outputs": [],
   "source": []
  }
 ],
 "metadata": {
  "kernelspec": {
   "display_name": "Python 3 (ipykernel)",
   "language": "python",
   "name": "python3"
  },
  "language_info": {
   "codemirror_mode": {
    "name": "ipython",
    "version": 3
   },
   "file_extension": ".py",
   "mimetype": "text/x-python",
   "name": "python",
   "nbconvert_exporter": "python",
   "pygments_lexer": "ipython3",
   "version": "3.10.6"
  }
 },
 "nbformat": 4,
 "nbformat_minor": 4
}
