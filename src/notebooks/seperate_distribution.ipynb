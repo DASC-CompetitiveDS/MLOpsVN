{
 "cells": [
  {
   "cell_type": "code",
   "execution_count": 1,
   "metadata": {},
   "outputs": [
    {
     "name": "stdout",
     "output_type": "stream",
     "text": [
      "Append /home/ubuntu/tungpth/MLOpsVN/src to sys.path\n"
     ]
    }
   ],
   "source": [
    "from import_src import import_src\n",
    "import_src()"
   ]
  },
  {
   "cell_type": "code",
   "execution_count": 2,
   "metadata": {},
   "outputs": [
    {
     "name": "stdout",
     "output_type": "stream",
     "text": [
      "/home/ubuntu/tungpth/MLOpsVN\n"
     ]
    },
    {
     "data": {
      "text/plain": [
       "'/home/ubuntu/tungpth/MLOpsVN'"
      ]
     },
     "execution_count": 2,
     "metadata": {},
     "output_type": "execute_result"
    }
   ],
   "source": [
    "%cd ../..\n",
    "%pwd\n",
    "import os\n",
    "os.getcwd()"
   ]
  },
  {
   "cell_type": "code",
   "execution_count": 97,
   "metadata": {},
   "outputs": [],
   "source": [
    "import pandas as pd\n",
    "import numpy as np\n",
    "import seaborn as sns\n",
    "from matplotlib import pyplot as plt\n",
    "import os\n",
    "import json\n",
    "from plotly import express as px\n",
    "from sklearn.preprocessing import LabelEncoder\n",
    "import mlflow\n",
    "import time\n",
    "import threading\n",
    "import yaml\n",
    "from tqdm import tqdm\n",
    "pd.set_option('display.max_columns', 100)"
   ]
  },
  {
   "cell_type": "code",
   "execution_count": 4,
   "metadata": {},
   "outputs": [],
   "source": [
    "from glob import glob"
   ]
  },
  {
   "cell_type": "code",
   "execution_count": 5,
   "metadata": {},
   "outputs": [
    {
     "data": {
      "text/plain": [
       "['data/captured_data/phase-3/prob-2/57cd6d30-983d-4929-ae54-45fe8cc2ee7c.parquet',\n",
       " 'data/captured_data/phase-3/prob-2/7557201a-0900-44db-a19f-ded38ddeddd5.parquet',\n",
       " 'data/captured_data/phase-3/prob-2/0017abae-eec7-4b74-b935-6ecb62cf24a3.parquet',\n",
       " 'data/captured_data/phase-3/prob-2/b1f763e9-fa2b-4911-817c-e672406f0c8c.parquet',\n",
       " 'data/captured_data/phase-3/prob-2/37266150-c5e2-49d6-8d68-e82e74e64ce8.parquet',\n",
       " 'data/captured_data/phase-3/prob-2/54c26ae7-3e56-4ed1-961c-73b53a062a77.parquet',\n",
       " 'data/captured_data/phase-3/prob-2/9619990f-7529-484e-9d52-5b90d275bee8.parquet',\n",
       " 'data/captured_data/phase-3/prob-2/aee93432-7478-4a91-bb47-cf820ea42b0a.parquet',\n",
       " 'data/captured_data/phase-3/prob-2/c185caf6-74ae-4761-bccf-4241c672c8f7.parquet',\n",
       " 'data/captured_data/phase-3/prob-2/ca5db430-89ed-4ffd-948f-a275ed28f0a0.parquet',\n",
       " 'data/captured_data/phase-3/prob-2/124d18b2-06ea-4e72-9358-b2b5c69b8bfe.parquet',\n",
       " 'data/captured_data/phase-3/prob-2/09311249-b2b8-4762-90b2-97ce15853519.parquet',\n",
       " 'data/captured_data/phase-3/prob-2/08ecf84b-740b-4b46-b2d8-8d3ce9372683.parquet',\n",
       " 'data/captured_data/phase-3/prob-2/30ccef2c-a266-45da-96a9-d987156c8a20.parquet',\n",
       " 'data/captured_data/phase-3/prob-2/370f987c-f58e-497e-a936-8de46bf07d7d.parquet',\n",
       " 'data/captured_data/phase-3/prob-2/4029411b-2085-4bc5-ab57-2242efd1e3a2.parquet',\n",
       " 'data/captured_data/phase-3/prob-2/b8d79e01-b8f0-46b3-b603-475fefaeafb7.parquet',\n",
       " 'data/captured_data/phase-3/prob-2/437f2f2c-0380-47b7-a8d5-749941326c60.parquet',\n",
       " 'data/captured_data/phase-3/prob-2/d4c51627-c6b3-4680-9c6e-9f3d67e765fa.parquet',\n",
       " 'data/captured_data/phase-3/prob-2/88168b2b-957a-4c00-b2d9-57eff6450901.parquet',\n",
       " 'data/captured_data/phase-3/prob-2/33c4cd03-c75d-4e6d-a3f4-30cb869d4e39.parquet',\n",
       " 'data/captured_data/phase-3/prob-2/d9162aa2-42de-4747-acd7-4aeba5833f14.parquet',\n",
       " 'data/captured_data/phase-3/prob-2/6fb61141-b67b-48bf-ba62-f051cc123364.parquet',\n",
       " 'data/captured_data/phase-3/prob-2/457b970c-cf67-41ab-82e3-0467af7f6078.parquet',\n",
       " 'data/captured_data/phase-3/prob-2/cc161a2f-1ddf-4fcb-a090-719f4946b192.parquet',\n",
       " 'data/captured_data/phase-3/prob-2/c10c540c-3706-4421-92c5-859717038f4f.parquet',\n",
       " 'data/captured_data/phase-3/prob-2/72a1805b-41c1-4e63-aca5-2176cd43389c.parquet',\n",
       " 'data/captured_data/phase-3/prob-2/fda5cd76-6c53-43e5-84a5-357e2a657b1c.parquet',\n",
       " 'data/captured_data/phase-3/prob-2/3520bcff-27e2-41f8-bcd3-ed144fd68ed2.parquet',\n",
       " 'data/captured_data/phase-3/prob-2/ecfee36d-e2f1-4d5b-b566-b519b2942dfe.parquet',\n",
       " 'data/captured_data/phase-3/prob-2/02fc15dc-5903-4ed8-aa9e-029bc03f9acd.parquet',\n",
       " 'data/captured_data/phase-3/prob-2/3c9c0c2a-2d8e-4059-9950-aead0511a2b1.parquet',\n",
       " 'data/captured_data/phase-3/prob-2/40d79068-ca27-489b-9302-fc19bf16cab6.parquet',\n",
       " 'data/captured_data/phase-3/prob-2/75911027-565a-4dff-bbb3-f2ba4bf3371e.parquet',\n",
       " 'data/captured_data/phase-3/prob-2/df12d6d6-162c-415a-97f7-ab81f8661a64.parquet',\n",
       " 'data/captured_data/phase-3/prob-2/42d11c49-805f-4ca7-874a-af220080aab6.parquet',\n",
       " 'data/captured_data/phase-3/prob-2/4abc3552-061a-49aa-9031-f3a1a4f323bf.parquet',\n",
       " 'data/captured_data/phase-3/prob-2/6abe62d2-e7bb-4830-9235-72103280520f.parquet',\n",
       " 'data/captured_data/phase-3/prob-2/e71f838a-5551-4e56-a7ac-1b8ca7b4e70e.parquet',\n",
       " 'data/captured_data/phase-3/prob-2/e21c3ddb-632f-4a4b-8f8b-bc5141c23548.parquet',\n",
       " 'data/captured_data/phase-3/prob-2/99dc61ca-d147-4fb9-b7b7-239f59248e6c.parquet',\n",
       " 'data/captured_data/phase-3/prob-2/3952a97e-9f55-45b1-bba5-cb2093ad6d48.parquet',\n",
       " 'data/captured_data/phase-3/prob-2/7efff4a3-646c-4af6-a5e2-0963fff6a0e8.parquet',\n",
       " 'data/captured_data/phase-3/prob-2/0ec56119-1922-4585-a573-e14280bc21cd.parquet',\n",
       " 'data/captured_data/phase-3/prob-2/bd99cb25-fa5a-4e4c-a96a-9151976ec1c3.parquet',\n",
       " 'data/captured_data/phase-3/prob-2/3cca3902-e81f-43de-bbf1-540468cca684.parquet',\n",
       " 'data/captured_data/phase-3/prob-2/a5013bba-af85-4498-bdb4-9f08e755164e.parquet',\n",
       " 'data/captured_data/phase-3/prob-2/151b435e-13b3-452b-8b84-d49adad74043.parquet',\n",
       " 'data/captured_data/phase-3/prob-2/c3fa4b27-bbd1-4062-b214-01a5625efe0f.parquet',\n",
       " 'data/captured_data/phase-3/prob-2/4c852d6a-e460-4b6b-bdea-c316295f1e7e.parquet',\n",
       " 'data/captured_data/phase-3/prob-2/0b09a251-4603-44b2-a254-c8e32e5c766c.parquet',\n",
       " 'data/captured_data/phase-3/prob-2/ccadbbdb-0f09-4e12-b6ce-0cc1820fc485.parquet',\n",
       " 'data/captured_data/phase-3/prob-2/d5f4f1ba-7bcb-4082-ae63-cb8eb5eec40e.parquet',\n",
       " 'data/captured_data/phase-3/prob-2/9bcfbeaf-aca2-4596-a7fb-4390d62388ec.parquet',\n",
       " 'data/captured_data/phase-3/prob-2/d2b0b2fb-2507-4a6d-acc1-b9d600e2649c.parquet',\n",
       " 'data/captured_data/phase-3/prob-2/700b26c3-a24d-4fc1-b0d4-d42aa7601d53.parquet',\n",
       " 'data/captured_data/phase-3/prob-2/bcf89b10-4015-4c88-a90d-f15740264d79.parquet',\n",
       " 'data/captured_data/phase-3/prob-2/5c228ca4-b445-42a6-b82a-7ef87a887ebb.parquet',\n",
       " 'data/captured_data/phase-3/prob-2/048e8d5f-eefd-496d-84e4-d8dcf599c016.parquet',\n",
       " 'data/captured_data/phase-3/prob-2/5326eee2-17cd-4d65-9df1-4828aad1e29f.parquet',\n",
       " 'data/captured_data/phase-3/prob-2/552c1c3b-aa9d-4179-b587-31b737268f9d.parquet',\n",
       " 'data/captured_data/phase-3/prob-2/a9269380-0c17-48c8-b03b-fc65623978cd.parquet',\n",
       " 'data/captured_data/phase-3/prob-2/104ca34e-8e06-496e-933b-68830de7af88.parquet',\n",
       " 'data/captured_data/phase-3/prob-2/55cf9e85-4c19-497f-9635-a4b6b1a5109d.parquet',\n",
       " 'data/captured_data/phase-3/prob-2/19943edb-a432-4d26-b617-81e5ee6fecbb.parquet',\n",
       " 'data/captured_data/phase-3/prob-2/4c7f2aff-d25a-4f0c-9671-c1973473a829.parquet',\n",
       " 'data/captured_data/phase-3/prob-2/714381d4-0c7f-4e8d-8c43-5c18b9ad3feb.parquet',\n",
       " 'data/captured_data/phase-3/prob-2/75d5a7b3-f933-4c8d-8eb2-63b12a6f159a.parquet',\n",
       " 'data/captured_data/phase-3/prob-2/b6ecfeee-ef2f-4a55-a3d9-6680bc68228e.parquet',\n",
       " 'data/captured_data/phase-3/prob-2/c9896829-9155-46af-ad8a-f2e1a739f369.parquet',\n",
       " 'data/captured_data/phase-3/prob-2/5442e2c2-7a52-4e19-99fa-5ba2409ae0fa.parquet',\n",
       " 'data/captured_data/phase-3/prob-2/4b021bbc-5631-461f-b3e6-1c1f95c04e2b.parquet',\n",
       " 'data/captured_data/phase-3/prob-2/54aff583-ad0e-4f9d-9a9c-9f2e68fa3da3.parquet',\n",
       " 'data/captured_data/phase-3/prob-2/e29685b1-b06e-4e28-b3d6-75c929cddfb6.parquet',\n",
       " 'data/captured_data/phase-3/prob-2/3e5cd22f-887a-414a-ab9b-efabe979598c.parquet',\n",
       " 'data/captured_data/phase-3/prob-2/3484962f-2b5f-446f-bbcf-c7d9b61985b6.parquet',\n",
       " 'data/captured_data/phase-3/prob-2/ba1dc25f-63aa-4389-8451-ef42f1fc988a.parquet',\n",
       " 'data/captured_data/phase-3/prob-2/f62a6969-d42e-4084-8c3c-2373f4b6999d.parquet',\n",
       " 'data/captured_data/phase-3/prob-2/0981a61d-f6cc-4eb1-97cb-3d3add6fe7fd.parquet',\n",
       " 'data/captured_data/phase-3/prob-2/5affffa3-41f6-42a2-bd9f-0be37f6867df.parquet',\n",
       " 'data/captured_data/phase-3/prob-2/18bb162a-fe25-40e7-bd9d-c4298c928c74.parquet',\n",
       " 'data/captured_data/phase-3/prob-2/7ad56627-3d20-49c0-bf1c-e79a567016b6.parquet',\n",
       " 'data/captured_data/phase-3/prob-2/5d620a0e-ca15-40e0-a8a1-0448a1c9b6c9.parquet',\n",
       " 'data/captured_data/phase-3/prob-2/61325670-25ad-4646-b518-d3a1854ce4aa.parquet',\n",
       " 'data/captured_data/phase-3/prob-2/5c9a3ce0-5cd3-45ed-b621-e712f81af8e1.parquet',\n",
       " 'data/captured_data/phase-3/prob-2/742834fa-2697-47f6-9796-9ab31b860bfc.parquet',\n",
       " 'data/captured_data/phase-3/prob-2/926735c1-1d6d-4026-b128-72f99ba0321e.parquet',\n",
       " 'data/captured_data/phase-3/prob-2/fd0eefa9-e5b9-4c63-8e4f-a6a936505832.parquet',\n",
       " 'data/captured_data/phase-3/prob-2/bb68faa3-33f9-4c7f-9a24-eb442612b4ff.parquet',\n",
       " 'data/captured_data/phase-3/prob-2/1c14ea74-a452-4f44-a8ae-50db02fc02b1.parquet',\n",
       " 'data/captured_data/phase-3/prob-2/ae7d6af6-457e-4468-801f-2e8b16e3a7df.parquet',\n",
       " 'data/captured_data/phase-3/prob-2/5e8fe48d-0f94-45ab-ba33-7f679eff728e.parquet',\n",
       " 'data/captured_data/phase-3/prob-2/95aad599-07d5-42d6-b9a8-e63d34a87f96.parquet',\n",
       " 'data/captured_data/phase-3/prob-2/7f8ecec1-dcd2-4377-9ad3-be1c10f95c49.parquet',\n",
       " 'data/captured_data/phase-3/prob-2/dec35351-458e-4185-b069-5a0206cf3612.parquet',\n",
       " 'data/captured_data/phase-3/prob-2/6e6d8f55-e1f0-4747-963b-4e23c3b4345a.parquet',\n",
       " 'data/captured_data/phase-3/prob-2/b83131c7-4ba9-42c5-a0dc-f50cb3b3c864.parquet',\n",
       " 'data/captured_data/phase-3/prob-2/ee65d7c1-cfca-48cd-aca8-2edbb5104fbf.parquet',\n",
       " 'data/captured_data/phase-3/prob-2/ad908bf0-1a62-4964-bc47-ec0c7115f3f9.parquet',\n",
       " 'data/captured_data/phase-3/prob-2/f980e45e-8bd9-48ec-8b89-f0a739912928.parquet',\n",
       " 'data/captured_data/phase-3/prob-2/0c2b5ef8-eb86-4415-a0cc-a6e9fa60eed7.parquet',\n",
       " 'data/captured_data/phase-3/prob-2/69c7023a-d1ab-48dd-8532-9ef0a35843ac.parquet',\n",
       " 'data/captured_data/phase-3/prob-2/19881112-3754-4833-b069-19b189b8f00e.parquet',\n",
       " 'data/captured_data/phase-3/prob-2/de2b1f4e-3927-489c-b3a2-aab8584ae3a0.parquet',\n",
       " 'data/captured_data/phase-3/prob-2/ad8db5b5-47eb-4734-80a6-0a6b410b326f.parquet',\n",
       " 'data/captured_data/phase-3/prob-2/bcfaf4c4-d6e2-43e6-80cc-4779fd70a030.parquet',\n",
       " 'data/captured_data/phase-3/prob-2/7229d4ff-5cb3-42ec-a1e0-cda4970833d0.parquet',\n",
       " 'data/captured_data/phase-3/prob-2/a7b2d2b3-5587-4f2f-9fe9-9a99005f732b.parquet',\n",
       " 'data/captured_data/phase-3/prob-2/12125fed-06e5-4c7e-8885-18930a642747.parquet',\n",
       " 'data/captured_data/phase-3/prob-2/a6dbfff0-e06c-4ec8-b4b3-64f860cd3167.parquet',\n",
       " 'data/captured_data/phase-3/prob-2/90b6a126-87ac-4467-912d-c30531ce78c9.parquet',\n",
       " 'data/captured_data/phase-3/prob-2/fce83812-8ab7-4406-9294-1d6ab5679956.parquet',\n",
       " 'data/captured_data/phase-3/prob-2/c0399cc8-4be9-4fa9-8129-4562d724db97.parquet',\n",
       " 'data/captured_data/phase-3/prob-2/40a67f9a-f050-480d-91da-517a37d1e350.parquet',\n",
       " 'data/captured_data/phase-3/prob-2/d40c9557-922d-432a-8f87-793c00588404.parquet',\n",
       " 'data/captured_data/phase-3/prob-2/87942259-1acd-46c8-a74b-99e99d610001.parquet',\n",
       " 'data/captured_data/phase-3/prob-2/57bc4ed0-bfd8-44c4-8a97-4c120ff68534.parquet',\n",
       " 'data/captured_data/phase-3/prob-2/da56e010-85e8-4415-a096-3bd365446aa0.parquet',\n",
       " 'data/captured_data/phase-3/prob-2/04b3ebf9-ade3-48c6-9945-a6d6cc9f9068.parquet',\n",
       " 'data/captured_data/phase-3/prob-2/b2e91a4f-8570-497b-9f18-3c66925414f2.parquet',\n",
       " 'data/captured_data/phase-3/prob-2/78b6261d-20b0-485a-b321-d0432aec1fc9.parquet',\n",
       " 'data/captured_data/phase-3/prob-2/99b5f0d6-537d-4e47-a537-3d2d18aad2b0.parquet',\n",
       " 'data/captured_data/phase-3/prob-2/bb0ae7be-77cd-45fb-942e-4a87232bc93d.parquet',\n",
       " 'data/captured_data/phase-3/prob-2/f7b8d57a-ffa8-429d-8ca5-d9f5703c13fe.parquet',\n",
       " 'data/captured_data/phase-3/prob-2/4c6a4aab-56b8-4c03-aa05-79f6213fd663.parquet',\n",
       " 'data/captured_data/phase-3/prob-2/fecc63e9-11aa-4fe8-9a76-5d37c1f34310.parquet',\n",
       " 'data/captured_data/phase-3/prob-2/429b3cab-79ef-4346-82ed-a4d5bf423afd.parquet',\n",
       " 'data/captured_data/phase-3/prob-2/0f64409b-5a84-4766-96ee-ea16710eb390.parquet',\n",
       " 'data/captured_data/phase-3/prob-2/f3e8f2ba-07dc-4498-ad8b-8012b9ffe477.parquet',\n",
       " 'data/captured_data/phase-3/prob-2/88b85072-b13b-466b-bea7-0f2419cfe500.parquet',\n",
       " 'data/captured_data/phase-3/prob-2/b1be3225-a93c-42e5-a0ea-e73443cc3b77.parquet',\n",
       " 'data/captured_data/phase-3/prob-2/3c1a5f91-517c-4d27-9845-230ccb7a6d73.parquet',\n",
       " 'data/captured_data/phase-3/prob-2/361cf93d-06a8-4e0e-b33a-fc4ce643b73d.parquet',\n",
       " 'data/captured_data/phase-3/prob-2/e657cef4-ab2e-4621-9f4a-518e20abe830.parquet',\n",
       " 'data/captured_data/phase-3/prob-2/e7e972be-9c41-4e3a-b372-0401947aba24.parquet',\n",
       " 'data/captured_data/phase-3/prob-2/44f0841f-5ec2-4226-9923-90da02cf8f4b.parquet',\n",
       " 'data/captured_data/phase-3/prob-2/3fc8a495-83c3-4d34-8c5b-92493223b390.parquet',\n",
       " 'data/captured_data/phase-3/prob-2/feb058f3-5899-484c-ba00-c19d0e620875.parquet',\n",
       " 'data/captured_data/phase-3/prob-2/c3fca818-6a8d-4b63-bcc3-a876a55cf751.parquet',\n",
       " 'data/captured_data/phase-3/prob-2/b2b04a50-83f1-456e-b1d7-151c3acf6b90.parquet',\n",
       " 'data/captured_data/phase-3/prob-2/fd253f49-211b-43fe-a7fa-3aa95abf5ba5.parquet',\n",
       " 'data/captured_data/phase-3/prob-2/b2e9cda9-774b-4c0d-addd-65dd473f89ff.parquet',\n",
       " 'data/captured_data/phase-3/prob-2/a2830f21-0677-4386-bf5f-9799de576c40.parquet',\n",
       " 'data/captured_data/phase-3/prob-2/6b55980a-e4f5-41e6-9a62-d7bec3d119f4.parquet',\n",
       " 'data/captured_data/phase-3/prob-2/a1e569a6-0e83-401b-a39d-62dd99436b54.parquet',\n",
       " 'data/captured_data/phase-3/prob-2/18e58a67-166b-49c6-86ad-8977746f6d79.parquet',\n",
       " 'data/captured_data/phase-3/prob-2/f3116aeb-90da-4089-a96a-f436ea804055.parquet',\n",
       " 'data/captured_data/phase-3/prob-2/42c16693-4e77-496b-919d-09ef393235a1.parquet',\n",
       " 'data/captured_data/phase-3/prob-2/e623f787-40fc-4180-b8b6-cbd63b1fe717.parquet',\n",
       " 'data/captured_data/phase-3/prob-2/0f7d6a4c-39cf-4b27-8ce8-20eccd8d6f6c.parquet',\n",
       " 'data/captured_data/phase-3/prob-2/5afb6055-23f6-4d85-8cd5-a0c1dfbdf2f5.parquet',\n",
       " 'data/captured_data/phase-3/prob-2/93cb364d-2bc7-4a7b-be27-001755a51522.parquet',\n",
       " 'data/captured_data/phase-3/prob-2/56fafacd-a748-4bad-b140-440006581ac4.parquet',\n",
       " 'data/captured_data/phase-3/prob-2/8494f8ac-44d0-4bbf-ba89-1b0d5bb16aa3.parquet',\n",
       " 'data/captured_data/phase-3/prob-2/1fb881bb-f4dd-466e-b70c-d71cb9cea099.parquet',\n",
       " 'data/captured_data/phase-3/prob-2/f5574719-656e-4332-9d78-bb77818f4a18.parquet',\n",
       " 'data/captured_data/phase-3/prob-2/8016e339-d0c7-451a-8b5a-7445d620c426.parquet',\n",
       " 'data/captured_data/phase-3/prob-2/196b0b2f-83a1-4071-a388-45f5631cc976.parquet',\n",
       " 'data/captured_data/phase-3/prob-2/e46cd9b3-b4ea-4ff3-99fa-520e6c07e29c.parquet',\n",
       " 'data/captured_data/phase-3/prob-2/960551a6-7972-4e09-8946-038cc2b13223.parquet',\n",
       " 'data/captured_data/phase-3/prob-2/15a1317a-f992-4ee8-9f29-f271dec79248.parquet',\n",
       " 'data/captured_data/phase-3/prob-2/d9f9abbf-f6a2-460a-8f79-8c719e82a7d2.parquet',\n",
       " 'data/captured_data/phase-3/prob-2/dab385b5-2d30-40eb-b253-f475169f0b4e.parquet',\n",
       " 'data/captured_data/phase-3/prob-2/36b1566f-6390-4a3a-807e-e21d37cb5c39.parquet',\n",
       " 'data/captured_data/phase-3/prob-2/f1f5ff9e-6f52-4a4f-ba00-0d0996e7bb02.parquet',\n",
       " 'data/captured_data/phase-3/prob-2/4fe35f84-dd25-4fe3-9e36-f3beab353c87.parquet',\n",
       " 'data/captured_data/phase-3/prob-2/4bdf9b45-9c22-4eaf-8d00-ebe2e92ec71e.parquet',\n",
       " 'data/captured_data/phase-3/prob-2/aa873f7b-2166-4239-8d29-044ce17eb6fe.parquet',\n",
       " 'data/captured_data/phase-3/prob-2/e740fa7f-e7df-4d44-bb27-80de9496065c.parquet',\n",
       " 'data/captured_data/phase-3/prob-2/6328ffd7-1c6e-4b71-a1ed-e0aed326b5d5.parquet',\n",
       " 'data/captured_data/phase-3/prob-2/a5e5ef5c-2563-4311-8d46-dccc44d30c2b.parquet',\n",
       " 'data/captured_data/phase-3/prob-2/48bc1f07-ef4e-4a19-9a4b-bedae3645308.parquet',\n",
       " 'data/captured_data/phase-3/prob-2/86cfeca2-0c89-4ebb-a722-31a79f018861.parquet',\n",
       " 'data/captured_data/phase-3/prob-2/01c7bd41-a895-4bcb-9eaa-291f0a9d029a.parquet',\n",
       " 'data/captured_data/phase-3/prob-2/fc89fc16-78b8-4a04-b62d-985cf3cb6b2e.parquet',\n",
       " 'data/captured_data/phase-3/prob-2/8285154a-3cea-4e76-a025-8636a2940bb1.parquet',\n",
       " 'data/captured_data/phase-3/prob-2/6c86361f-31a9-4e29-a649-535b22f6ac6a.parquet',\n",
       " 'data/captured_data/phase-3/prob-2/c182fbcc-f39d-4448-9d63-db2938e6e461.parquet',\n",
       " 'data/captured_data/phase-3/prob-2/eecdca02-c816-452a-8d69-2de0f7bb3c7c.parquet',\n",
       " 'data/captured_data/phase-3/prob-2/871adbba-eb87-49bc-b50d-9cdc5d9cec62.parquet',\n",
       " 'data/captured_data/phase-3/prob-2/8c14c6b2-9310-4ce8-af3b-ce30fafb29d3.parquet',\n",
       " 'data/captured_data/phase-3/prob-2/b58e9e0c-dcb8-444f-b665-723838a64514.parquet',\n",
       " 'data/captured_data/phase-3/prob-2/f018ed17-373e-44a2-90e6-b6f0e0dc931b.parquet',\n",
       " 'data/captured_data/phase-3/prob-2/25eae459-2454-407c-98ab-77ecb3aa2af5.parquet',\n",
       " 'data/captured_data/phase-3/prob-2/948732d7-9c3d-4014-9162-1e8cab4515d9.parquet',\n",
       " 'data/captured_data/phase-3/prob-2/56f606c0-2456-4cd1-8a63-b2802079207d.parquet',\n",
       " 'data/captured_data/phase-3/prob-2/0fe36a5f-3598-44e2-97d4-233281fd8258.parquet',\n",
       " 'data/captured_data/phase-3/prob-2/65adb992-e53e-401e-b3af-a3db9a00ff34.parquet',\n",
       " 'data/captured_data/phase-3/prob-2/2fbc04e2-33bb-4273-b0b3-61a53c8fd9e4.parquet',\n",
       " 'data/captured_data/phase-3/prob-2/719e1900-6207-4de9-9b78-b2bd8dc21e5e.parquet',\n",
       " 'data/captured_data/phase-3/prob-2/d758e08c-cd84-42df-8242-571093c900c0.parquet',\n",
       " 'data/captured_data/phase-3/prob-2/dd45a3fb-a0a0-45e4-89b7-4c7e2534e9a5.parquet',\n",
       " 'data/captured_data/phase-3/prob-2/7091821f-4207-429e-bab5-cf40947f88ce.parquet',\n",
       " 'data/captured_data/phase-3/prob-2/cd459915-9e35-4061-9f64-5973d0d79724.parquet',\n",
       " 'data/captured_data/phase-3/prob-2/1fc7f357-4339-4855-bc9c-60a24f8d7cdd.parquet',\n",
       " 'data/captured_data/phase-3/prob-2/d11419a2-dfa2-4b9d-a7b5-98300c8982bf.parquet',\n",
       " 'data/captured_data/phase-3/prob-2/4cd7d3ae-e144-4784-999c-33cd86d92645.parquet',\n",
       " 'data/captured_data/phase-3/prob-2/bd3fe3ba-3c0d-425f-b8ec-2c305d88164e.parquet',\n",
       " 'data/captured_data/phase-3/prob-2/86d23733-3afd-4453-a92a-84b88597f58a.parquet',\n",
       " 'data/captured_data/phase-3/prob-2/5ac6d03d-2995-4384-bc22-8a83aa079589.parquet']"
      ]
     },
     "execution_count": 5,
     "metadata": {},
     "output_type": "execute_result"
    }
   ],
   "source": [
    "batches = [x for x in glob('data/captured_data/phase-3/prob-2/*.parquet') if '123.parquet' not in x]\n",
    "batches"
   ]
  },
  {
   "cell_type": "code",
   "execution_count": 6,
   "metadata": {},
   "outputs": [
    {
     "data": {
      "text/plain": [
       "{'numeric_columns': ['feature1',\n",
       "  'feature5',\n",
       "  'feature6',\n",
       "  'feature7',\n",
       "  'feature8',\n",
       "  'feature9',\n",
       "  'feature10',\n",
       "  'feature11',\n",
       "  'feature12',\n",
       "  'feature13',\n",
       "  'feature14',\n",
       "  'feature15',\n",
       "  'feature16',\n",
       "  'feature17',\n",
       "  'feature18',\n",
       "  'feature19',\n",
       "  'feature20',\n",
       "  'feature21',\n",
       "  'feature22',\n",
       "  'feature23',\n",
       "  'feature24',\n",
       "  'feature25',\n",
       "  'feature26',\n",
       "  'feature27',\n",
       "  'feature28',\n",
       "  'feature29',\n",
       "  'feature30',\n",
       "  'feature31',\n",
       "  'feature32',\n",
       "  'feature33',\n",
       "  'feature34',\n",
       "  'feature35',\n",
       "  'feature36',\n",
       "  'feature37',\n",
       "  'feature38',\n",
       "  'feature39',\n",
       "  'feature40',\n",
       "  'feature41'],\n",
       " 'category_columns': ['feature2', 'feature3', 'feature4'],\n",
       " 'target_column': 'label',\n",
       " 'ml_type': 'classification'}"
      ]
     },
     "execution_count": 6,
     "metadata": {},
     "output_type": "execute_result"
    }
   ],
   "source": [
    "feature_config = yaml.safe_load(open('data/raw_data/phase-3/prob-2/features_config.json'))\n",
    "feature_config"
   ]
  },
  {
   "cell_type": "code",
   "execution_count": 7,
   "metadata": {},
   "outputs": [],
   "source": [
    "features = feature_config['numeric_columns'] + feature_config['category_columns']\n",
    "cat_features = feature_config['category_columns']"
   ]
  },
  {
   "cell_type": "code",
   "execution_count": 8,
   "metadata": {},
   "outputs": [
    {
     "data": {
      "text/html": [
       "<div>\n",
       "<style scoped>\n",
       "    .dataframe tbody tr th:only-of-type {\n",
       "        vertical-align: middle;\n",
       "    }\n",
       "\n",
       "    .dataframe tbody tr th {\n",
       "        vertical-align: top;\n",
       "    }\n",
       "\n",
       "    .dataframe thead th {\n",
       "        text-align: right;\n",
       "    }\n",
       "</style>\n",
       "<table border=\"1\" class=\"dataframe\">\n",
       "  <thead>\n",
       "    <tr style=\"text-align: right;\">\n",
       "      <th></th>\n",
       "      <th>feature27</th>\n",
       "      <th>feature18</th>\n",
       "      <th>feature37</th>\n",
       "      <th>feature35</th>\n",
       "      <th>feature29</th>\n",
       "      <th>feature11</th>\n",
       "      <th>feature3</th>\n",
       "      <th>feature21</th>\n",
       "      <th>feature1</th>\n",
       "      <th>feature38</th>\n",
       "      <th>...</th>\n",
       "      <th>feature34</th>\n",
       "      <th>feature31</th>\n",
       "      <th>feature25</th>\n",
       "      <th>feature30</th>\n",
       "      <th>feature2</th>\n",
       "      <th>feature9</th>\n",
       "      <th>feature41</th>\n",
       "      <th>feature5</th>\n",
       "      <th>feature4</th>\n",
       "      <th>feature23</th>\n",
       "    </tr>\n",
       "  </thead>\n",
       "  <tbody>\n",
       "    <tr>\n",
       "      <th>0</th>\n",
       "      <td>58.0</td>\n",
       "      <td>68.923070</td>\n",
       "      <td>0.0</td>\n",
       "      <td>1.0</td>\n",
       "      <td>0.0</td>\n",
       "      <td>1.010716e+04</td>\n",
       "      <td>0</td>\n",
       "      <td>4.161685e+09</td>\n",
       "      <td>0.676748</td>\n",
       "      <td>0.000000e+00</td>\n",
       "      <td>...</td>\n",
       "      <td>1.0</td>\n",
       "      <td>1.0</td>\n",
       "      <td>4.463500e-02</td>\n",
       "      <td>2.0</td>\n",
       "      <td>112</td>\n",
       "      <td>254.0</td>\n",
       "      <td>0.000000e+00</td>\n",
       "      <td>16.0</td>\n",
       "      <td>3</td>\n",
       "      <td>9.360300e-02</td>\n",
       "    </tr>\n",
       "    <tr>\n",
       "      <th>1</th>\n",
       "      <td>103.0</td>\n",
       "      <td>66.490320</td>\n",
       "      <td>0.0</td>\n",
       "      <td>1.0</td>\n",
       "      <td>0.0</td>\n",
       "      <td>2.776414e+04</td>\n",
       "      <td>0</td>\n",
       "      <td>2.904530e+09</td>\n",
       "      <td>1.164956</td>\n",
       "      <td>0.000000e+00</td>\n",
       "      <td>...</td>\n",
       "      <td>1.0</td>\n",
       "      <td>0.0</td>\n",
       "      <td>1.580000e-04</td>\n",
       "      <td>11.0</td>\n",
       "      <td>112</td>\n",
       "      <td>31.0</td>\n",
       "      <td>6.131269e-09</td>\n",
       "      <td>28.0</td>\n",
       "      <td>3</td>\n",
       "      <td>8.480000e-04</td>\n",
       "    </tr>\n",
       "    <tr>\n",
       "      <th>2</th>\n",
       "      <td>0.0</td>\n",
       "      <td>0.000000</td>\n",
       "      <td>0.0</td>\n",
       "      <td>33.0</td>\n",
       "      <td>0.0</td>\n",
       "      <td>1.520000e+08</td>\n",
       "      <td>2</td>\n",
       "      <td>7.758963e-09</td>\n",
       "      <td>0.000003</td>\n",
       "      <td>0.000000e+00</td>\n",
       "      <td>...</td>\n",
       "      <td>16.0</td>\n",
       "      <td>2.0</td>\n",
       "      <td>5.340208e-09</td>\n",
       "      <td>33.0</td>\n",
       "      <td>118</td>\n",
       "      <td>254.0</td>\n",
       "      <td>0.000000e+00</td>\n",
       "      <td>2.0</td>\n",
       "      <td>4</td>\n",
       "      <td>0.000000e+00</td>\n",
       "    </tr>\n",
       "    <tr>\n",
       "      <th>3</th>\n",
       "      <td>57.0</td>\n",
       "      <td>167.390500</td>\n",
       "      <td>0.0</td>\n",
       "      <td>4.0</td>\n",
       "      <td>0.0</td>\n",
       "      <td>1.176698e+04</td>\n",
       "      <td>0</td>\n",
       "      <td>1.122618e+09</td>\n",
       "      <td>1.414127</td>\n",
       "      <td>0.000000e+00</td>\n",
       "      <td>...</td>\n",
       "      <td>1.0</td>\n",
       "      <td>1.0</td>\n",
       "      <td>6.657900e-02</td>\n",
       "      <td>5.0</td>\n",
       "      <td>112</td>\n",
       "      <td>254.0</td>\n",
       "      <td>6.131269e-09</td>\n",
       "      <td>18.0</td>\n",
       "      <td>3</td>\n",
       "      <td>1.329190e-01</td>\n",
       "    </tr>\n",
       "    <tr>\n",
       "      <th>4</th>\n",
       "      <td>81.0</td>\n",
       "      <td>0.000000</td>\n",
       "      <td>0.0</td>\n",
       "      <td>3.0</td>\n",
       "      <td>0.0</td>\n",
       "      <td>4.832713e+05</td>\n",
       "      <td>2</td>\n",
       "      <td>0.000000e+00</td>\n",
       "      <td>0.001076</td>\n",
       "      <td>0.000000e+00</td>\n",
       "      <td>...</td>\n",
       "      <td>2.0</td>\n",
       "      <td>0.0</td>\n",
       "      <td>5.340208e-09</td>\n",
       "      <td>3.0</td>\n",
       "      <td>118</td>\n",
       "      <td>31.0</td>\n",
       "      <td>6.131269e-09</td>\n",
       "      <td>2.0</td>\n",
       "      <td>1</td>\n",
       "      <td>0.000000e+00</td>\n",
       "    </tr>\n",
       "    <tr>\n",
       "      <th>...</th>\n",
       "      <td>...</td>\n",
       "      <td>...</td>\n",
       "      <td>...</td>\n",
       "      <td>...</td>\n",
       "      <td>...</td>\n",
       "      <td>...</td>\n",
       "      <td>...</td>\n",
       "      <td>...</td>\n",
       "      <td>...</td>\n",
       "      <td>...</td>\n",
       "      <td>...</td>\n",
       "      <td>...</td>\n",
       "      <td>...</td>\n",
       "      <td>...</td>\n",
       "      <td>...</td>\n",
       "      <td>...</td>\n",
       "      <td>...</td>\n",
       "      <td>...</td>\n",
       "      <td>...</td>\n",
       "      <td>...</td>\n",
       "      <td>...</td>\n",
       "    </tr>\n",
       "    <tr>\n",
       "      <th>995</th>\n",
       "      <td>132.0</td>\n",
       "      <td>150.139609</td>\n",
       "      <td>0.0</td>\n",
       "      <td>4.0</td>\n",
       "      <td>124.0</td>\n",
       "      <td>7.619007e+03</td>\n",
       "      <td>5</td>\n",
       "      <td>2.583980e+09</td>\n",
       "      <td>0.748654</td>\n",
       "      <td>1.000000e+00</td>\n",
       "      <td>...</td>\n",
       "      <td>1.0</td>\n",
       "      <td>1.0</td>\n",
       "      <td>4.456001e-02</td>\n",
       "      <td>4.0</td>\n",
       "      <td>112</td>\n",
       "      <td>62.0</td>\n",
       "      <td>0.000000e+00</td>\n",
       "      <td>10.0</td>\n",
       "      <td>3</td>\n",
       "      <td>1.843450e-01</td>\n",
       "    </tr>\n",
       "    <tr>\n",
       "      <th>996</th>\n",
       "      <td>0.0</td>\n",
       "      <td>0.000000</td>\n",
       "      <td>0.0</td>\n",
       "      <td>36.0</td>\n",
       "      <td>0.0</td>\n",
       "      <td>1.520000e+08</td>\n",
       "      <td>2</td>\n",
       "      <td>7.758963e-09</td>\n",
       "      <td>0.000003</td>\n",
       "      <td>0.000000e+00</td>\n",
       "      <td>...</td>\n",
       "      <td>3.0</td>\n",
       "      <td>2.0</td>\n",
       "      <td>0.000000e+00</td>\n",
       "      <td>36.0</td>\n",
       "      <td>118</td>\n",
       "      <td>254.0</td>\n",
       "      <td>6.131269e-09</td>\n",
       "      <td>2.0</td>\n",
       "      <td>4</td>\n",
       "      <td>0.000000e+00</td>\n",
       "    </tr>\n",
       "    <tr>\n",
       "      <th>997</th>\n",
       "      <td>0.0</td>\n",
       "      <td>0.000000</td>\n",
       "      <td>0.0</td>\n",
       "      <td>2.0</td>\n",
       "      <td>0.0</td>\n",
       "      <td>4.160000e+08</td>\n",
       "      <td>0</td>\n",
       "      <td>0.000000e+00</td>\n",
       "      <td>0.000001</td>\n",
       "      <td>4.908592e-09</td>\n",
       "      <td>...</td>\n",
       "      <td>1.0</td>\n",
       "      <td>2.0</td>\n",
       "      <td>0.000000e+00</td>\n",
       "      <td>3.0</td>\n",
       "      <td>118</td>\n",
       "      <td>254.0</td>\n",
       "      <td>0.000000e+00</td>\n",
       "      <td>2.0</td>\n",
       "      <td>4</td>\n",
       "      <td>8.906004e-09</td>\n",
       "    </tr>\n",
       "    <tr>\n",
       "      <th>998</th>\n",
       "      <td>0.0</td>\n",
       "      <td>0.000000</td>\n",
       "      <td>0.0</td>\n",
       "      <td>8.0</td>\n",
       "      <td>0.0</td>\n",
       "      <td>1.000000e+08</td>\n",
       "      <td>0</td>\n",
       "      <td>7.758963e-09</td>\n",
       "      <td>0.000008</td>\n",
       "      <td>4.908592e-09</td>\n",
       "      <td>...</td>\n",
       "      <td>6.0</td>\n",
       "      <td>2.0</td>\n",
       "      <td>5.340208e-09</td>\n",
       "      <td>8.0</td>\n",
       "      <td>119</td>\n",
       "      <td>254.0</td>\n",
       "      <td>0.000000e+00</td>\n",
       "      <td>2.0</td>\n",
       "      <td>4</td>\n",
       "      <td>8.906004e-09</td>\n",
       "    </tr>\n",
       "    <tr>\n",
       "      <th>999</th>\n",
       "      <td>81.0</td>\n",
       "      <td>0.000000</td>\n",
       "      <td>0.0</td>\n",
       "      <td>1.0</td>\n",
       "      <td>0.0</td>\n",
       "      <td>4.942966e+05</td>\n",
       "      <td>2</td>\n",
       "      <td>7.758963e-09</td>\n",
       "      <td>0.001052</td>\n",
       "      <td>0.000000e+00</td>\n",
       "      <td>...</td>\n",
       "      <td>1.0</td>\n",
       "      <td>0.0</td>\n",
       "      <td>5.340208e-09</td>\n",
       "      <td>4.0</td>\n",
       "      <td>118</td>\n",
       "      <td>31.0</td>\n",
       "      <td>0.000000e+00</td>\n",
       "      <td>2.0</td>\n",
       "      <td>1</td>\n",
       "      <td>8.906004e-09</td>\n",
       "    </tr>\n",
       "  </tbody>\n",
       "</table>\n",
       "<p>1000 rows × 41 columns</p>\n",
       "</div>"
      ],
      "text/plain": [
       "     feature27   feature18  feature37  feature35  feature29     feature11   \n",
       "0         58.0   68.923070        0.0        1.0        0.0  1.010716e+04  \\\n",
       "1        103.0   66.490320        0.0        1.0        0.0  2.776414e+04   \n",
       "2          0.0    0.000000        0.0       33.0        0.0  1.520000e+08   \n",
       "3         57.0  167.390500        0.0        4.0        0.0  1.176698e+04   \n",
       "4         81.0    0.000000        0.0        3.0        0.0  4.832713e+05   \n",
       "..         ...         ...        ...        ...        ...           ...   \n",
       "995      132.0  150.139609        0.0        4.0      124.0  7.619007e+03   \n",
       "996        0.0    0.000000        0.0       36.0        0.0  1.520000e+08   \n",
       "997        0.0    0.000000        0.0        2.0        0.0  4.160000e+08   \n",
       "998        0.0    0.000000        0.0        8.0        0.0  1.000000e+08   \n",
       "999       81.0    0.000000        0.0        1.0        0.0  4.942966e+05   \n",
       "\n",
       "     feature3     feature21  feature1     feature38  ...  feature34   \n",
       "0           0  4.161685e+09  0.676748  0.000000e+00  ...        1.0  \\\n",
       "1           0  2.904530e+09  1.164956  0.000000e+00  ...        1.0   \n",
       "2           2  7.758963e-09  0.000003  0.000000e+00  ...       16.0   \n",
       "3           0  1.122618e+09  1.414127  0.000000e+00  ...        1.0   \n",
       "4           2  0.000000e+00  0.001076  0.000000e+00  ...        2.0   \n",
       "..        ...           ...       ...           ...  ...        ...   \n",
       "995         5  2.583980e+09  0.748654  1.000000e+00  ...        1.0   \n",
       "996         2  7.758963e-09  0.000003  0.000000e+00  ...        3.0   \n",
       "997         0  0.000000e+00  0.000001  4.908592e-09  ...        1.0   \n",
       "998         0  7.758963e-09  0.000008  4.908592e-09  ...        6.0   \n",
       "999         2  7.758963e-09  0.001052  0.000000e+00  ...        1.0   \n",
       "\n",
       "     feature31     feature25  feature30  feature2  feature9     feature41   \n",
       "0          1.0  4.463500e-02        2.0       112     254.0  0.000000e+00  \\\n",
       "1          0.0  1.580000e-04       11.0       112      31.0  6.131269e-09   \n",
       "2          2.0  5.340208e-09       33.0       118     254.0  0.000000e+00   \n",
       "3          1.0  6.657900e-02        5.0       112     254.0  6.131269e-09   \n",
       "4          0.0  5.340208e-09        3.0       118      31.0  6.131269e-09   \n",
       "..         ...           ...        ...       ...       ...           ...   \n",
       "995        1.0  4.456001e-02        4.0       112      62.0  0.000000e+00   \n",
       "996        2.0  0.000000e+00       36.0       118     254.0  6.131269e-09   \n",
       "997        2.0  0.000000e+00        3.0       118     254.0  0.000000e+00   \n",
       "998        2.0  5.340208e-09        8.0       119     254.0  0.000000e+00   \n",
       "999        0.0  5.340208e-09        4.0       118      31.0  0.000000e+00   \n",
       "\n",
       "     feature5  feature4     feature23  \n",
       "0        16.0         3  9.360300e-02  \n",
       "1        28.0         3  8.480000e-04  \n",
       "2         2.0         4  0.000000e+00  \n",
       "3        18.0         3  1.329190e-01  \n",
       "4         2.0         1  0.000000e+00  \n",
       "..        ...       ...           ...  \n",
       "995      10.0         3  1.843450e-01  \n",
       "996       2.0         4  0.000000e+00  \n",
       "997       2.0         4  8.906004e-09  \n",
       "998       2.0         4  8.906004e-09  \n",
       "999       2.0         1  8.906004e-09  \n",
       "\n",
       "[1000 rows x 41 columns]"
      ]
     },
     "execution_count": 8,
     "metadata": {},
     "output_type": "execute_result"
    }
   ],
   "source": [
    "single_batch = pd.read_parquet(batches[0])\n",
    "single_batch"
   ]
  },
  {
   "cell_type": "code",
   "execution_count": 9,
   "metadata": {},
   "outputs": [],
   "source": [
    "# single_batch.columns"
   ]
  },
  {
   "cell_type": "code",
   "execution_count": 10,
   "metadata": {},
   "outputs": [],
   "source": [
    "# for col in single_batch.columns:\n",
    "#     plt.hist(single_batch[col])\n",
    "#     plt.title(col)\n",
    "#     plt.show()"
   ]
  },
  {
   "cell_type": "code",
   "execution_count": 11,
   "metadata": {},
   "outputs": [],
   "source": [
    "# single_batch[['feature5']]"
   ]
  },
  {
   "cell_type": "code",
   "execution_count": 12,
   "metadata": {},
   "outputs": [
    {
     "data": {
      "text/plain": [
       "feature27    155\n",
       "feature18    468\n",
       "feature37      2\n",
       "feature35     48\n",
       "feature29     45\n",
       "feature11    621\n",
       "feature3       9\n",
       "feature21    471\n",
       "feature1     560\n",
       "feature38      7\n",
       "feature40     47\n",
       "feature10      4\n",
       "feature14     50\n",
       "feature19      2\n",
       "feature26    168\n",
       "feature13     36\n",
       "feature6      56\n",
       "feature36      4\n",
       "feature16    478\n",
       "feature32     41\n",
       "feature28      3\n",
       "feature17    502\n",
       "feature12    524\n",
       "feature24    433\n",
       "feature39     76\n",
       "feature22      2\n",
       "feature15    539\n",
       "feature33     39\n",
       "feature8     214\n",
       "feature20    470\n",
       "feature7     328\n",
       "feature34     24\n",
       "feature31      5\n",
       "feature25    402\n",
       "feature30     47\n",
       "feature2      60\n",
       "feature9       7\n",
       "feature41      4\n",
       "feature5      92\n",
       "feature4       4\n",
       "feature23    452\n",
       "dtype: int64"
      ]
     },
     "execution_count": 12,
     "metadata": {},
     "output_type": "execute_result"
    }
   ],
   "source": [
    "single_batch.nunique()"
   ]
  },
  {
   "cell_type": "code",
   "execution_count": 13,
   "metadata": {},
   "outputs": [],
   "source": [
    "# single_batch['feature2']"
   ]
  },
  {
   "cell_type": "code",
   "execution_count": 25,
   "metadata": {},
   "outputs": [
    {
     "name": "stderr",
     "output_type": "stream",
     "text": [
      "2023-08-26 10:31:48,061 - model-config: {'model_name': 'phase-3_prob-2_lgbm_cv', 'model_version': 8, 'phase_id': 'phase-3', 'prob_id': 'prob-2'}\n",
      "2023-08-26 10:31:48,062 - predictor-config: {'specific_handle': False, 'PREDICT_CONSTANT': False, 'DETECT_DRIFT': True, 'LOG_TIME': True, 'CAPTURE_DATA': False, 'PROCESS_DATA': True, 'USE_ASYNC': False}\n"
     ]
    }
   ],
   "source": [
    "from src.model import Model\n",
    "\n",
    "model = Model('data/model_config/phase-3/prob-2/phase-3_prob-2_lgbm_cv.yaml',\n",
    "      yaml.safe_load(open('data/predictor_config/phase-3/default_log.yaml')))"
   ]
  },
  {
   "attachments": {},
   "cell_type": "markdown",
   "metadata": {},
   "source": [
    "# Find feature to discriminate 2 batches"
   ]
  },
  {
   "cell_type": "code",
   "execution_count": 26,
   "metadata": {},
   "outputs": [],
   "source": [
    "from catboost import CatBoostClassifier, Pool\n",
    "from sklearn.model_selection import train_test_split"
   ]
  },
  {
   "cell_type": "code",
   "execution_count": 27,
   "metadata": {},
   "outputs": [],
   "source": [
    "from sklearn.metrics import accuracy_score"
   ]
  },
  {
   "cell_type": "code",
   "execution_count": 28,
   "metadata": {},
   "outputs": [],
   "source": [
    "# accuracy_score()"
   ]
  },
  {
   "cell_type": "code",
   "execution_count": 112,
   "metadata": {},
   "outputs": [
    {
     "name": "stderr",
     "output_type": "stream",
     "text": [
      "  0%|          | 0/100 [00:00<?, ?it/s]"
     ]
    },
    {
     "name": "stdout",
     "output_type": "stream",
     "text": [
      "Drift 0 0\n"
     ]
    },
    {
     "name": "stderr",
     "output_type": "stream",
     "text": [
      "  1%|          | 1/100 [00:01<02:09,  1.31s/it]"
     ]
    },
    {
     "name": "stdout",
     "output_type": "stream",
     "text": [
      "0.835\n",
      "=================\n",
      "Drift 0 0\n"
     ]
    },
    {
     "name": "stderr",
     "output_type": "stream",
     "text": [
      "  2%|▏         | 2/100 [00:03<02:38,  1.61s/it]"
     ]
    },
    {
     "name": "stdout",
     "output_type": "stream",
     "text": [
      "0.7325\n",
      "=================\n",
      "Drift 0 0\n"
     ]
    },
    {
     "name": "stderr",
     "output_type": "stream",
     "text": [
      "  6%|▌         | 6/100 [00:04<00:59,  1.59it/s]"
     ]
    },
    {
     "name": "stdout",
     "output_type": "stream",
     "text": [
      "0.7275\n",
      "=================\n",
      "Drift 0 0\n"
     ]
    },
    {
     "name": "stderr",
     "output_type": "stream",
     "text": [
      "  7%|▋         | 7/100 [00:06<01:18,  1.19it/s]"
     ]
    },
    {
     "name": "stdout",
     "output_type": "stream",
     "text": [
      "0.7475\n",
      "=================\n",
      "Drift 0 0\n"
     ]
    },
    {
     "name": "stderr",
     "output_type": "stream",
     "text": [
      "  8%|▊         | 8/100 [00:08<01:46,  1.16s/it]"
     ]
    },
    {
     "name": "stdout",
     "output_type": "stream",
     "text": [
      "0.8044217687074829\n",
      "=================\n",
      "Drift 0 0\n"
     ]
    },
    {
     "name": "stderr",
     "output_type": "stream",
     "text": [
      "  9%|▉         | 9/100 [00:10<02:04,  1.37s/it]"
     ]
    },
    {
     "name": "stdout",
     "output_type": "stream",
     "text": [
      "0.8758503401360545\n",
      "=================\n",
      "Drift 0 0\n"
     ]
    },
    {
     "name": "stderr",
     "output_type": "stream",
     "text": [
      " 12%|█▏        | 12/100 [00:13<01:46,  1.22s/it]"
     ]
    },
    {
     "name": "stdout",
     "output_type": "stream",
     "text": [
      "0.9047619047619048\n",
      "=================\n",
      "Drift 0 0\n"
     ]
    },
    {
     "name": "stderr",
     "output_type": "stream",
     "text": [
      " 13%|█▎        | 13/100 [00:15<02:04,  1.43s/it]"
     ]
    },
    {
     "name": "stdout",
     "output_type": "stream",
     "text": [
      "0.8125\n",
      "=================\n",
      "Drift 0 0\n"
     ]
    },
    {
     "name": "stderr",
     "output_type": "stream",
     "text": [
      " 14%|█▍        | 14/100 [00:17<02:10,  1.51s/it]"
     ]
    },
    {
     "name": "stdout",
     "output_type": "stream",
     "text": [
      "0.815\n",
      "=================\n",
      "Drift 0 0\n"
     ]
    },
    {
     "name": "stderr",
     "output_type": "stream",
     "text": [
      " 15%|█▌        | 15/100 [00:19<02:19,  1.64s/it]"
     ]
    },
    {
     "name": "stdout",
     "output_type": "stream",
     "text": [
      "0.815\n",
      "=================\n",
      "Drift 0 0\n"
     ]
    },
    {
     "name": "stderr",
     "output_type": "stream",
     "text": [
      " 16%|█▌        | 16/100 [00:21<02:21,  1.69s/it]"
     ]
    },
    {
     "name": "stdout",
     "output_type": "stream",
     "text": [
      "0.8275\n",
      "=================\n",
      "Drift 0 0\n"
     ]
    },
    {
     "name": "stderr",
     "output_type": "stream",
     "text": [
      " 19%|█▉        | 19/100 [00:23<01:34,  1.16s/it]"
     ]
    },
    {
     "name": "stdout",
     "output_type": "stream",
     "text": [
      "0.845\n",
      "=================\n",
      "Drift 0 0\n"
     ]
    },
    {
     "name": "stderr",
     "output_type": "stream",
     "text": [
      " 20%|██        | 20/100 [00:25<01:38,  1.24s/it]"
     ]
    },
    {
     "name": "stdout",
     "output_type": "stream",
     "text": [
      "0.795\n",
      "=================\n",
      "Drift 0 0\n"
     ]
    },
    {
     "name": "stderr",
     "output_type": "stream",
     "text": [
      " 21%|██        | 21/100 [00:27<02:03,  1.56s/it]"
     ]
    },
    {
     "name": "stdout",
     "output_type": "stream",
     "text": [
      "0.855\n",
      "=================\n",
      "Drift 0 0\n"
     ]
    },
    {
     "name": "stderr",
     "output_type": "stream",
     "text": [
      " 22%|██▏       | 22/100 [00:29<02:00,  1.55s/it]"
     ]
    },
    {
     "name": "stdout",
     "output_type": "stream",
     "text": [
      "0.82\n",
      "=================\n",
      "Drift 0 0\n"
     ]
    },
    {
     "name": "stderr",
     "output_type": "stream",
     "text": [
      " 25%|██▌       | 25/100 [00:30<01:16,  1.02s/it]"
     ]
    },
    {
     "name": "stdout",
     "output_type": "stream",
     "text": [
      "0.7975\n",
      "=================\n",
      "Drift 0 0\n"
     ]
    },
    {
     "name": "stderr",
     "output_type": "stream",
     "text": [
      " 26%|██▌       | 26/100 [00:32<01:21,  1.10s/it]"
     ]
    },
    {
     "name": "stdout",
     "output_type": "stream",
     "text": [
      "0.76\n",
      "=================\n",
      "Drift 0 0\n"
     ]
    },
    {
     "name": "stderr",
     "output_type": "stream",
     "text": [
      " 27%|██▋       | 27/100 [00:33<01:27,  1.19s/it]"
     ]
    },
    {
     "name": "stdout",
     "output_type": "stream",
     "text": [
      "0.85\n",
      "=================\n",
      "Drift 0 0\n"
     ]
    },
    {
     "name": "stderr",
     "output_type": "stream",
     "text": [
      " 28%|██▊       | 28/100 [00:35<01:40,  1.40s/it]"
     ]
    },
    {
     "name": "stdout",
     "output_type": "stream",
     "text": [
      "0.82\n",
      "=================\n",
      "Drift 0 0\n"
     ]
    },
    {
     "name": "stderr",
     "output_type": "stream",
     "text": [
      " 29%|██▉       | 29/100 [00:37<01:38,  1.38s/it]"
     ]
    },
    {
     "name": "stdout",
     "output_type": "stream",
     "text": [
      "0.795\n",
      "=================\n",
      "Drift 0 0\n"
     ]
    },
    {
     "name": "stderr",
     "output_type": "stream",
     "text": [
      " 30%|███       | 30/100 [00:38<01:43,  1.48s/it]"
     ]
    },
    {
     "name": "stdout",
     "output_type": "stream",
     "text": [
      "0.8025\n",
      "=================\n",
      "Drift 0 0\n"
     ]
    },
    {
     "name": "stderr",
     "output_type": "stream",
     "text": [
      " 31%|███       | 31/100 [00:41<02:00,  1.75s/it]"
     ]
    },
    {
     "name": "stdout",
     "output_type": "stream",
     "text": [
      "0.8061224489795918\n",
      "=================\n",
      "Drift 0 0\n"
     ]
    },
    {
     "name": "stderr",
     "output_type": "stream",
     "text": [
      " 32%|███▏      | 32/100 [00:43<02:14,  1.98s/it]"
     ]
    },
    {
     "name": "stdout",
     "output_type": "stream",
     "text": [
      "0.8525\n",
      "=================\n",
      "Drift 0 0\n"
     ]
    },
    {
     "name": "stderr",
     "output_type": "stream",
     "text": [
      " 33%|███▎      | 33/100 [00:45<02:01,  1.81s/it]"
     ]
    },
    {
     "name": "stdout",
     "output_type": "stream",
     "text": [
      "0.8075\n",
      "=================\n",
      "Drift 0 0\n"
     ]
    },
    {
     "name": "stderr",
     "output_type": "stream",
     "text": [
      " 34%|███▍      | 34/100 [00:46<01:51,  1.69s/it]"
     ]
    },
    {
     "name": "stdout",
     "output_type": "stream",
     "text": [
      "0.735\n",
      "=================\n",
      "Drift 0 0\n"
     ]
    },
    {
     "name": "stderr",
     "output_type": "stream",
     "text": [
      " 35%|███▌      | 35/100 [00:48<01:51,  1.71s/it]"
     ]
    },
    {
     "name": "stdout",
     "output_type": "stream",
     "text": [
      "0.8375\n",
      "=================\n",
      "Drift 0 0\n"
     ]
    },
    {
     "name": "stderr",
     "output_type": "stream",
     "text": [
      " 37%|███▋      | 37/100 [00:50<01:25,  1.36s/it]"
     ]
    },
    {
     "name": "stdout",
     "output_type": "stream",
     "text": [
      "0.7925\n",
      "=================\n",
      "Drift 0 0\n"
     ]
    },
    {
     "name": "stderr",
     "output_type": "stream",
     "text": [
      " 38%|███▊      | 38/100 [00:52<01:31,  1.47s/it]"
     ]
    },
    {
     "name": "stdout",
     "output_type": "stream",
     "text": [
      "0.8741496598639455\n",
      "=================\n",
      "Drift 0 0\n"
     ]
    },
    {
     "name": "stderr",
     "output_type": "stream",
     "text": [
      " 40%|████      | 40/100 [00:54<01:24,  1.42s/it]"
     ]
    },
    {
     "name": "stdout",
     "output_type": "stream",
     "text": [
      "0.8248299319727891\n",
      "=================\n",
      "Drift 0 0\n"
     ]
    },
    {
     "name": "stderr",
     "output_type": "stream",
     "text": [
      " 44%|████▍     | 44/100 [00:56<00:47,  1.17it/s]"
     ]
    },
    {
     "name": "stdout",
     "output_type": "stream",
     "text": [
      "0.78\n",
      "=================\n",
      "Drift 0 0\n"
     ]
    },
    {
     "name": "stderr",
     "output_type": "stream",
     "text": [
      " 46%|████▌     | 46/100 [00:58<00:49,  1.09it/s]"
     ]
    },
    {
     "name": "stdout",
     "output_type": "stream",
     "text": [
      "0.8575\n",
      "=================\n",
      "Drift 0 0\n"
     ]
    },
    {
     "name": "stderr",
     "output_type": "stream",
     "text": [
      " 47%|████▋     | 47/100 [00:59<00:52,  1.01it/s]"
     ]
    },
    {
     "name": "stdout",
     "output_type": "stream",
     "text": [
      "0.77\n",
      "=================\n",
      "Drift 0 0\n"
     ]
    },
    {
     "name": "stderr",
     "output_type": "stream",
     "text": [
      " 49%|████▉     | 49/100 [01:01<00:50,  1.01it/s]"
     ]
    },
    {
     "name": "stdout",
     "output_type": "stream",
     "text": [
      "0.8275\n",
      "=================\n",
      "Drift 0 0\n"
     ]
    },
    {
     "name": "stderr",
     "output_type": "stream",
     "text": [
      " 51%|█████     | 51/100 [01:03<00:44,  1.11it/s]"
     ]
    },
    {
     "name": "stdout",
     "output_type": "stream",
     "text": [
      "0.8325\n",
      "=================\n",
      "Drift 0 0\n"
     ]
    },
    {
     "name": "stderr",
     "output_type": "stream",
     "text": [
      " 53%|█████▎    | 53/100 [01:04<00:38,  1.22it/s]"
     ]
    },
    {
     "name": "stdout",
     "output_type": "stream",
     "text": [
      "0.79\n",
      "=================\n",
      "Drift 0 0\n"
     ]
    },
    {
     "name": "stderr",
     "output_type": "stream",
     "text": [
      " 54%|█████▍    | 54/100 [01:06<00:47,  1.04s/it]"
     ]
    },
    {
     "name": "stdout",
     "output_type": "stream",
     "text": [
      "0.815\n",
      "=================\n",
      "Drift 0 0\n"
     ]
    },
    {
     "name": "stderr",
     "output_type": "stream",
     "text": [
      " 55%|█████▌    | 55/100 [01:07<00:50,  1.11s/it]"
     ]
    },
    {
     "name": "stdout",
     "output_type": "stream",
     "text": [
      "0.785\n",
      "=================\n",
      "Drift 0 0\n"
     ]
    },
    {
     "name": "stderr",
     "output_type": "stream",
     "text": [
      " 57%|█████▋    | 57/100 [01:09<00:43,  1.02s/it]"
     ]
    },
    {
     "name": "stdout",
     "output_type": "stream",
     "text": [
      "0.84\n",
      "=================\n",
      "Drift 0 0\n"
     ]
    },
    {
     "name": "stderr",
     "output_type": "stream",
     "text": [
      " 58%|█████▊    | 58/100 [01:11<00:47,  1.14s/it]"
     ]
    },
    {
     "name": "stdout",
     "output_type": "stream",
     "text": [
      "0.7475\n",
      "=================\n",
      "Drift 0 0\n"
     ]
    },
    {
     "name": "stderr",
     "output_type": "stream",
     "text": [
      " 59%|█████▉    | 59/100 [01:12<00:51,  1.27s/it]"
     ]
    },
    {
     "name": "stdout",
     "output_type": "stream",
     "text": [
      "0.79\n",
      "=================\n",
      "Drift 0 0\n"
     ]
    },
    {
     "name": "stderr",
     "output_type": "stream",
     "text": [
      " 60%|██████    | 60/100 [01:14<00:52,  1.31s/it]"
     ]
    },
    {
     "name": "stdout",
     "output_type": "stream",
     "text": [
      "0.795\n",
      "=================\n",
      "Drift 0 0\n"
     ]
    },
    {
     "name": "stderr",
     "output_type": "stream",
     "text": [
      " 61%|██████    | 61/100 [01:17<01:07,  1.74s/it]"
     ]
    },
    {
     "name": "stdout",
     "output_type": "stream",
     "text": [
      "0.88\n",
      "=================\n",
      "Drift 0 0\n"
     ]
    },
    {
     "name": "stderr",
     "output_type": "stream",
     "text": [
      " 62%|██████▏   | 62/100 [01:19<01:07,  1.79s/it]"
     ]
    },
    {
     "name": "stdout",
     "output_type": "stream",
     "text": [
      "0.84\n",
      "=================\n",
      "Drift 0 0\n"
     ]
    },
    {
     "name": "stderr",
     "output_type": "stream",
     "text": [
      " 63%|██████▎   | 63/100 [01:21<01:11,  1.92s/it]"
     ]
    },
    {
     "name": "stdout",
     "output_type": "stream",
     "text": [
      "0.82\n",
      "=================\n",
      "Drift 0 0\n"
     ]
    },
    {
     "name": "stderr",
     "output_type": "stream",
     "text": [
      " 67%|██████▋   | 67/100 [01:24<00:41,  1.24s/it]"
     ]
    },
    {
     "name": "stdout",
     "output_type": "stream",
     "text": [
      "0.8775\n",
      "=================\n",
      "Drift 0 0\n"
     ]
    },
    {
     "name": "stderr",
     "output_type": "stream",
     "text": [
      " 68%|██████▊   | 68/100 [01:26<00:40,  1.27s/it]"
     ]
    },
    {
     "name": "stdout",
     "output_type": "stream",
     "text": [
      "0.8375\n",
      "=================\n",
      "Drift 0 0\n"
     ]
    },
    {
     "name": "stderr",
     "output_type": "stream",
     "text": [
      " 69%|██████▉   | 69/100 [01:28<00:43,  1.41s/it]"
     ]
    },
    {
     "name": "stdout",
     "output_type": "stream",
     "text": [
      "0.7575\n",
      "=================\n",
      "Drift 0 0\n"
     ]
    },
    {
     "name": "stderr",
     "output_type": "stream",
     "text": [
      " 70%|███████   | 70/100 [01:30<00:49,  1.65s/it]"
     ]
    },
    {
     "name": "stdout",
     "output_type": "stream",
     "text": [
      "0.8163265306122449\n",
      "=================\n",
      "Drift 0 0\n"
     ]
    },
    {
     "name": "stderr",
     "output_type": "stream",
     "text": [
      " 71%|███████   | 71/100 [01:32<00:49,  1.70s/it]"
     ]
    },
    {
     "name": "stdout",
     "output_type": "stream",
     "text": [
      "0.9098639455782312\n",
      "=================\n",
      "Drift 0 0\n"
     ]
    },
    {
     "name": "stderr",
     "output_type": "stream",
     "text": [
      " 72%|███████▏  | 72/100 [01:34<00:50,  1.82s/it]"
     ]
    },
    {
     "name": "stdout",
     "output_type": "stream",
     "text": [
      "0.8095238095238095\n",
      "=================\n",
      "Drift 0 0\n"
     ]
    },
    {
     "name": "stderr",
     "output_type": "stream",
     "text": [
      " 76%|███████▌  | 76/100 [01:36<00:23,  1.03it/s]"
     ]
    },
    {
     "name": "stdout",
     "output_type": "stream",
     "text": [
      "0.8554421768707483\n",
      "=================\n",
      "Drift 0 0\n"
     ]
    },
    {
     "name": "stderr",
     "output_type": "stream",
     "text": [
      " 79%|███████▉  | 79/100 [01:37<00:16,  1.27it/s]"
     ]
    },
    {
     "name": "stdout",
     "output_type": "stream",
     "text": [
      "0.755\n",
      "=================\n",
      "Drift 0 0\n"
     ]
    },
    {
     "name": "stderr",
     "output_type": "stream",
     "text": [
      " 80%|████████  | 80/100 [01:39<00:19,  1.04it/s]"
     ]
    },
    {
     "name": "stdout",
     "output_type": "stream",
     "text": [
      "0.7875\n",
      "=================\n",
      "Drift 0 0\n"
     ]
    },
    {
     "name": "stderr",
     "output_type": "stream",
     "text": [
      " 82%|████████▏ | 82/100 [01:42<00:18,  1.05s/it]"
     ]
    },
    {
     "name": "stdout",
     "output_type": "stream",
     "text": [
      "0.8979591836734694\n",
      "=================\n",
      "Drift 0 0\n"
     ]
    },
    {
     "name": "stderr",
     "output_type": "stream",
     "text": [
      " 83%|████████▎ | 83/100 [01:44<00:23,  1.36s/it]"
     ]
    },
    {
     "name": "stdout",
     "output_type": "stream",
     "text": [
      "0.8725\n",
      "=================\n",
      "Drift 0 0\n"
     ]
    },
    {
     "name": "stderr",
     "output_type": "stream",
     "text": [
      " 86%|████████▌ | 86/100 [01:46<00:13,  1.05it/s]"
     ]
    },
    {
     "name": "stdout",
     "output_type": "stream",
     "text": [
      "0.8025\n",
      "=================\n",
      "Drift 0 0\n"
     ]
    },
    {
     "name": "stderr",
     "output_type": "stream",
     "text": [
      " 87%|████████▋ | 87/100 [01:48<00:16,  1.25s/it]"
     ]
    },
    {
     "name": "stdout",
     "output_type": "stream",
     "text": [
      "0.8025\n",
      "=================\n",
      "Drift 0 0\n"
     ]
    },
    {
     "name": "stderr",
     "output_type": "stream",
     "text": [
      " 90%|█████████ | 90/100 [01:50<00:09,  1.05it/s]"
     ]
    },
    {
     "name": "stdout",
     "output_type": "stream",
     "text": [
      "0.8622448979591837\n",
      "=================\n",
      "Drift 0 0\n"
     ]
    },
    {
     "name": "stderr",
     "output_type": "stream",
     "text": [
      " 91%|█████████ | 91/100 [01:51<00:09,  1.02s/it]"
     ]
    },
    {
     "name": "stdout",
     "output_type": "stream",
     "text": [
      "0.8225\n",
      "=================\n",
      "Drift 0 0\n"
     ]
    },
    {
     "name": "stderr",
     "output_type": "stream",
     "text": [
      " 92%|█████████▏| 92/100 [01:53<00:08,  1.07s/it]"
     ]
    },
    {
     "name": "stdout",
     "output_type": "stream",
     "text": [
      "0.82\n",
      "=================\n",
      "Drift 0 0\n"
     ]
    },
    {
     "name": "stderr",
     "output_type": "stream",
     "text": [
      " 93%|█████████▎| 93/100 [01:54<00:08,  1.22s/it]"
     ]
    },
    {
     "name": "stdout",
     "output_type": "stream",
     "text": [
      "0.9125\n",
      "=================\n",
      "Drift 0 0\n"
     ]
    },
    {
     "name": "stderr",
     "output_type": "stream",
     "text": [
      " 94%|█████████▍| 94/100 [01:56<00:07,  1.25s/it]"
     ]
    },
    {
     "name": "stdout",
     "output_type": "stream",
     "text": [
      "0.83\n",
      "=================\n",
      "Drift 0 0\n"
     ]
    },
    {
     "name": "stderr",
     "output_type": "stream",
     "text": [
      " 95%|█████████▌| 95/100 [01:57<00:06,  1.37s/it]"
     ]
    },
    {
     "name": "stdout",
     "output_type": "stream",
     "text": [
      "0.835\n",
      "=================\n",
      "Drift 0 0\n"
     ]
    },
    {
     "name": "stderr",
     "output_type": "stream",
     "text": [
      " 96%|█████████▌| 96/100 [01:59<00:05,  1.41s/it]"
     ]
    },
    {
     "name": "stdout",
     "output_type": "stream",
     "text": [
      "0.79\n",
      "=================\n",
      "Drift 0 0\n"
     ]
    },
    {
     "name": "stderr",
     "output_type": "stream",
     "text": [
      "100%|██████████| 100/100 [02:00<00:00,  1.21s/it]"
     ]
    },
    {
     "name": "stdout",
     "output_type": "stream",
     "text": [
      "0.6775\n",
      "=================\n"
     ]
    },
    {
     "name": "stderr",
     "output_type": "stream",
     "text": [
      "\n"
     ]
    }
   ],
   "source": [
    "import random\n",
    "\n",
    "importance_df_all = pd.DataFrame(columns=['features', 'importances'])\n",
    "\n",
    "for i in tqdm(range(100)):\n",
    "    random.seed(i)\n",
    "    batch_0_path, batch_1_path = random.choices(batches, k=2)\n",
    "    batch_0 = pd.read_parquet(batch_0_path)\n",
    "    batch_1 = pd.read_parquet(batch_1_path)\n",
    "    \n",
    "    drift0 = model.detect_drift(batch_0)\n",
    "    drift1 = model.detect_drift(batch_1)\n",
    "    \n",
    "    if not (drift0==0 and drift1==0):\n",
    "        continue\n",
    "    \n",
    "    print('Drift', drift0, drift1)\n",
    "    \n",
    "    batch_0['label'] = 0\n",
    "    batch_1['label'] = 1\n",
    "    \n",
    "    data = pd.concat([batch_0, batch_1])\n",
    "    train_x, val_x, train_y, val_y = train_test_split(data[features], data['label'], test_size=0.2)\n",
    "    \n",
    "    # print(len(train_x))\n",
    "    # print(len(train_y))\n",
    "\n",
    "    train_data = Pool(train_x, train_y, cat_features=cat_features)\n",
    "    val_data = Pool(val_x, val_y, cat_features=cat_features)\n",
    "    \n",
    "    cb = CatBoostClassifier(random_state=42, loss_function=\"Logloss\", verbose=False)\n",
    "    \n",
    "    cb.fit(train_data, eval_set=(val_data), early_stopping_rounds=100)\n",
    "    \n",
    "    print(accuracy_score(val_y, cb.predict(val_x)))\n",
    "    \n",
    "    print('=================')\n",
    "    \n",
    "    importance_df = pd.DataFrame({'features':cb.feature_names_, 'importances':cb.feature_importances_})\n",
    "    importance_df_all = pd.concat([importance_df_all, importance_df])\n",
    "    "
   ]
  },
  {
   "cell_type": "code",
   "execution_count": 40,
   "metadata": {},
   "outputs": [],
   "source": [
    "# importance_df = pd.DataFrame({'features':model.feature_names_, 'importances':model.feature_importances_})\n",
    "# importance_df.sort_values(by='importances', ascending=False)"
   ]
  },
  {
   "cell_type": "code",
   "execution_count": 46,
   "metadata": {},
   "outputs": [],
   "source": [
    "# model.evals_result_"
   ]
  },
  {
   "cell_type": "code",
   "execution_count": 31,
   "metadata": {},
   "outputs": [],
   "source": [
    "# importance_df_all = importance_df_all.sort_values(by='importances', ascending=False)\n",
    "# plt.figure(figsize=(15,10))\n",
    "# sns.barplot(importance_df_all, x='importances', y='features')\n",
    "# plt.show()"
   ]
  },
  {
   "attachments": {},
   "cell_type": "markdown",
   "metadata": {},
   "source": [
    "# 2 drifted easy to discriminate"
   ]
  },
  {
   "cell_type": "code",
   "execution_count": 68,
   "metadata": {},
   "outputs": [],
   "source": [
    "dfs = []\n",
    "drifts = []\n",
    "groups = []\n",
    "\n",
    "for i, batch in enumerate(batches):\n",
    "    group_arr = np.full(shape=len(df), fill_value=i)\n",
    "    groups.append(group_arr)\n",
    "    \n",
    "    df = pd.read_parquet(batch)\n",
    "    dfs.append(df)\n",
    "    \n",
    "    is_drift = model.detect_drift(df)\n",
    "    is_drift_arr = np.full(shape=len(df), fill_value=is_drift)\n",
    "    drifts.append(is_drift_arr)\n",
    "    "
   ]
  },
  {
   "cell_type": "code",
   "execution_count": 69,
   "metadata": {},
   "outputs": [],
   "source": [
    "df_all = pd.concat(dfs)\n",
    "drift_all = np.concatenate(drifts)\n",
    "group_all = np.concatenate(groups)"
   ]
  },
  {
   "cell_type": "code",
   "execution_count": 70,
   "metadata": {},
   "outputs": [],
   "source": [
    "df_all = df_all[features]"
   ]
  },
  {
   "cell_type": "code",
   "execution_count": 99,
   "metadata": {},
   "outputs": [
    {
     "data": {
      "text/html": [
       "<div>\n",
       "<style scoped>\n",
       "    .dataframe tbody tr th:only-of-type {\n",
       "        vertical-align: middle;\n",
       "    }\n",
       "\n",
       "    .dataframe tbody tr th {\n",
       "        vertical-align: top;\n",
       "    }\n",
       "\n",
       "    .dataframe thead th {\n",
       "        text-align: right;\n",
       "    }\n",
       "</style>\n",
       "<table border=\"1\" class=\"dataframe\">\n",
       "  <thead>\n",
       "    <tr style=\"text-align: right;\">\n",
       "      <th></th>\n",
       "      <th>feature1</th>\n",
       "      <th>feature5</th>\n",
       "      <th>feature6</th>\n",
       "      <th>feature7</th>\n",
       "      <th>feature8</th>\n",
       "      <th>feature9</th>\n",
       "      <th>feature10</th>\n",
       "      <th>feature11</th>\n",
       "      <th>feature12</th>\n",
       "      <th>feature13</th>\n",
       "      <th>feature14</th>\n",
       "      <th>feature15</th>\n",
       "      <th>feature16</th>\n",
       "      <th>feature17</th>\n",
       "      <th>feature18</th>\n",
       "      <th>feature19</th>\n",
       "      <th>feature20</th>\n",
       "      <th>feature21</th>\n",
       "      <th>feature22</th>\n",
       "      <th>feature23</th>\n",
       "      <th>feature24</th>\n",
       "      <th>feature25</th>\n",
       "      <th>feature26</th>\n",
       "      <th>feature27</th>\n",
       "      <th>feature28</th>\n",
       "      <th>feature29</th>\n",
       "      <th>feature30</th>\n",
       "      <th>feature31</th>\n",
       "      <th>feature32</th>\n",
       "      <th>feature33</th>\n",
       "      <th>feature34</th>\n",
       "      <th>feature35</th>\n",
       "      <th>feature36</th>\n",
       "      <th>feature37</th>\n",
       "      <th>feature38</th>\n",
       "      <th>feature39</th>\n",
       "      <th>feature40</th>\n",
       "      <th>feature41</th>\n",
       "      <th>feature2</th>\n",
       "      <th>feature3</th>\n",
       "      <th>feature4</th>\n",
       "    </tr>\n",
       "  </thead>\n",
       "  <tbody>\n",
       "    <tr>\n",
       "      <th>0</th>\n",
       "      <td>0.676748</td>\n",
       "      <td>16.0</td>\n",
       "      <td>12.0</td>\n",
       "      <td>912.0</td>\n",
       "      <td>694.0</td>\n",
       "      <td>254.0</td>\n",
       "      <td>252.0</td>\n",
       "      <td>1.010716e+04</td>\n",
       "      <td>7530.129395</td>\n",
       "      <td>5.0</td>\n",
       "      <td>4.0</td>\n",
       "      <td>42.741866</td>\n",
       "      <td>57.069910</td>\n",
       "      <td>2172.679196</td>\n",
       "      <td>68.923070</td>\n",
       "      <td>255.0</td>\n",
       "      <td>2.051126e+09</td>\n",
       "      <td>4.161685e+09</td>\n",
       "      <td>255.0</td>\n",
       "      <td>0.093603</td>\n",
       "      <td>0.048968</td>\n",
       "      <td>4.463500e-02</td>\n",
       "      <td>57.0</td>\n",
       "      <td>58.0</td>\n",
       "      <td>0.0</td>\n",
       "      <td>0.0</td>\n",
       "      <td>2.0</td>\n",
       "      <td>1.0</td>\n",
       "      <td>1.0</td>\n",
       "      <td>1.0</td>\n",
       "      <td>1.0</td>\n",
       "      <td>1.0</td>\n",
       "      <td>0.0</td>\n",
       "      <td>0.0</td>\n",
       "      <td>0.0</td>\n",
       "      <td>1.0</td>\n",
       "      <td>2.0</td>\n",
       "      <td>0.000000e+00</td>\n",
       "      <td>112</td>\n",
       "      <td>0</td>\n",
       "      <td>3</td>\n",
       "    </tr>\n",
       "    <tr>\n",
       "      <th>1</th>\n",
       "      <td>1.164956</td>\n",
       "      <td>28.0</td>\n",
       "      <td>30.0</td>\n",
       "      <td>4192.0</td>\n",
       "      <td>3080.0</td>\n",
       "      <td>31.0</td>\n",
       "      <td>29.0</td>\n",
       "      <td>2.776414e+04</td>\n",
       "      <td>20450.558590</td>\n",
       "      <td>7.0</td>\n",
       "      <td>7.0</td>\n",
       "      <td>43.132518</td>\n",
       "      <td>40.146898</td>\n",
       "      <td>2546.536013</td>\n",
       "      <td>66.490320</td>\n",
       "      <td>255.0</td>\n",
       "      <td>2.700653e+09</td>\n",
       "      <td>2.904530e+09</td>\n",
       "      <td>255.0</td>\n",
       "      <td>0.000848</td>\n",
       "      <td>0.000690</td>\n",
       "      <td>1.580000e-04</td>\n",
       "      <td>150.0</td>\n",
       "      <td>103.0</td>\n",
       "      <td>0.0</td>\n",
       "      <td>0.0</td>\n",
       "      <td>11.0</td>\n",
       "      <td>0.0</td>\n",
       "      <td>3.0</td>\n",
       "      <td>1.0</td>\n",
       "      <td>1.0</td>\n",
       "      <td>1.0</td>\n",
       "      <td>0.0</td>\n",
       "      <td>0.0</td>\n",
       "      <td>0.0</td>\n",
       "      <td>2.0</td>\n",
       "      <td>11.0</td>\n",
       "      <td>6.131269e-09</td>\n",
       "      <td>112</td>\n",
       "      <td>0</td>\n",
       "      <td>3</td>\n",
       "    </tr>\n",
       "    <tr>\n",
       "      <th>2</th>\n",
       "      <td>0.000003</td>\n",
       "      <td>2.0</td>\n",
       "      <td>0.0</td>\n",
       "      <td>114.0</td>\n",
       "      <td>0.0</td>\n",
       "      <td>254.0</td>\n",
       "      <td>0.0</td>\n",
       "      <td>1.520000e+08</td>\n",
       "      <td>0.000000</td>\n",
       "      <td>0.0</td>\n",
       "      <td>0.0</td>\n",
       "      <td>0.003000</td>\n",
       "      <td>0.000000</td>\n",
       "      <td>0.000000</td>\n",
       "      <td>0.000000</td>\n",
       "      <td>0.0</td>\n",
       "      <td>0.000000e+00</td>\n",
       "      <td>7.758963e-09</td>\n",
       "      <td>0.0</td>\n",
       "      <td>0.000000</td>\n",
       "      <td>0.000000</td>\n",
       "      <td>5.340208e-09</td>\n",
       "      <td>57.0</td>\n",
       "      <td>0.0</td>\n",
       "      <td>0.0</td>\n",
       "      <td>0.0</td>\n",
       "      <td>33.0</td>\n",
       "      <td>2.0</td>\n",
       "      <td>33.0</td>\n",
       "      <td>33.0</td>\n",
       "      <td>16.0</td>\n",
       "      <td>33.0</td>\n",
       "      <td>0.0</td>\n",
       "      <td>0.0</td>\n",
       "      <td>0.0</td>\n",
       "      <td>33.0</td>\n",
       "      <td>33.0</td>\n",
       "      <td>0.000000e+00</td>\n",
       "      <td>118</td>\n",
       "      <td>2</td>\n",
       "      <td>4</td>\n",
       "    </tr>\n",
       "    <tr>\n",
       "      <th>3</th>\n",
       "      <td>1.414127</td>\n",
       "      <td>18.0</td>\n",
       "      <td>12.0</td>\n",
       "      <td>2202.0</td>\n",
       "      <td>678.0</td>\n",
       "      <td>254.0</td>\n",
       "      <td>252.0</td>\n",
       "      <td>1.176698e+04</td>\n",
       "      <td>3518.778809</td>\n",
       "      <td>4.0</td>\n",
       "      <td>4.0</td>\n",
       "      <td>83.183941</td>\n",
       "      <td>122.462906</td>\n",
       "      <td>4605.064688</td>\n",
       "      <td>167.390500</td>\n",
       "      <td>255.0</td>\n",
       "      <td>1.895916e+09</td>\n",
       "      <td>1.122618e+09</td>\n",
       "      <td>255.0</td>\n",
       "      <td>0.132919</td>\n",
       "      <td>0.066340</td>\n",
       "      <td>6.657900e-02</td>\n",
       "      <td>122.0</td>\n",
       "      <td>57.0</td>\n",
       "      <td>0.0</td>\n",
       "      <td>0.0</td>\n",
       "      <td>5.0</td>\n",
       "      <td>1.0</td>\n",
       "      <td>1.0</td>\n",
       "      <td>1.0</td>\n",
       "      <td>1.0</td>\n",
       "      <td>4.0</td>\n",
       "      <td>0.0</td>\n",
       "      <td>0.0</td>\n",
       "      <td>0.0</td>\n",
       "      <td>2.0</td>\n",
       "      <td>4.0</td>\n",
       "      <td>6.131269e-09</td>\n",
       "      <td>112</td>\n",
       "      <td>0</td>\n",
       "      <td>3</td>\n",
       "    </tr>\n",
       "    <tr>\n",
       "      <th>4</th>\n",
       "      <td>0.001076</td>\n",
       "      <td>2.0</td>\n",
       "      <td>2.0</td>\n",
       "      <td>130.0</td>\n",
       "      <td>162.0</td>\n",
       "      <td>31.0</td>\n",
       "      <td>29.0</td>\n",
       "      <td>4.832713e+05</td>\n",
       "      <td>602230.437500</td>\n",
       "      <td>0.0</td>\n",
       "      <td>0.0</td>\n",
       "      <td>0.010000</td>\n",
       "      <td>0.008000</td>\n",
       "      <td>0.000000</td>\n",
       "      <td>0.000000</td>\n",
       "      <td>0.0</td>\n",
       "      <td>0.000000e+00</td>\n",
       "      <td>0.000000e+00</td>\n",
       "      <td>0.0</td>\n",
       "      <td>0.000000</td>\n",
       "      <td>0.000000</td>\n",
       "      <td>5.340208e-09</td>\n",
       "      <td>65.0</td>\n",
       "      <td>81.0</td>\n",
       "      <td>0.0</td>\n",
       "      <td>0.0</td>\n",
       "      <td>3.0</td>\n",
       "      <td>0.0</td>\n",
       "      <td>4.0</td>\n",
       "      <td>2.0</td>\n",
       "      <td>2.0</td>\n",
       "      <td>3.0</td>\n",
       "      <td>0.0</td>\n",
       "      <td>0.0</td>\n",
       "      <td>0.0</td>\n",
       "      <td>7.0</td>\n",
       "      <td>2.0</td>\n",
       "      <td>6.131269e-09</td>\n",
       "      <td>118</td>\n",
       "      <td>2</td>\n",
       "      <td>1</td>\n",
       "    </tr>\n",
       "    <tr>\n",
       "      <th>...</th>\n",
       "      <td>...</td>\n",
       "      <td>...</td>\n",
       "      <td>...</td>\n",
       "      <td>...</td>\n",
       "      <td>...</td>\n",
       "      <td>...</td>\n",
       "      <td>...</td>\n",
       "      <td>...</td>\n",
       "      <td>...</td>\n",
       "      <td>...</td>\n",
       "      <td>...</td>\n",
       "      <td>...</td>\n",
       "      <td>...</td>\n",
       "      <td>...</td>\n",
       "      <td>...</td>\n",
       "      <td>...</td>\n",
       "      <td>...</td>\n",
       "      <td>...</td>\n",
       "      <td>...</td>\n",
       "      <td>...</td>\n",
       "      <td>...</td>\n",
       "      <td>...</td>\n",
       "      <td>...</td>\n",
       "      <td>...</td>\n",
       "      <td>...</td>\n",
       "      <td>...</td>\n",
       "      <td>...</td>\n",
       "      <td>...</td>\n",
       "      <td>...</td>\n",
       "      <td>...</td>\n",
       "      <td>...</td>\n",
       "      <td>...</td>\n",
       "      <td>...</td>\n",
       "      <td>...</td>\n",
       "      <td>...</td>\n",
       "      <td>...</td>\n",
       "      <td>...</td>\n",
       "      <td>...</td>\n",
       "      <td>...</td>\n",
       "      <td>...</td>\n",
       "      <td>...</td>\n",
       "    </tr>\n",
       "    <tr>\n",
       "      <th>1935</th>\n",
       "      <td>0.005324</td>\n",
       "      <td>4.0</td>\n",
       "      <td>4.0</td>\n",
       "      <td>568.0</td>\n",
       "      <td>320.0</td>\n",
       "      <td>31.0</td>\n",
       "      <td>29.0</td>\n",
       "      <td>6.401202e+05</td>\n",
       "      <td>360631.093800</td>\n",
       "      <td>0.0</td>\n",
       "      <td>0.0</td>\n",
       "      <td>1.361000</td>\n",
       "      <td>1.281333</td>\n",
       "      <td>1.919795</td>\n",
       "      <td>1.804302</td>\n",
       "      <td>0.0</td>\n",
       "      <td>4.632545e-09</td>\n",
       "      <td>0.000000e+00</td>\n",
       "      <td>0.0</td>\n",
       "      <td>0.000000</td>\n",
       "      <td>0.000000</td>\n",
       "      <td>0.000000e+00</td>\n",
       "      <td>142.0</td>\n",
       "      <td>80.0</td>\n",
       "      <td>0.0</td>\n",
       "      <td>0.0</td>\n",
       "      <td>15.0</td>\n",
       "      <td>0.0</td>\n",
       "      <td>6.0</td>\n",
       "      <td>1.0</td>\n",
       "      <td>1.0</td>\n",
       "      <td>4.0</td>\n",
       "      <td>0.0</td>\n",
       "      <td>0.0</td>\n",
       "      <td>0.0</td>\n",
       "      <td>5.0</td>\n",
       "      <td>19.0</td>\n",
       "      <td>0.000000e+00</td>\n",
       "      <td>118</td>\n",
       "      <td>0</td>\n",
       "      <td>1</td>\n",
       "    </tr>\n",
       "    <tr>\n",
       "      <th>1936</th>\n",
       "      <td>0.001043</td>\n",
       "      <td>2.0</td>\n",
       "      <td>2.0</td>\n",
       "      <td>146.0</td>\n",
       "      <td>178.0</td>\n",
       "      <td>31.0</td>\n",
       "      <td>29.0</td>\n",
       "      <td>5.599233e+05</td>\n",
       "      <td>682646.187500</td>\n",
       "      <td>0.0</td>\n",
       "      <td>0.0</td>\n",
       "      <td>0.009000</td>\n",
       "      <td>0.002000</td>\n",
       "      <td>0.000000</td>\n",
       "      <td>0.000000</td>\n",
       "      <td>0.0</td>\n",
       "      <td>0.000000e+00</td>\n",
       "      <td>0.000000e+00</td>\n",
       "      <td>0.0</td>\n",
       "      <td>0.000000</td>\n",
       "      <td>0.000000</td>\n",
       "      <td>0.000000e+00</td>\n",
       "      <td>73.0</td>\n",
       "      <td>89.0</td>\n",
       "      <td>0.0</td>\n",
       "      <td>0.0</td>\n",
       "      <td>5.0</td>\n",
       "      <td>0.0</td>\n",
       "      <td>1.0</td>\n",
       "      <td>1.0</td>\n",
       "      <td>1.0</td>\n",
       "      <td>2.0</td>\n",
       "      <td>0.0</td>\n",
       "      <td>0.0</td>\n",
       "      <td>0.0</td>\n",
       "      <td>2.0</td>\n",
       "      <td>3.0</td>\n",
       "      <td>0.000000e+00</td>\n",
       "      <td>118</td>\n",
       "      <td>2</td>\n",
       "      <td>1</td>\n",
       "    </tr>\n",
       "    <tr>\n",
       "      <th>1937</th>\n",
       "      <td>0.593767</td>\n",
       "      <td>10.0</td>\n",
       "      <td>10.0</td>\n",
       "      <td>836.0</td>\n",
       "      <td>1190.0</td>\n",
       "      <td>62.0</td>\n",
       "      <td>252.0</td>\n",
       "      <td>1.014539e+04</td>\n",
       "      <td>14429.903320</td>\n",
       "      <td>2.0</td>\n",
       "      <td>2.0</td>\n",
       "      <td>65.974111</td>\n",
       "      <td>55.797445</td>\n",
       "      <td>4211.179300</td>\n",
       "      <td>101.834078</td>\n",
       "      <td>255.0</td>\n",
       "      <td>2.478570e+09</td>\n",
       "      <td>1.472963e+09</td>\n",
       "      <td>255.0</td>\n",
       "      <td>0.124882</td>\n",
       "      <td>0.059970</td>\n",
       "      <td>6.491200e-02</td>\n",
       "      <td>84.0</td>\n",
       "      <td>119.0</td>\n",
       "      <td>1.0</td>\n",
       "      <td>130.0</td>\n",
       "      <td>6.0</td>\n",
       "      <td>1.0</td>\n",
       "      <td>1.0</td>\n",
       "      <td>1.0</td>\n",
       "      <td>1.0</td>\n",
       "      <td>6.0</td>\n",
       "      <td>0.0</td>\n",
       "      <td>0.0</td>\n",
       "      <td>1.0</td>\n",
       "      <td>2.0</td>\n",
       "      <td>6.0</td>\n",
       "      <td>0.000000e+00</td>\n",
       "      <td>112</td>\n",
       "      <td>5</td>\n",
       "      <td>3</td>\n",
       "    </tr>\n",
       "    <tr>\n",
       "      <th>1938</th>\n",
       "      <td>0.750231</td>\n",
       "      <td>10.0</td>\n",
       "      <td>10.0</td>\n",
       "      <td>608.0</td>\n",
       "      <td>646.0</td>\n",
       "      <td>254.0</td>\n",
       "      <td>252.0</td>\n",
       "      <td>5.843533e+03</td>\n",
       "      <td>6206.088379</td>\n",
       "      <td>2.0</td>\n",
       "      <td>3.0</td>\n",
       "      <td>83.258333</td>\n",
       "      <td>70.847336</td>\n",
       "      <td>4674.619016</td>\n",
       "      <td>98.939719</td>\n",
       "      <td>255.0</td>\n",
       "      <td>2.784643e+09</td>\n",
       "      <td>1.439993e+09</td>\n",
       "      <td>255.0</td>\n",
       "      <td>0.175115</td>\n",
       "      <td>0.112596</td>\n",
       "      <td>6.251900e-02</td>\n",
       "      <td>61.0</td>\n",
       "      <td>65.0</td>\n",
       "      <td>0.0</td>\n",
       "      <td>0.0</td>\n",
       "      <td>4.0</td>\n",
       "      <td>1.0</td>\n",
       "      <td>1.0</td>\n",
       "      <td>1.0</td>\n",
       "      <td>1.0</td>\n",
       "      <td>3.0</td>\n",
       "      <td>0.0</td>\n",
       "      <td>0.0</td>\n",
       "      <td>0.0</td>\n",
       "      <td>2.0</td>\n",
       "      <td>3.0</td>\n",
       "      <td>0.000000e+00</td>\n",
       "      <td>112</td>\n",
       "      <td>0</td>\n",
       "      <td>3</td>\n",
       "    </tr>\n",
       "    <tr>\n",
       "      <th>1939</th>\n",
       "      <td>0.000009</td>\n",
       "      <td>2.0</td>\n",
       "      <td>0.0</td>\n",
       "      <td>114.0</td>\n",
       "      <td>0.0</td>\n",
       "      <td>254.0</td>\n",
       "      <td>0.0</td>\n",
       "      <td>5.066666e+07</td>\n",
       "      <td>0.000000</td>\n",
       "      <td>0.0</td>\n",
       "      <td>0.0</td>\n",
       "      <td>0.009000</td>\n",
       "      <td>0.000000</td>\n",
       "      <td>0.000000</td>\n",
       "      <td>0.000000</td>\n",
       "      <td>0.0</td>\n",
       "      <td>0.000000e+00</td>\n",
       "      <td>0.000000e+00</td>\n",
       "      <td>0.0</td>\n",
       "      <td>0.000000</td>\n",
       "      <td>0.000000</td>\n",
       "      <td>0.000000e+00</td>\n",
       "      <td>57.0</td>\n",
       "      <td>0.0</td>\n",
       "      <td>0.0</td>\n",
       "      <td>0.0</td>\n",
       "      <td>35.0</td>\n",
       "      <td>2.0</td>\n",
       "      <td>34.0</td>\n",
       "      <td>34.0</td>\n",
       "      <td>16.0</td>\n",
       "      <td>35.0</td>\n",
       "      <td>0.0</td>\n",
       "      <td>0.0</td>\n",
       "      <td>0.0</td>\n",
       "      <td>34.0</td>\n",
       "      <td>35.0</td>\n",
       "      <td>0.000000e+00</td>\n",
       "      <td>118</td>\n",
       "      <td>2</td>\n",
       "      <td>4</td>\n",
       "    </tr>\n",
       "  </tbody>\n",
       "</table>\n",
       "<p>225052 rows × 41 columns</p>\n",
       "</div>"
      ],
      "text/plain": [
       "      feature1  feature5  feature6  feature7  feature8  feature9  feature10   \n",
       "0     0.676748      16.0      12.0     912.0     694.0     254.0      252.0  \\\n",
       "1     1.164956      28.0      30.0    4192.0    3080.0      31.0       29.0   \n",
       "2     0.000003       2.0       0.0     114.0       0.0     254.0        0.0   \n",
       "3     1.414127      18.0      12.0    2202.0     678.0     254.0      252.0   \n",
       "4     0.001076       2.0       2.0     130.0     162.0      31.0       29.0   \n",
       "...        ...       ...       ...       ...       ...       ...        ...   \n",
       "1935  0.005324       4.0       4.0     568.0     320.0      31.0       29.0   \n",
       "1936  0.001043       2.0       2.0     146.0     178.0      31.0       29.0   \n",
       "1937  0.593767      10.0      10.0     836.0    1190.0      62.0      252.0   \n",
       "1938  0.750231      10.0      10.0     608.0     646.0     254.0      252.0   \n",
       "1939  0.000009       2.0       0.0     114.0       0.0     254.0        0.0   \n",
       "\n",
       "         feature11      feature12  feature13  feature14  feature15   \n",
       "0     1.010716e+04    7530.129395        5.0        4.0  42.741866  \\\n",
       "1     2.776414e+04   20450.558590        7.0        7.0  43.132518   \n",
       "2     1.520000e+08       0.000000        0.0        0.0   0.003000   \n",
       "3     1.176698e+04    3518.778809        4.0        4.0  83.183941   \n",
       "4     4.832713e+05  602230.437500        0.0        0.0   0.010000   \n",
       "...            ...            ...        ...        ...        ...   \n",
       "1935  6.401202e+05  360631.093800        0.0        0.0   1.361000   \n",
       "1936  5.599233e+05  682646.187500        0.0        0.0   0.009000   \n",
       "1937  1.014539e+04   14429.903320        2.0        2.0  65.974111   \n",
       "1938  5.843533e+03    6206.088379        2.0        3.0  83.258333   \n",
       "1939  5.066666e+07       0.000000        0.0        0.0   0.009000   \n",
       "\n",
       "       feature16    feature17   feature18  feature19     feature20   \n",
       "0      57.069910  2172.679196   68.923070      255.0  2.051126e+09  \\\n",
       "1      40.146898  2546.536013   66.490320      255.0  2.700653e+09   \n",
       "2       0.000000     0.000000    0.000000        0.0  0.000000e+00   \n",
       "3     122.462906  4605.064688  167.390500      255.0  1.895916e+09   \n",
       "4       0.008000     0.000000    0.000000        0.0  0.000000e+00   \n",
       "...          ...          ...         ...        ...           ...   \n",
       "1935    1.281333     1.919795    1.804302        0.0  4.632545e-09   \n",
       "1936    0.002000     0.000000    0.000000        0.0  0.000000e+00   \n",
       "1937   55.797445  4211.179300  101.834078      255.0  2.478570e+09   \n",
       "1938   70.847336  4674.619016   98.939719      255.0  2.784643e+09   \n",
       "1939    0.000000     0.000000    0.000000        0.0  0.000000e+00   \n",
       "\n",
       "         feature21  feature22  feature23  feature24     feature25  feature26   \n",
       "0     4.161685e+09      255.0   0.093603   0.048968  4.463500e-02       57.0  \\\n",
       "1     2.904530e+09      255.0   0.000848   0.000690  1.580000e-04      150.0   \n",
       "2     7.758963e-09        0.0   0.000000   0.000000  5.340208e-09       57.0   \n",
       "3     1.122618e+09      255.0   0.132919   0.066340  6.657900e-02      122.0   \n",
       "4     0.000000e+00        0.0   0.000000   0.000000  5.340208e-09       65.0   \n",
       "...            ...        ...        ...        ...           ...        ...   \n",
       "1935  0.000000e+00        0.0   0.000000   0.000000  0.000000e+00      142.0   \n",
       "1936  0.000000e+00        0.0   0.000000   0.000000  0.000000e+00       73.0   \n",
       "1937  1.472963e+09      255.0   0.124882   0.059970  6.491200e-02       84.0   \n",
       "1938  1.439993e+09      255.0   0.175115   0.112596  6.251900e-02       61.0   \n",
       "1939  0.000000e+00        0.0   0.000000   0.000000  0.000000e+00       57.0   \n",
       "\n",
       "      feature27  feature28  feature29  feature30  feature31  feature32   \n",
       "0          58.0        0.0        0.0        2.0        1.0        1.0  \\\n",
       "1         103.0        0.0        0.0       11.0        0.0        3.0   \n",
       "2           0.0        0.0        0.0       33.0        2.0       33.0   \n",
       "3          57.0        0.0        0.0        5.0        1.0        1.0   \n",
       "4          81.0        0.0        0.0        3.0        0.0        4.0   \n",
       "...         ...        ...        ...        ...        ...        ...   \n",
       "1935       80.0        0.0        0.0       15.0        0.0        6.0   \n",
       "1936       89.0        0.0        0.0        5.0        0.0        1.0   \n",
       "1937      119.0        1.0      130.0        6.0        1.0        1.0   \n",
       "1938       65.0        0.0        0.0        4.0        1.0        1.0   \n",
       "1939        0.0        0.0        0.0       35.0        2.0       34.0   \n",
       "\n",
       "      feature33  feature34  feature35  feature36  feature37  feature38   \n",
       "0           1.0        1.0        1.0        0.0        0.0        0.0  \\\n",
       "1           1.0        1.0        1.0        0.0        0.0        0.0   \n",
       "2          33.0       16.0       33.0        0.0        0.0        0.0   \n",
       "3           1.0        1.0        4.0        0.0        0.0        0.0   \n",
       "4           2.0        2.0        3.0        0.0        0.0        0.0   \n",
       "...         ...        ...        ...        ...        ...        ...   \n",
       "1935        1.0        1.0        4.0        0.0        0.0        0.0   \n",
       "1936        1.0        1.0        2.0        0.0        0.0        0.0   \n",
       "1937        1.0        1.0        6.0        0.0        0.0        1.0   \n",
       "1938        1.0        1.0        3.0        0.0        0.0        0.0   \n",
       "1939       34.0       16.0       35.0        0.0        0.0        0.0   \n",
       "\n",
       "      feature39  feature40     feature41  feature2  feature3  feature4  \n",
       "0           1.0        2.0  0.000000e+00       112         0         3  \n",
       "1           2.0       11.0  6.131269e-09       112         0         3  \n",
       "2          33.0       33.0  0.000000e+00       118         2         4  \n",
       "3           2.0        4.0  6.131269e-09       112         0         3  \n",
       "4           7.0        2.0  6.131269e-09       118         2         1  \n",
       "...         ...        ...           ...       ...       ...       ...  \n",
       "1935        5.0       19.0  0.000000e+00       118         0         1  \n",
       "1936        2.0        3.0  0.000000e+00       118         2         1  \n",
       "1937        2.0        6.0  0.000000e+00       112         5         3  \n",
       "1938        2.0        3.0  0.000000e+00       112         0         3  \n",
       "1939       34.0       35.0  0.000000e+00       118         2         4  \n",
       "\n",
       "[225052 rows x 41 columns]"
      ]
     },
     "execution_count": 99,
     "metadata": {},
     "output_type": "execute_result"
    }
   ],
   "source": [
    "df_all"
   ]
  },
  {
   "cell_type": "code",
   "execution_count": 71,
   "metadata": {},
   "outputs": [],
   "source": [
    "from sklearn.model_selection import GroupShuffleSplit"
   ]
  },
  {
   "cell_type": "code",
   "execution_count": 105,
   "metadata": {},
   "outputs": [
    {
     "name": "stdout",
     "output_type": "stream",
     "text": [
      "Learning rate set to 0.041943\n",
      "0:\tlearn: 0.6171151\ttest: 0.6152961\tbest: 0.6152961 (0)\ttotal: 48.7ms\tremaining: 8m 6s\n",
      "300:\tlearn: 0.0444769\ttest: 0.0501089\tbest: 0.0501089 (300)\ttotal: 15.7s\tremaining: 8m 26s\n",
      "600:\tlearn: 0.0286185\ttest: 0.0342227\tbest: 0.0342227 (600)\ttotal: 31.8s\tremaining: 8m 16s\n",
      "900:\tlearn: 0.0198922\ttest: 0.0258172\tbest: 0.0258172 (900)\ttotal: 48.1s\tremaining: 8m 5s\n",
      "1200:\tlearn: 0.0150628\ttest: 0.0216691\tbest: 0.0216691 (1200)\ttotal: 1m 4s\tremaining: 7m 50s\n",
      "1500:\tlearn: 0.0120512\ttest: 0.0184031\tbest: 0.0184031 (1500)\ttotal: 1m 20s\tremaining: 7m 34s\n",
      "1800:\tlearn: 0.0104635\ttest: 0.0170232\tbest: 0.0170210 (1799)\ttotal: 1m 35s\tremaining: 7m 14s\n",
      "2100:\tlearn: 0.0089605\ttest: 0.0153673\tbest: 0.0153673 (2100)\ttotal: 1m 51s\tremaining: 6m 59s\n",
      "2400:\tlearn: 0.0080746\ttest: 0.0142840\tbest: 0.0142840 (2400)\ttotal: 2m 6s\tremaining: 6m 39s\n",
      "2700:\tlearn: 0.0073512\ttest: 0.0135472\tbest: 0.0135472 (2699)\ttotal: 2m 20s\tremaining: 6m 20s\n",
      "3000:\tlearn: 0.0067196\ttest: 0.0128056\tbest: 0.0128056 (2999)\ttotal: 2m 36s\tremaining: 6m 4s\n",
      "3300:\tlearn: 0.0063234\ttest: 0.0123738\tbest: 0.0123738 (3298)\ttotal: 2m 50s\tremaining: 5m 45s\n",
      "3600:\tlearn: 0.0060832\ttest: 0.0121508\tbest: 0.0121477 (3507)\ttotal: 3m 3s\tremaining: 5m 25s\n",
      "3900:\tlearn: 0.0059224\ttest: 0.0120119\tbest: 0.0120076 (3890)\ttotal: 3m 15s\tremaining: 5m 6s\n",
      "4200:\tlearn: 0.0057594\ttest: 0.0118930\tbest: 0.0118903 (4180)\ttotal: 3m 28s\tremaining: 4m 48s\n",
      "4500:\tlearn: 0.0056794\ttest: 0.0118154\tbest: 0.0118154 (4500)\ttotal: 3m 40s\tremaining: 4m 29s\n",
      "4800:\tlearn: 0.0055523\ttest: 0.0117254\tbest: 0.0117248 (4793)\ttotal: 3m 53s\tremaining: 4m 12s\n",
      "5100:\tlearn: 0.0054671\ttest: 0.0116641\tbest: 0.0116637 (5083)\ttotal: 4m 5s\tremaining: 3m 56s\n",
      "5400:\tlearn: 0.0054324\ttest: 0.0116391\tbest: 0.0116391 (5400)\ttotal: 4m 16s\tremaining: 3m 38s\n",
      "5700:\tlearn: 0.0053296\ttest: 0.0115643\tbest: 0.0115600 (5664)\ttotal: 4m 29s\tremaining: 3m 23s\n",
      "6000:\tlearn: 0.0052684\ttest: 0.0115407\tbest: 0.0115406 (5994)\ttotal: 4m 41s\tremaining: 3m 7s\n",
      "6300:\tlearn: 0.0052027\ttest: 0.0115144\tbest: 0.0115144 (6300)\ttotal: 4m 53s\tremaining: 2m 52s\n",
      "6600:\tlearn: 0.0050997\ttest: 0.0114539\tbest: 0.0114518 (6449)\ttotal: 5m 6s\tremaining: 2m 37s\n",
      "6900:\tlearn: 0.0050592\ttest: 0.0114108\tbest: 0.0114049 (6898)\ttotal: 5m 17s\tremaining: 2m 22s\n",
      "7200:\tlearn: 0.0049744\ttest: 0.0112673\tbest: 0.0112673 (7199)\ttotal: 5m 30s\tremaining: 2m 8s\n",
      "7500:\tlearn: 0.0049292\ttest: 0.0112206\tbest: 0.0112206 (7500)\ttotal: 5m 42s\tremaining: 1m 53s\n",
      "7800:\tlearn: 0.0048923\ttest: 0.0111781\tbest: 0.0111771 (7792)\ttotal: 5m 53s\tremaining: 1m 39s\n",
      "8100:\tlearn: 0.0048753\ttest: 0.0111399\tbest: 0.0111399 (8100)\ttotal: 6m 4s\tremaining: 1m 25s\n",
      "8400:\tlearn: 0.0048554\ttest: 0.0111386\tbest: 0.0111310 (8184)\ttotal: 6m 15s\tremaining: 1m 11s\n",
      "Stopped by overfitting detector  (300 iterations wait)\n",
      "\n",
      "bestTest = 0.01113103462\n",
      "bestIteration = 8184\n",
      "\n",
      "Shrink model to first 8185 iterations.\n",
      "0.9960927210466239\n"
     ]
    }
   ],
   "source": [
    "train_inds, val_inds = next(GroupShuffleSplit(test_size=0.2, random_state=42).split(df_all, groups=group_all)) \n",
    "\n",
    "# train_x, val_x, train_y, val_y = train_test_split(df_all, drift_all, test_size=0.2)\n",
    "train_x = df_all.iloc[train_inds]\n",
    "val_x = df_all.iloc[val_inds]\n",
    "train_y = drift_all[train_inds]\n",
    "val_y = drift_all[val_inds]\n",
    "\n",
    "train_data = Pool(train_x, train_y, cat_features=cat_features)\n",
    "val_data = Pool(val_x, val_y, cat_features=cat_features)\n",
    "\n",
    "detect_drift_model = CatBoostClassifier(iterations=10000, random_state=42, loss_function=\"Logloss\", verbose=300)\n",
    "\n",
    "detect_drift_model.fit(train_data, eval_set=(val_data), early_stopping_rounds=300)\n",
    "\n",
    "print(accuracy_score(val_y, detect_drift_model.predict(val_x)))\n"
   ]
  },
  {
   "cell_type": "code",
   "execution_count": 115,
   "metadata": {},
   "outputs": [],
   "source": [
    "train_x = pd.read_parquet('data/train_data/phase-3/prob-2/train_x.parquet')\n",
    "val_x = pd.read_parquet('data/train_data/phase-3/prob-2/test_x.parquet')"
   ]
  },
  {
   "cell_type": "code",
   "execution_count": 116,
   "metadata": {},
   "outputs": [],
   "source": [
    "# train_y = pd.read_parquet('data/train_data/phase-3/prob-2/train_y.parquet')\n",
    "# train_y"
   ]
  },
  {
   "cell_type": "code",
   "execution_count": 117,
   "metadata": {},
   "outputs": [
    {
     "data": {
      "text/plain": [
       "<catboost.core.Pool at 0x7fdb4905ec40>"
      ]
     },
     "execution_count": 117,
     "metadata": {},
     "output_type": "execute_result"
    }
   ],
   "source": [
    "train_x = Pool(train_x, cat_features=cat_features)\n",
    "train_x"
   ]
  },
  {
   "cell_type": "code",
   "execution_count": 118,
   "metadata": {},
   "outputs": [
    {
     "data": {
      "text/plain": [
       "array([0, 0, 0, ..., 0, 0, 0])"
      ]
     },
     "execution_count": 118,
     "metadata": {},
     "output_type": "execute_result"
    }
   ],
   "source": [
    "train_drift = detect_drift_model.predict(train_x)\n",
    "train_drift"
   ]
  },
  {
   "cell_type": "code",
   "execution_count": 119,
   "metadata": {},
   "outputs": [
    {
     "data": {
      "text/plain": [
       "172"
      ]
     },
     "execution_count": 119,
     "metadata": {},
     "output_type": "execute_result"
    }
   ],
   "source": [
    "(train_drift==1).sum()"
   ]
  },
  {
   "cell_type": "code",
   "execution_count": 120,
   "metadata": {},
   "outputs": [
    {
     "data": {
      "text/plain": [
       "51"
      ]
     },
     "execution_count": 120,
     "metadata": {},
     "output_type": "execute_result"
    }
   ],
   "source": [
    "val_x = Pool(val_x, cat_features=cat_features)\n",
    "val_x\n",
    "val_drift = detect_drift_model.predict(val_x)\n",
    "val_drift\n",
    "(val_drift==1).sum()"
   ]
  },
  {
   "cell_type": "code",
   "execution_count": 121,
   "metadata": {},
   "outputs": [
    {
     "data": {
      "text/plain": [
       "(array([   31,   365,   450,   518,   788,   941,  1062,  1822,  2040,\n",
       "         2238,  2240,  2336,  2638,  2880,  2912,  3437,  3788,  4489,\n",
       "         5477,  5940,  6922,  7027,  7376,  7468,  7522,  7529,  8016,\n",
       "         8578,  9177, 10053, 11183, 11265, 11375, 11510, 12028, 13062,\n",
       "        13157, 13185, 13276, 13983, 14273, 14399, 14903, 15125, 15552,\n",
       "        16114, 16245, 16254, 16526, 17829, 18484, 18810, 19491, 19874,\n",
       "        20120, 21620, 21716, 21723, 21996, 22531, 23905, 24234, 24422,\n",
       "        25051, 25207, 25490, 25600, 26540, 26653, 26752, 27262, 27545,\n",
       "        27876, 28441, 29383, 30400, 30626, 30631, 30812, 31266, 31289,\n",
       "        31554, 31801, 32155, 32875, 33424, 34171, 34788, 34930, 35971,\n",
       "        36011, 36915, 36949, 37233, 37311, 37346, 37644, 37694, 37831,\n",
       "        37913, 38005, 38510, 39304, 39467, 39494, 42807, 43665, 43798,\n",
       "        43877, 43930, 44066, 44134, 45155, 45334, 46247, 46468, 46831,\n",
       "        46863, 47363, 47392, 47531, 47802, 48735, 48805, 48869, 49097,\n",
       "        49482, 51048, 51496, 51714, 52112, 52198, 52251, 52625, 53321,\n",
       "        53417, 54029, 55612, 55972, 56536, 57790, 57825, 58073, 58261,\n",
       "        59825, 61056, 61857, 62540, 62789, 62874, 63047, 64724, 64995,\n",
       "        65475, 66631, 67616, 68433, 69144, 69326, 69510, 69611, 69624,\n",
       "        69830, 71688, 72771, 72777, 72995, 73527, 73556, 73646, 73788,\n",
       "        74196]),)"
      ]
     },
     "execution_count": 121,
     "metadata": {},
     "output_type": "execute_result"
    }
   ],
   "source": [
    "np.where(train_drift==1)"
   ]
  },
  {
   "cell_type": "code",
   "execution_count": 122,
   "metadata": {},
   "outputs": [
    {
     "data": {
      "text/plain": [
       "(array([  986,  1180,  1290,  1407,  1931,  2045,  2515,  2706,  3584,\n",
       "         3628,  3682,  4307,  4579,  4805,  4941,  5967,  6476,  6481,\n",
       "         6729,  7006,  7297,  7631,  7794,  8128,  8774,  9399,  9686,\n",
       "         9702, 10106, 10400, 10786, 10934, 11390, 12455, 12472, 13276,\n",
       "        13365, 13370, 13683, 14261, 14586, 15118, 15393, 16114, 16279,\n",
       "        17150, 17167, 17654, 17884, 18213, 18410]),)"
      ]
     },
     "execution_count": 122,
     "metadata": {},
     "output_type": "execute_result"
    }
   ],
   "source": [
    "np.where(val_drift==1)"
   ]
  },
  {
   "cell_type": "code",
   "execution_count": 123,
   "metadata": {},
   "outputs": [
    {
     "data": {
      "text/plain": [
       "<catboost.core.Pool at 0x7fdb4905ec40>"
      ]
     },
     "execution_count": 123,
     "metadata": {},
     "output_type": "execute_result"
    }
   ],
   "source": [
    "train_x"
   ]
  },
  {
   "attachments": {},
   "cell_type": "markdown",
   "metadata": {},
   "source": [
    "# Concept drift"
   ]
  },
  {
   "cell_type": "code",
   "execution_count": 146,
   "metadata": {},
   "outputs": [],
   "source": [
    "train_x = pd.read_parquet('data/train_data/phase-3/prob-2/train_x.parquet')\n",
    "train_y = pd.read_parquet('data/train_data/phase-3/prob-2/train_y.parquet')\n",
    "val_x = pd.read_parquet('data/train_data/phase-3/prob-2/test_x.parquet')\n",
    "val_y = pd.read_parquet('data/train_data/phase-3/prob-2/test_y.parquet')"
   ]
  },
  {
   "cell_type": "code",
   "execution_count": 137,
   "metadata": {},
   "outputs": [
    {
     "data": {
      "text/html": [
       "<div>\n",
       "<style scoped>\n",
       "    .dataframe tbody tr th:only-of-type {\n",
       "        vertical-align: middle;\n",
       "    }\n",
       "\n",
       "    .dataframe tbody tr th {\n",
       "        vertical-align: top;\n",
       "    }\n",
       "\n",
       "    .dataframe thead th {\n",
       "        text-align: right;\n",
       "    }\n",
       "</style>\n",
       "<table border=\"1\" class=\"dataframe\">\n",
       "  <thead>\n",
       "    <tr style=\"text-align: right;\">\n",
       "      <th></th>\n",
       "      <th>feature1</th>\n",
       "      <th>feature2</th>\n",
       "      <th>feature3</th>\n",
       "      <th>feature4</th>\n",
       "      <th>feature5</th>\n",
       "      <th>feature6</th>\n",
       "      <th>feature7</th>\n",
       "      <th>feature8</th>\n",
       "      <th>feature9</th>\n",
       "      <th>feature10</th>\n",
       "      <th>feature11</th>\n",
       "      <th>feature12</th>\n",
       "      <th>feature13</th>\n",
       "      <th>feature14</th>\n",
       "      <th>feature15</th>\n",
       "      <th>feature16</th>\n",
       "      <th>feature17</th>\n",
       "      <th>feature18</th>\n",
       "      <th>feature19</th>\n",
       "      <th>feature20</th>\n",
       "      <th>feature21</th>\n",
       "      <th>feature22</th>\n",
       "      <th>feature23</th>\n",
       "      <th>feature24</th>\n",
       "      <th>feature25</th>\n",
       "      <th>feature26</th>\n",
       "      <th>feature27</th>\n",
       "      <th>feature28</th>\n",
       "      <th>feature29</th>\n",
       "      <th>feature30</th>\n",
       "      <th>feature31</th>\n",
       "      <th>feature32</th>\n",
       "      <th>feature33</th>\n",
       "      <th>feature34</th>\n",
       "      <th>feature35</th>\n",
       "      <th>feature36</th>\n",
       "      <th>feature37</th>\n",
       "      <th>feature38</th>\n",
       "      <th>feature39</th>\n",
       "      <th>feature40</th>\n",
       "      <th>feature41</th>\n",
       "      <th>label</th>\n",
       "    </tr>\n",
       "  </thead>\n",
       "  <tbody>\n",
       "    <tr>\n",
       "      <th>0</th>\n",
       "      <td>0.000005</td>\n",
       "      <td>125</td>\n",
       "      <td>0</td>\n",
       "      <td>4</td>\n",
       "      <td>2.0</td>\n",
       "      <td>0.0</td>\n",
       "      <td>200.0</td>\n",
       "      <td>0.0</td>\n",
       "      <td>254.0</td>\n",
       "      <td>0.0</td>\n",
       "      <td>1.600000e+08</td>\n",
       "      <td>0.000000e+00</td>\n",
       "      <td>0.0</td>\n",
       "      <td>0.0</td>\n",
       "      <td>0.005000</td>\n",
       "      <td>0.000000</td>\n",
       "      <td>0.000000</td>\n",
       "      <td>0.000000</td>\n",
       "      <td>0.0</td>\n",
       "      <td>0.000000e+00</td>\n",
       "      <td>0.000000e+00</td>\n",
       "      <td>0.0</td>\n",
       "      <td>0.000000</td>\n",
       "      <td>0.000000</td>\n",
       "      <td>0.000000</td>\n",
       "      <td>100.0</td>\n",
       "      <td>0.0</td>\n",
       "      <td>0.0</td>\n",
       "      <td>0.0</td>\n",
       "      <td>3.0</td>\n",
       "      <td>2.0</td>\n",
       "      <td>2.0</td>\n",
       "      <td>2.0</td>\n",
       "      <td>2.0</td>\n",
       "      <td>4.0</td>\n",
       "      <td>0.0</td>\n",
       "      <td>0.0</td>\n",
       "      <td>0.0</td>\n",
       "      <td>19.0</td>\n",
       "      <td>3.0</td>\n",
       "      <td>0.0</td>\n",
       "      <td>Malware</td>\n",
       "    </tr>\n",
       "    <tr>\n",
       "      <th>1</th>\n",
       "      <td>0.500038</td>\n",
       "      <td>112</td>\n",
       "      <td>0</td>\n",
       "      <td>3</td>\n",
       "      <td>10.0</td>\n",
       "      <td>8.0</td>\n",
       "      <td>1612.0</td>\n",
       "      <td>354.0</td>\n",
       "      <td>254.0</td>\n",
       "      <td>252.0</td>\n",
       "      <td>2.321423e+04</td>\n",
       "      <td>4.959623e+03</td>\n",
       "      <td>2.0</td>\n",
       "      <td>1.0</td>\n",
       "      <td>52.250778</td>\n",
       "      <td>65.232570</td>\n",
       "      <td>3475.644626</td>\n",
       "      <td>106.801250</td>\n",
       "      <td>255.0</td>\n",
       "      <td>4.173341e+09</td>\n",
       "      <td>2.351484e+09</td>\n",
       "      <td>255.0</td>\n",
       "      <td>0.074892</td>\n",
       "      <td>0.043402</td>\n",
       "      <td>0.031490</td>\n",
       "      <td>161.0</td>\n",
       "      <td>44.0</td>\n",
       "      <td>0.0</td>\n",
       "      <td>0.0</td>\n",
       "      <td>10.0</td>\n",
       "      <td>1.0</td>\n",
       "      <td>3.0</td>\n",
       "      <td>3.0</td>\n",
       "      <td>1.0</td>\n",
       "      <td>10.0</td>\n",
       "      <td>0.0</td>\n",
       "      <td>0.0</td>\n",
       "      <td>0.0</td>\n",
       "      <td>3.0</td>\n",
       "      <td>10.0</td>\n",
       "      <td>0.0</td>\n",
       "      <td>Denial of Service</td>\n",
       "    </tr>\n",
       "    <tr>\n",
       "      <th>2</th>\n",
       "      <td>0.000009</td>\n",
       "      <td>119</td>\n",
       "      <td>0</td>\n",
       "      <td>4</td>\n",
       "      <td>2.0</td>\n",
       "      <td>0.0</td>\n",
       "      <td>200.0</td>\n",
       "      <td>0.0</td>\n",
       "      <td>254.0</td>\n",
       "      <td>0.0</td>\n",
       "      <td>8.888889e+07</td>\n",
       "      <td>0.000000e+00</td>\n",
       "      <td>0.0</td>\n",
       "      <td>0.0</td>\n",
       "      <td>0.009000</td>\n",
       "      <td>0.000000</td>\n",
       "      <td>0.000000</td>\n",
       "      <td>0.000000</td>\n",
       "      <td>0.0</td>\n",
       "      <td>0.000000e+00</td>\n",
       "      <td>0.000000e+00</td>\n",
       "      <td>0.0</td>\n",
       "      <td>0.000000</td>\n",
       "      <td>0.000000</td>\n",
       "      <td>0.000000</td>\n",
       "      <td>100.0</td>\n",
       "      <td>0.0</td>\n",
       "      <td>0.0</td>\n",
       "      <td>0.0</td>\n",
       "      <td>2.0</td>\n",
       "      <td>2.0</td>\n",
       "      <td>3.0</td>\n",
       "      <td>2.0</td>\n",
       "      <td>2.0</td>\n",
       "      <td>3.0</td>\n",
       "      <td>0.0</td>\n",
       "      <td>0.0</td>\n",
       "      <td>0.0</td>\n",
       "      <td>3.0</td>\n",
       "      <td>2.0</td>\n",
       "      <td>0.0</td>\n",
       "      <td>Exploits</td>\n",
       "    </tr>\n",
       "    <tr>\n",
       "      <th>3</th>\n",
       "      <td>0.001017</td>\n",
       "      <td>118</td>\n",
       "      <td>2</td>\n",
       "      <td>1</td>\n",
       "      <td>2.0</td>\n",
       "      <td>2.0</td>\n",
       "      <td>130.0</td>\n",
       "      <td>162.0</td>\n",
       "      <td>31.0</td>\n",
       "      <td>29.0</td>\n",
       "      <td>5.113078e+05</td>\n",
       "      <td>6.371682e+05</td>\n",
       "      <td>0.0</td>\n",
       "      <td>0.0</td>\n",
       "      <td>0.002000</td>\n",
       "      <td>0.008000</td>\n",
       "      <td>0.000000</td>\n",
       "      <td>0.000000</td>\n",
       "      <td>0.0</td>\n",
       "      <td>0.000000e+00</td>\n",
       "      <td>0.000000e+00</td>\n",
       "      <td>0.0</td>\n",
       "      <td>0.000000</td>\n",
       "      <td>0.000000</td>\n",
       "      <td>0.000000</td>\n",
       "      <td>65.0</td>\n",
       "      <td>81.0</td>\n",
       "      <td>0.0</td>\n",
       "      <td>0.0</td>\n",
       "      <td>5.0</td>\n",
       "      <td>0.0</td>\n",
       "      <td>5.0</td>\n",
       "      <td>2.0</td>\n",
       "      <td>1.0</td>\n",
       "      <td>2.0</td>\n",
       "      <td>0.0</td>\n",
       "      <td>0.0</td>\n",
       "      <td>0.0</td>\n",
       "      <td>6.0</td>\n",
       "      <td>2.0</td>\n",
       "      <td>0.0</td>\n",
       "      <td>Normal</td>\n",
       "    </tr>\n",
       "    <tr>\n",
       "      <th>4</th>\n",
       "      <td>0.188122</td>\n",
       "      <td>112</td>\n",
       "      <td>0</td>\n",
       "      <td>3</td>\n",
       "      <td>22.0</td>\n",
       "      <td>24.0</td>\n",
       "      <td>2054.0</td>\n",
       "      <td>2478.0</td>\n",
       "      <td>31.0</td>\n",
       "      <td>29.0</td>\n",
       "      <td>8.339269e+04</td>\n",
       "      <td>1.009983e+05</td>\n",
       "      <td>6.0</td>\n",
       "      <td>6.0</td>\n",
       "      <td>8.921048</td>\n",
       "      <td>8.156695</td>\n",
       "      <td>0.000000</td>\n",
       "      <td>575.630698</td>\n",
       "      <td>255.0</td>\n",
       "      <td>2.212961e+09</td>\n",
       "      <td>6.360979e+07</td>\n",
       "      <td>255.0</td>\n",
       "      <td>0.000650</td>\n",
       "      <td>0.000514</td>\n",
       "      <td>0.000136</td>\n",
       "      <td>93.0</td>\n",
       "      <td>103.0</td>\n",
       "      <td>0.0</td>\n",
       "      <td>0.0</td>\n",
       "      <td>6.0</td>\n",
       "      <td>0.0</td>\n",
       "      <td>3.0</td>\n",
       "      <td>1.0</td>\n",
       "      <td>1.0</td>\n",
       "      <td>1.0</td>\n",
       "      <td>0.0</td>\n",
       "      <td>0.0</td>\n",
       "      <td>0.0</td>\n",
       "      <td>3.0</td>\n",
       "      <td>7.0</td>\n",
       "      <td>0.0</td>\n",
       "      <td>Normal</td>\n",
       "    </tr>\n",
       "    <tr>\n",
       "      <th>...</th>\n",
       "      <td>...</td>\n",
       "      <td>...</td>\n",
       "      <td>...</td>\n",
       "      <td>...</td>\n",
       "      <td>...</td>\n",
       "      <td>...</td>\n",
       "      <td>...</td>\n",
       "      <td>...</td>\n",
       "      <td>...</td>\n",
       "      <td>...</td>\n",
       "      <td>...</td>\n",
       "      <td>...</td>\n",
       "      <td>...</td>\n",
       "      <td>...</td>\n",
       "      <td>...</td>\n",
       "      <td>...</td>\n",
       "      <td>...</td>\n",
       "      <td>...</td>\n",
       "      <td>...</td>\n",
       "      <td>...</td>\n",
       "      <td>...</td>\n",
       "      <td>...</td>\n",
       "      <td>...</td>\n",
       "      <td>...</td>\n",
       "      <td>...</td>\n",
       "      <td>...</td>\n",
       "      <td>...</td>\n",
       "      <td>...</td>\n",
       "      <td>...</td>\n",
       "      <td>...</td>\n",
       "      <td>...</td>\n",
       "      <td>...</td>\n",
       "      <td>...</td>\n",
       "      <td>...</td>\n",
       "      <td>...</td>\n",
       "      <td>...</td>\n",
       "      <td>...</td>\n",
       "      <td>...</td>\n",
       "      <td>...</td>\n",
       "      <td>...</td>\n",
       "      <td>...</td>\n",
       "      <td>...</td>\n",
       "    </tr>\n",
       "    <tr>\n",
       "      <th>74204</th>\n",
       "      <td>0.404527</td>\n",
       "      <td>112</td>\n",
       "      <td>0</td>\n",
       "      <td>3</td>\n",
       "      <td>204.0</td>\n",
       "      <td>396.0</td>\n",
       "      <td>11826.0</td>\n",
       "      <td>495632.0</td>\n",
       "      <td>31.0</td>\n",
       "      <td>29.0</td>\n",
       "      <td>2.327459e+05</td>\n",
       "      <td>9.776969e+06</td>\n",
       "      <td>19.0</td>\n",
       "      <td>178.0</td>\n",
       "      <td>1.990892</td>\n",
       "      <td>1.022894</td>\n",
       "      <td>130.287673</td>\n",
       "      <td>69.534381</td>\n",
       "      <td>255.0</td>\n",
       "      <td>4.162284e+09</td>\n",
       "      <td>2.020623e+09</td>\n",
       "      <td>255.0</td>\n",
       "      <td>0.001171</td>\n",
       "      <td>0.000479</td>\n",
       "      <td>0.000692</td>\n",
       "      <td>58.0</td>\n",
       "      <td>1252.0</td>\n",
       "      <td>0.0</td>\n",
       "      <td>0.0</td>\n",
       "      <td>9.0</td>\n",
       "      <td>0.0</td>\n",
       "      <td>10.0</td>\n",
       "      <td>7.0</td>\n",
       "      <td>1.0</td>\n",
       "      <td>9.0</td>\n",
       "      <td>0.0</td>\n",
       "      <td>0.0</td>\n",
       "      <td>0.0</td>\n",
       "      <td>9.0</td>\n",
       "      <td>9.0</td>\n",
       "      <td>0.0</td>\n",
       "      <td>Normal</td>\n",
       "    </tr>\n",
       "    <tr>\n",
       "      <th>74205</th>\n",
       "      <td>1.579113</td>\n",
       "      <td>112</td>\n",
       "      <td>0</td>\n",
       "      <td>3</td>\n",
       "      <td>16.0</td>\n",
       "      <td>12.0</td>\n",
       "      <td>922.0</td>\n",
       "      <td>704.0</td>\n",
       "      <td>254.0</td>\n",
       "      <td>252.0</td>\n",
       "      <td>4.382207e+03</td>\n",
       "      <td>3.272723e+03</td>\n",
       "      <td>5.0</td>\n",
       "      <td>4.0</td>\n",
       "      <td>99.928530</td>\n",
       "      <td>135.655266</td>\n",
       "      <td>5009.633002</td>\n",
       "      <td>156.375953</td>\n",
       "      <td>255.0</td>\n",
       "      <td>8.996028e+08</td>\n",
       "      <td>3.182606e+09</td>\n",
       "      <td>255.0</td>\n",
       "      <td>0.175852</td>\n",
       "      <td>0.086897</td>\n",
       "      <td>0.088955</td>\n",
       "      <td>58.0</td>\n",
       "      <td>59.0</td>\n",
       "      <td>0.0</td>\n",
       "      <td>0.0</td>\n",
       "      <td>6.0</td>\n",
       "      <td>1.0</td>\n",
       "      <td>1.0</td>\n",
       "      <td>2.0</td>\n",
       "      <td>1.0</td>\n",
       "      <td>1.0</td>\n",
       "      <td>0.0</td>\n",
       "      <td>0.0</td>\n",
       "      <td>0.0</td>\n",
       "      <td>2.0</td>\n",
       "      <td>2.0</td>\n",
       "      <td>0.0</td>\n",
       "      <td>Normal</td>\n",
       "    </tr>\n",
       "    <tr>\n",
       "      <th>74206</th>\n",
       "      <td>0.000024</td>\n",
       "      <td>118</td>\n",
       "      <td>2</td>\n",
       "      <td>4</td>\n",
       "      <td>2.0</td>\n",
       "      <td>0.0</td>\n",
       "      <td>114.0</td>\n",
       "      <td>0.0</td>\n",
       "      <td>254.0</td>\n",
       "      <td>0.0</td>\n",
       "      <td>1.900000e+07</td>\n",
       "      <td>0.000000e+00</td>\n",
       "      <td>0.0</td>\n",
       "      <td>0.0</td>\n",
       "      <td>0.024000</td>\n",
       "      <td>0.000000</td>\n",
       "      <td>0.000000</td>\n",
       "      <td>0.000000</td>\n",
       "      <td>0.0</td>\n",
       "      <td>0.000000e+00</td>\n",
       "      <td>0.000000e+00</td>\n",
       "      <td>0.0</td>\n",
       "      <td>0.000000</td>\n",
       "      <td>0.000000</td>\n",
       "      <td>0.000000</td>\n",
       "      <td>57.0</td>\n",
       "      <td>0.0</td>\n",
       "      <td>0.0</td>\n",
       "      <td>0.0</td>\n",
       "      <td>16.0</td>\n",
       "      <td>2.0</td>\n",
       "      <td>19.0</td>\n",
       "      <td>16.0</td>\n",
       "      <td>16.0</td>\n",
       "      <td>16.0</td>\n",
       "      <td>0.0</td>\n",
       "      <td>0.0</td>\n",
       "      <td>0.0</td>\n",
       "      <td>16.0</td>\n",
       "      <td>16.0</td>\n",
       "      <td>0.0</td>\n",
       "      <td>Other</td>\n",
       "    </tr>\n",
       "    <tr>\n",
       "      <th>74207</th>\n",
       "      <td>0.000009</td>\n",
       "      <td>119</td>\n",
       "      <td>0</td>\n",
       "      <td>4</td>\n",
       "      <td>2.0</td>\n",
       "      <td>0.0</td>\n",
       "      <td>200.0</td>\n",
       "      <td>0.0</td>\n",
       "      <td>254.0</td>\n",
       "      <td>0.0</td>\n",
       "      <td>8.888889e+07</td>\n",
       "      <td>0.000000e+00</td>\n",
       "      <td>0.0</td>\n",
       "      <td>0.0</td>\n",
       "      <td>0.009000</td>\n",
       "      <td>0.000000</td>\n",
       "      <td>0.000000</td>\n",
       "      <td>0.000000</td>\n",
       "      <td>0.0</td>\n",
       "      <td>0.000000e+00</td>\n",
       "      <td>0.000000e+00</td>\n",
       "      <td>0.0</td>\n",
       "      <td>0.000000</td>\n",
       "      <td>0.000000</td>\n",
       "      <td>0.000000</td>\n",
       "      <td>100.0</td>\n",
       "      <td>0.0</td>\n",
       "      <td>0.0</td>\n",
       "      <td>0.0</td>\n",
       "      <td>7.0</td>\n",
       "      <td>2.0</td>\n",
       "      <td>4.0</td>\n",
       "      <td>4.0</td>\n",
       "      <td>4.0</td>\n",
       "      <td>12.0</td>\n",
       "      <td>0.0</td>\n",
       "      <td>0.0</td>\n",
       "      <td>0.0</td>\n",
       "      <td>4.0</td>\n",
       "      <td>7.0</td>\n",
       "      <td>0.0</td>\n",
       "      <td>Exploits</td>\n",
       "    </tr>\n",
       "    <tr>\n",
       "      <th>74208</th>\n",
       "      <td>0.000005</td>\n",
       "      <td>118</td>\n",
       "      <td>0</td>\n",
       "      <td>4</td>\n",
       "      <td>2.0</td>\n",
       "      <td>0.0</td>\n",
       "      <td>78.0</td>\n",
       "      <td>0.0</td>\n",
       "      <td>254.0</td>\n",
       "      <td>0.0</td>\n",
       "      <td>6.240000e+07</td>\n",
       "      <td>0.000000e+00</td>\n",
       "      <td>0.0</td>\n",
       "      <td>0.0</td>\n",
       "      <td>0.005000</td>\n",
       "      <td>0.000000</td>\n",
       "      <td>0.000000</td>\n",
       "      <td>0.000000</td>\n",
       "      <td>0.0</td>\n",
       "      <td>0.000000e+00</td>\n",
       "      <td>0.000000e+00</td>\n",
       "      <td>0.0</td>\n",
       "      <td>0.000000</td>\n",
       "      <td>0.000000</td>\n",
       "      <td>0.000000</td>\n",
       "      <td>39.0</td>\n",
       "      <td>0.0</td>\n",
       "      <td>0.0</td>\n",
       "      <td>0.0</td>\n",
       "      <td>14.0</td>\n",
       "      <td>2.0</td>\n",
       "      <td>2.0</td>\n",
       "      <td>2.0</td>\n",
       "      <td>1.0</td>\n",
       "      <td>7.0</td>\n",
       "      <td>0.0</td>\n",
       "      <td>0.0</td>\n",
       "      <td>0.0</td>\n",
       "      <td>4.0</td>\n",
       "      <td>7.0</td>\n",
       "      <td>0.0</td>\n",
       "      <td>Normal</td>\n",
       "    </tr>\n",
       "  </tbody>\n",
       "</table>\n",
       "<p>74209 rows × 42 columns</p>\n",
       "</div>"
      ],
      "text/plain": [
       "       feature1  feature2  feature3  feature4  feature5  feature6  feature7   \n",
       "0      0.000005       125         0         4       2.0       0.0     200.0  \\\n",
       "1      0.500038       112         0         3      10.0       8.0    1612.0   \n",
       "2      0.000009       119         0         4       2.0       0.0     200.0   \n",
       "3      0.001017       118         2         1       2.0       2.0     130.0   \n",
       "4      0.188122       112         0         3      22.0      24.0    2054.0   \n",
       "...         ...       ...       ...       ...       ...       ...       ...   \n",
       "74204  0.404527       112         0         3     204.0     396.0   11826.0   \n",
       "74205  1.579113       112         0         3      16.0      12.0     922.0   \n",
       "74206  0.000024       118         2         4       2.0       0.0     114.0   \n",
       "74207  0.000009       119         0         4       2.0       0.0     200.0   \n",
       "74208  0.000005       118         0         4       2.0       0.0      78.0   \n",
       "\n",
       "       feature8  feature9  feature10     feature11     feature12  feature13   \n",
       "0           0.0     254.0        0.0  1.600000e+08  0.000000e+00        0.0  \\\n",
       "1         354.0     254.0      252.0  2.321423e+04  4.959623e+03        2.0   \n",
       "2           0.0     254.0        0.0  8.888889e+07  0.000000e+00        0.0   \n",
       "3         162.0      31.0       29.0  5.113078e+05  6.371682e+05        0.0   \n",
       "4        2478.0      31.0       29.0  8.339269e+04  1.009983e+05        6.0   \n",
       "...         ...       ...        ...           ...           ...        ...   \n",
       "74204  495632.0      31.0       29.0  2.327459e+05  9.776969e+06       19.0   \n",
       "74205     704.0     254.0      252.0  4.382207e+03  3.272723e+03        5.0   \n",
       "74206       0.0     254.0        0.0  1.900000e+07  0.000000e+00        0.0   \n",
       "74207       0.0     254.0        0.0  8.888889e+07  0.000000e+00        0.0   \n",
       "74208       0.0     254.0        0.0  6.240000e+07  0.000000e+00        0.0   \n",
       "\n",
       "       feature14  feature15   feature16    feature17   feature18  feature19   \n",
       "0            0.0   0.005000    0.000000     0.000000    0.000000        0.0  \\\n",
       "1            1.0  52.250778   65.232570  3475.644626  106.801250      255.0   \n",
       "2            0.0   0.009000    0.000000     0.000000    0.000000        0.0   \n",
       "3            0.0   0.002000    0.008000     0.000000    0.000000        0.0   \n",
       "4            6.0   8.921048    8.156695     0.000000  575.630698      255.0   \n",
       "...          ...        ...         ...          ...         ...        ...   \n",
       "74204      178.0   1.990892    1.022894   130.287673   69.534381      255.0   \n",
       "74205        4.0  99.928530  135.655266  5009.633002  156.375953      255.0   \n",
       "74206        0.0   0.024000    0.000000     0.000000    0.000000        0.0   \n",
       "74207        0.0   0.009000    0.000000     0.000000    0.000000        0.0   \n",
       "74208        0.0   0.005000    0.000000     0.000000    0.000000        0.0   \n",
       "\n",
       "          feature20     feature21  feature22  feature23  feature24  feature25   \n",
       "0      0.000000e+00  0.000000e+00        0.0   0.000000   0.000000   0.000000  \\\n",
       "1      4.173341e+09  2.351484e+09      255.0   0.074892   0.043402   0.031490   \n",
       "2      0.000000e+00  0.000000e+00        0.0   0.000000   0.000000   0.000000   \n",
       "3      0.000000e+00  0.000000e+00        0.0   0.000000   0.000000   0.000000   \n",
       "4      2.212961e+09  6.360979e+07      255.0   0.000650   0.000514   0.000136   \n",
       "...             ...           ...        ...        ...        ...        ...   \n",
       "74204  4.162284e+09  2.020623e+09      255.0   0.001171   0.000479   0.000692   \n",
       "74205  8.996028e+08  3.182606e+09      255.0   0.175852   0.086897   0.088955   \n",
       "74206  0.000000e+00  0.000000e+00        0.0   0.000000   0.000000   0.000000   \n",
       "74207  0.000000e+00  0.000000e+00        0.0   0.000000   0.000000   0.000000   \n",
       "74208  0.000000e+00  0.000000e+00        0.0   0.000000   0.000000   0.000000   \n",
       "\n",
       "       feature26  feature27  feature28  feature29  feature30  feature31   \n",
       "0          100.0        0.0        0.0        0.0        3.0        2.0  \\\n",
       "1          161.0       44.0        0.0        0.0       10.0        1.0   \n",
       "2          100.0        0.0        0.0        0.0        2.0        2.0   \n",
       "3           65.0       81.0        0.0        0.0        5.0        0.0   \n",
       "4           93.0      103.0        0.0        0.0        6.0        0.0   \n",
       "...          ...        ...        ...        ...        ...        ...   \n",
       "74204       58.0     1252.0        0.0        0.0        9.0        0.0   \n",
       "74205       58.0       59.0        0.0        0.0        6.0        1.0   \n",
       "74206       57.0        0.0        0.0        0.0       16.0        2.0   \n",
       "74207      100.0        0.0        0.0        0.0        7.0        2.0   \n",
       "74208       39.0        0.0        0.0        0.0       14.0        2.0   \n",
       "\n",
       "       feature32  feature33  feature34  feature35  feature36  feature37   \n",
       "0            2.0        2.0        2.0        4.0        0.0        0.0  \\\n",
       "1            3.0        3.0        1.0       10.0        0.0        0.0   \n",
       "2            3.0        2.0        2.0        3.0        0.0        0.0   \n",
       "3            5.0        2.0        1.0        2.0        0.0        0.0   \n",
       "4            3.0        1.0        1.0        1.0        0.0        0.0   \n",
       "...          ...        ...        ...        ...        ...        ...   \n",
       "74204       10.0        7.0        1.0        9.0        0.0        0.0   \n",
       "74205        1.0        2.0        1.0        1.0        0.0        0.0   \n",
       "74206       19.0       16.0       16.0       16.0        0.0        0.0   \n",
       "74207        4.0        4.0        4.0       12.0        0.0        0.0   \n",
       "74208        2.0        2.0        1.0        7.0        0.0        0.0   \n",
       "\n",
       "       feature38  feature39  feature40  feature41              label  \n",
       "0            0.0       19.0        3.0        0.0            Malware  \n",
       "1            0.0        3.0       10.0        0.0  Denial of Service  \n",
       "2            0.0        3.0        2.0        0.0           Exploits  \n",
       "3            0.0        6.0        2.0        0.0             Normal  \n",
       "4            0.0        3.0        7.0        0.0             Normal  \n",
       "...          ...        ...        ...        ...                ...  \n",
       "74204        0.0        9.0        9.0        0.0             Normal  \n",
       "74205        0.0        2.0        2.0        0.0             Normal  \n",
       "74206        0.0       16.0       16.0        0.0              Other  \n",
       "74207        0.0        4.0        7.0        0.0           Exploits  \n",
       "74208        0.0        4.0        7.0        0.0             Normal  \n",
       "\n",
       "[74209 rows x 42 columns]"
      ]
     },
     "execution_count": 137,
     "metadata": {},
     "output_type": "execute_result"
    }
   ],
   "source": [
    "train_x['label'] = train_y\n",
    "train_x"
   ]
  },
  {
   "cell_type": "code",
   "execution_count": 144,
   "metadata": {},
   "outputs": [
    {
     "data": {
      "text/html": [
       "<div>\n",
       "<style scoped>\n",
       "    .dataframe tbody tr th:only-of-type {\n",
       "        vertical-align: middle;\n",
       "    }\n",
       "\n",
       "    .dataframe tbody tr th {\n",
       "        vertical-align: top;\n",
       "    }\n",
       "\n",
       "    .dataframe thead th {\n",
       "        text-align: right;\n",
       "    }\n",
       "</style>\n",
       "<table border=\"1\" class=\"dataframe\">\n",
       "  <thead>\n",
       "    <tr style=\"text-align: right;\">\n",
       "      <th></th>\n",
       "      <th>feature1</th>\n",
       "      <th>feature2</th>\n",
       "      <th>feature3</th>\n",
       "      <th>feature4</th>\n",
       "      <th>feature5</th>\n",
       "      <th>feature6</th>\n",
       "      <th>feature7</th>\n",
       "      <th>feature8</th>\n",
       "      <th>feature9</th>\n",
       "      <th>feature10</th>\n",
       "      <th>feature11</th>\n",
       "      <th>feature12</th>\n",
       "      <th>feature13</th>\n",
       "      <th>feature14</th>\n",
       "      <th>feature15</th>\n",
       "      <th>feature16</th>\n",
       "      <th>feature17</th>\n",
       "      <th>feature18</th>\n",
       "      <th>feature19</th>\n",
       "      <th>feature20</th>\n",
       "      <th>feature21</th>\n",
       "      <th>feature22</th>\n",
       "      <th>feature23</th>\n",
       "      <th>feature24</th>\n",
       "      <th>feature25</th>\n",
       "      <th>feature26</th>\n",
       "      <th>feature27</th>\n",
       "      <th>feature28</th>\n",
       "      <th>feature29</th>\n",
       "      <th>feature30</th>\n",
       "      <th>feature31</th>\n",
       "      <th>feature32</th>\n",
       "      <th>feature33</th>\n",
       "      <th>feature34</th>\n",
       "      <th>feature35</th>\n",
       "      <th>feature36</th>\n",
       "      <th>feature37</th>\n",
       "      <th>feature38</th>\n",
       "      <th>feature39</th>\n",
       "      <th>feature40</th>\n",
       "      <th>feature41</th>\n",
       "      <th>label</th>\n",
       "      <th>count_per_label</th>\n",
       "      <th>count_distinct_label</th>\n",
       "    </tr>\n",
       "  </thead>\n",
       "  <tbody>\n",
       "    <tr>\n",
       "      <th>0</th>\n",
       "      <td>0.000000</td>\n",
       "      <td>118</td>\n",
       "      <td>0</td>\n",
       "      <td>4</td>\n",
       "      <td>1.0</td>\n",
       "      <td>0.0</td>\n",
       "      <td>24.0</td>\n",
       "      <td>0.0</td>\n",
       "      <td>254.0</td>\n",
       "      <td>0.0</td>\n",
       "      <td>0.000000</td>\n",
       "      <td>0.0</td>\n",
       "      <td>0.0</td>\n",
       "      <td>0.0</td>\n",
       "      <td>0.000000</td>\n",
       "      <td>0.0</td>\n",
       "      <td>0.000000</td>\n",
       "      <td>0.0</td>\n",
       "      <td>0.0</td>\n",
       "      <td>0.0</td>\n",
       "      <td>0.0</td>\n",
       "      <td>0.0</td>\n",
       "      <td>0.0</td>\n",
       "      <td>0.0</td>\n",
       "      <td>0.0</td>\n",
       "      <td>24.0</td>\n",
       "      <td>0.0</td>\n",
       "      <td>0.0</td>\n",
       "      <td>0.0</td>\n",
       "      <td>4.0</td>\n",
       "      <td>2.0</td>\n",
       "      <td>2.0</td>\n",
       "      <td>1.0</td>\n",
       "      <td>1.0</td>\n",
       "      <td>2.0</td>\n",
       "      <td>0.0</td>\n",
       "      <td>0.0</td>\n",
       "      <td>0.0</td>\n",
       "      <td>3.0</td>\n",
       "      <td>2.0</td>\n",
       "      <td>0.0</td>\n",
       "      <td>Denial of Service</td>\n",
       "      <td>1</td>\n",
       "      <td>2</td>\n",
       "    </tr>\n",
       "    <tr>\n",
       "      <th>1</th>\n",
       "      <td>0.000000</td>\n",
       "      <td>118</td>\n",
       "      <td>0</td>\n",
       "      <td>4</td>\n",
       "      <td>1.0</td>\n",
       "      <td>0.0</td>\n",
       "      <td>24.0</td>\n",
       "      <td>0.0</td>\n",
       "      <td>254.0</td>\n",
       "      <td>0.0</td>\n",
       "      <td>0.000000</td>\n",
       "      <td>0.0</td>\n",
       "      <td>0.0</td>\n",
       "      <td>0.0</td>\n",
       "      <td>0.000000</td>\n",
       "      <td>0.0</td>\n",
       "      <td>0.000000</td>\n",
       "      <td>0.0</td>\n",
       "      <td>0.0</td>\n",
       "      <td>0.0</td>\n",
       "      <td>0.0</td>\n",
       "      <td>0.0</td>\n",
       "      <td>0.0</td>\n",
       "      <td>0.0</td>\n",
       "      <td>0.0</td>\n",
       "      <td>24.0</td>\n",
       "      <td>0.0</td>\n",
       "      <td>0.0</td>\n",
       "      <td>0.0</td>\n",
       "      <td>4.0</td>\n",
       "      <td>2.0</td>\n",
       "      <td>2.0</td>\n",
       "      <td>1.0</td>\n",
       "      <td>1.0</td>\n",
       "      <td>2.0</td>\n",
       "      <td>0.0</td>\n",
       "      <td>0.0</td>\n",
       "      <td>0.0</td>\n",
       "      <td>3.0</td>\n",
       "      <td>2.0</td>\n",
       "      <td>0.0</td>\n",
       "      <td>Exploits</td>\n",
       "      <td>1</td>\n",
       "      <td>2</td>\n",
       "    </tr>\n",
       "    <tr>\n",
       "      <th>2</th>\n",
       "      <td>0.000000</td>\n",
       "      <td>119</td>\n",
       "      <td>0</td>\n",
       "      <td>4</td>\n",
       "      <td>2.0</td>\n",
       "      <td>0.0</td>\n",
       "      <td>200.0</td>\n",
       "      <td>0.0</td>\n",
       "      <td>254.0</td>\n",
       "      <td>0.0</td>\n",
       "      <td>0.000000</td>\n",
       "      <td>0.0</td>\n",
       "      <td>0.0</td>\n",
       "      <td>0.0</td>\n",
       "      <td>0.000000</td>\n",
       "      <td>0.0</td>\n",
       "      <td>0.000000</td>\n",
       "      <td>0.0</td>\n",
       "      <td>0.0</td>\n",
       "      <td>0.0</td>\n",
       "      <td>0.0</td>\n",
       "      <td>0.0</td>\n",
       "      <td>0.0</td>\n",
       "      <td>0.0</td>\n",
       "      <td>0.0</td>\n",
       "      <td>100.0</td>\n",
       "      <td>0.0</td>\n",
       "      <td>0.0</td>\n",
       "      <td>0.0</td>\n",
       "      <td>7.0</td>\n",
       "      <td>2.0</td>\n",
       "      <td>4.0</td>\n",
       "      <td>3.0</td>\n",
       "      <td>3.0</td>\n",
       "      <td>9.0</td>\n",
       "      <td>0.0</td>\n",
       "      <td>0.0</td>\n",
       "      <td>0.0</td>\n",
       "      <td>5.0</td>\n",
       "      <td>7.0</td>\n",
       "      <td>0.0</td>\n",
       "      <td>Denial of Service</td>\n",
       "      <td>1</td>\n",
       "      <td>3</td>\n",
       "    </tr>\n",
       "    <tr>\n",
       "      <th>3</th>\n",
       "      <td>0.000000</td>\n",
       "      <td>119</td>\n",
       "      <td>0</td>\n",
       "      <td>4</td>\n",
       "      <td>2.0</td>\n",
       "      <td>0.0</td>\n",
       "      <td>200.0</td>\n",
       "      <td>0.0</td>\n",
       "      <td>254.0</td>\n",
       "      <td>0.0</td>\n",
       "      <td>0.000000</td>\n",
       "      <td>0.0</td>\n",
       "      <td>0.0</td>\n",
       "      <td>0.0</td>\n",
       "      <td>0.000000</td>\n",
       "      <td>0.0</td>\n",
       "      <td>0.000000</td>\n",
       "      <td>0.0</td>\n",
       "      <td>0.0</td>\n",
       "      <td>0.0</td>\n",
       "      <td>0.0</td>\n",
       "      <td>0.0</td>\n",
       "      <td>0.0</td>\n",
       "      <td>0.0</td>\n",
       "      <td>0.0</td>\n",
       "      <td>100.0</td>\n",
       "      <td>0.0</td>\n",
       "      <td>0.0</td>\n",
       "      <td>0.0</td>\n",
       "      <td>7.0</td>\n",
       "      <td>2.0</td>\n",
       "      <td>4.0</td>\n",
       "      <td>3.0</td>\n",
       "      <td>3.0</td>\n",
       "      <td>9.0</td>\n",
       "      <td>0.0</td>\n",
       "      <td>0.0</td>\n",
       "      <td>0.0</td>\n",
       "      <td>5.0</td>\n",
       "      <td>7.0</td>\n",
       "      <td>0.0</td>\n",
       "      <td>Exploits</td>\n",
       "      <td>5</td>\n",
       "      <td>3</td>\n",
       "    </tr>\n",
       "    <tr>\n",
       "      <th>4</th>\n",
       "      <td>0.000000</td>\n",
       "      <td>119</td>\n",
       "      <td>0</td>\n",
       "      <td>4</td>\n",
       "      <td>2.0</td>\n",
       "      <td>0.0</td>\n",
       "      <td>200.0</td>\n",
       "      <td>0.0</td>\n",
       "      <td>254.0</td>\n",
       "      <td>0.0</td>\n",
       "      <td>0.000000</td>\n",
       "      <td>0.0</td>\n",
       "      <td>0.0</td>\n",
       "      <td>0.0</td>\n",
       "      <td>0.000000</td>\n",
       "      <td>0.0</td>\n",
       "      <td>0.000000</td>\n",
       "      <td>0.0</td>\n",
       "      <td>0.0</td>\n",
       "      <td>0.0</td>\n",
       "      <td>0.0</td>\n",
       "      <td>0.0</td>\n",
       "      <td>0.0</td>\n",
       "      <td>0.0</td>\n",
       "      <td>0.0</td>\n",
       "      <td>100.0</td>\n",
       "      <td>0.0</td>\n",
       "      <td>0.0</td>\n",
       "      <td>0.0</td>\n",
       "      <td>7.0</td>\n",
       "      <td>2.0</td>\n",
       "      <td>4.0</td>\n",
       "      <td>3.0</td>\n",
       "      <td>3.0</td>\n",
       "      <td>9.0</td>\n",
       "      <td>0.0</td>\n",
       "      <td>0.0</td>\n",
       "      <td>0.0</td>\n",
       "      <td>5.0</td>\n",
       "      <td>7.0</td>\n",
       "      <td>0.0</td>\n",
       "      <td>Information Gathering</td>\n",
       "      <td>1</td>\n",
       "      <td>3</td>\n",
       "    </tr>\n",
       "    <tr>\n",
       "      <th>...</th>\n",
       "      <td>...</td>\n",
       "      <td>...</td>\n",
       "      <td>...</td>\n",
       "      <td>...</td>\n",
       "      <td>...</td>\n",
       "      <td>...</td>\n",
       "      <td>...</td>\n",
       "      <td>...</td>\n",
       "      <td>...</td>\n",
       "      <td>...</td>\n",
       "      <td>...</td>\n",
       "      <td>...</td>\n",
       "      <td>...</td>\n",
       "      <td>...</td>\n",
       "      <td>...</td>\n",
       "      <td>...</td>\n",
       "      <td>...</td>\n",
       "      <td>...</td>\n",
       "      <td>...</td>\n",
       "      <td>...</td>\n",
       "      <td>...</td>\n",
       "      <td>...</td>\n",
       "      <td>...</td>\n",
       "      <td>...</td>\n",
       "      <td>...</td>\n",
       "      <td>...</td>\n",
       "      <td>...</td>\n",
       "      <td>...</td>\n",
       "      <td>...</td>\n",
       "      <td>...</td>\n",
       "      <td>...</td>\n",
       "      <td>...</td>\n",
       "      <td>...</td>\n",
       "      <td>...</td>\n",
       "      <td>...</td>\n",
       "      <td>...</td>\n",
       "      <td>...</td>\n",
       "      <td>...</td>\n",
       "      <td>...</td>\n",
       "      <td>...</td>\n",
       "      <td>...</td>\n",
       "      <td>...</td>\n",
       "      <td>...</td>\n",
       "      <td>...</td>\n",
       "    </tr>\n",
       "    <tr>\n",
       "      <th>4805</th>\n",
       "      <td>59.810604</td>\n",
       "      <td>78</td>\n",
       "      <td>0</td>\n",
       "      <td>4</td>\n",
       "      <td>130.0</td>\n",
       "      <td>0.0</td>\n",
       "      <td>35360.0</td>\n",
       "      <td>0.0</td>\n",
       "      <td>254.0</td>\n",
       "      <td>0.0</td>\n",
       "      <td>4693.214355</td>\n",
       "      <td>0.0</td>\n",
       "      <td>0.0</td>\n",
       "      <td>0.0</td>\n",
       "      <td>463.647906</td>\n",
       "      <td>0.0</td>\n",
       "      <td>553.786375</td>\n",
       "      <td>0.0</td>\n",
       "      <td>0.0</td>\n",
       "      <td>0.0</td>\n",
       "      <td>0.0</td>\n",
       "      <td>0.0</td>\n",
       "      <td>0.0</td>\n",
       "      <td>0.0</td>\n",
       "      <td>0.0</td>\n",
       "      <td>272.0</td>\n",
       "      <td>0.0</td>\n",
       "      <td>0.0</td>\n",
       "      <td>0.0</td>\n",
       "      <td>2.0</td>\n",
       "      <td>2.0</td>\n",
       "      <td>2.0</td>\n",
       "      <td>2.0</td>\n",
       "      <td>2.0</td>\n",
       "      <td>2.0</td>\n",
       "      <td>0.0</td>\n",
       "      <td>0.0</td>\n",
       "      <td>0.0</td>\n",
       "      <td>2.0</td>\n",
       "      <td>2.0</td>\n",
       "      <td>0.0</td>\n",
       "      <td>Malware</td>\n",
       "      <td>1</td>\n",
       "      <td>4</td>\n",
       "    </tr>\n",
       "    <tr>\n",
       "      <th>4806</th>\n",
       "      <td>59.810604</td>\n",
       "      <td>78</td>\n",
       "      <td>0</td>\n",
       "      <td>4</td>\n",
       "      <td>130.0</td>\n",
       "      <td>0.0</td>\n",
       "      <td>35360.0</td>\n",
       "      <td>0.0</td>\n",
       "      <td>254.0</td>\n",
       "      <td>0.0</td>\n",
       "      <td>4693.214355</td>\n",
       "      <td>0.0</td>\n",
       "      <td>0.0</td>\n",
       "      <td>0.0</td>\n",
       "      <td>463.647906</td>\n",
       "      <td>0.0</td>\n",
       "      <td>553.786375</td>\n",
       "      <td>0.0</td>\n",
       "      <td>0.0</td>\n",
       "      <td>0.0</td>\n",
       "      <td>0.0</td>\n",
       "      <td>0.0</td>\n",
       "      <td>0.0</td>\n",
       "      <td>0.0</td>\n",
       "      <td>0.0</td>\n",
       "      <td>272.0</td>\n",
       "      <td>0.0</td>\n",
       "      <td>0.0</td>\n",
       "      <td>0.0</td>\n",
       "      <td>2.0</td>\n",
       "      <td>2.0</td>\n",
       "      <td>2.0</td>\n",
       "      <td>2.0</td>\n",
       "      <td>2.0</td>\n",
       "      <td>2.0</td>\n",
       "      <td>0.0</td>\n",
       "      <td>0.0</td>\n",
       "      <td>0.0</td>\n",
       "      <td>2.0</td>\n",
       "      <td>2.0</td>\n",
       "      <td>0.0</td>\n",
       "      <td>Other</td>\n",
       "      <td>1</td>\n",
       "      <td>4</td>\n",
       "    </tr>\n",
       "    <tr>\n",
       "      <th>4807</th>\n",
       "      <td>59.879597</td>\n",
       "      <td>78</td>\n",
       "      <td>0</td>\n",
       "      <td>4</td>\n",
       "      <td>128.0</td>\n",
       "      <td>0.0</td>\n",
       "      <td>34816.0</td>\n",
       "      <td>0.0</td>\n",
       "      <td>254.0</td>\n",
       "      <td>0.0</td>\n",
       "      <td>4615.127930</td>\n",
       "      <td>0.0</td>\n",
       "      <td>0.0</td>\n",
       "      <td>0.0</td>\n",
       "      <td>471.492656</td>\n",
       "      <td>0.0</td>\n",
       "      <td>562.680187</td>\n",
       "      <td>0.0</td>\n",
       "      <td>0.0</td>\n",
       "      <td>0.0</td>\n",
       "      <td>0.0</td>\n",
       "      <td>0.0</td>\n",
       "      <td>0.0</td>\n",
       "      <td>0.0</td>\n",
       "      <td>0.0</td>\n",
       "      <td>272.0</td>\n",
       "      <td>0.0</td>\n",
       "      <td>0.0</td>\n",
       "      <td>0.0</td>\n",
       "      <td>1.0</td>\n",
       "      <td>2.0</td>\n",
       "      <td>1.0</td>\n",
       "      <td>1.0</td>\n",
       "      <td>1.0</td>\n",
       "      <td>28.0</td>\n",
       "      <td>0.0</td>\n",
       "      <td>0.0</td>\n",
       "      <td>0.0</td>\n",
       "      <td>1.0</td>\n",
       "      <td>1.0</td>\n",
       "      <td>0.0</td>\n",
       "      <td>Denial of Service</td>\n",
       "      <td>3</td>\n",
       "      <td>3</td>\n",
       "    </tr>\n",
       "    <tr>\n",
       "      <th>4808</th>\n",
       "      <td>59.879597</td>\n",
       "      <td>78</td>\n",
       "      <td>0</td>\n",
       "      <td>4</td>\n",
       "      <td>128.0</td>\n",
       "      <td>0.0</td>\n",
       "      <td>34816.0</td>\n",
       "      <td>0.0</td>\n",
       "      <td>254.0</td>\n",
       "      <td>0.0</td>\n",
       "      <td>4615.127930</td>\n",
       "      <td>0.0</td>\n",
       "      <td>0.0</td>\n",
       "      <td>0.0</td>\n",
       "      <td>471.492656</td>\n",
       "      <td>0.0</td>\n",
       "      <td>562.680187</td>\n",
       "      <td>0.0</td>\n",
       "      <td>0.0</td>\n",
       "      <td>0.0</td>\n",
       "      <td>0.0</td>\n",
       "      <td>0.0</td>\n",
       "      <td>0.0</td>\n",
       "      <td>0.0</td>\n",
       "      <td>0.0</td>\n",
       "      <td>272.0</td>\n",
       "      <td>0.0</td>\n",
       "      <td>0.0</td>\n",
       "      <td>0.0</td>\n",
       "      <td>1.0</td>\n",
       "      <td>2.0</td>\n",
       "      <td>1.0</td>\n",
       "      <td>1.0</td>\n",
       "      <td>1.0</td>\n",
       "      <td>28.0</td>\n",
       "      <td>0.0</td>\n",
       "      <td>0.0</td>\n",
       "      <td>0.0</td>\n",
       "      <td>1.0</td>\n",
       "      <td>1.0</td>\n",
       "      <td>0.0</td>\n",
       "      <td>Exploits</td>\n",
       "      <td>3</td>\n",
       "      <td>3</td>\n",
       "    </tr>\n",
       "    <tr>\n",
       "      <th>4809</th>\n",
       "      <td>59.879597</td>\n",
       "      <td>78</td>\n",
       "      <td>0</td>\n",
       "      <td>4</td>\n",
       "      <td>128.0</td>\n",
       "      <td>0.0</td>\n",
       "      <td>34816.0</td>\n",
       "      <td>0.0</td>\n",
       "      <td>254.0</td>\n",
       "      <td>0.0</td>\n",
       "      <td>4615.127930</td>\n",
       "      <td>0.0</td>\n",
       "      <td>0.0</td>\n",
       "      <td>0.0</td>\n",
       "      <td>471.492656</td>\n",
       "      <td>0.0</td>\n",
       "      <td>562.680187</td>\n",
       "      <td>0.0</td>\n",
       "      <td>0.0</td>\n",
       "      <td>0.0</td>\n",
       "      <td>0.0</td>\n",
       "      <td>0.0</td>\n",
       "      <td>0.0</td>\n",
       "      <td>0.0</td>\n",
       "      <td>0.0</td>\n",
       "      <td>272.0</td>\n",
       "      <td>0.0</td>\n",
       "      <td>0.0</td>\n",
       "      <td>0.0</td>\n",
       "      <td>1.0</td>\n",
       "      <td>2.0</td>\n",
       "      <td>1.0</td>\n",
       "      <td>1.0</td>\n",
       "      <td>1.0</td>\n",
       "      <td>28.0</td>\n",
       "      <td>0.0</td>\n",
       "      <td>0.0</td>\n",
       "      <td>0.0</td>\n",
       "      <td>1.0</td>\n",
       "      <td>1.0</td>\n",
       "      <td>0.0</td>\n",
       "      <td>Malware</td>\n",
       "      <td>1</td>\n",
       "      <td>3</td>\n",
       "    </tr>\n",
       "  </tbody>\n",
       "</table>\n",
       "<p>4810 rows × 44 columns</p>\n",
       "</div>"
      ],
      "text/plain": [
       "       feature1  feature2  feature3  feature4  feature5  feature6  feature7   \n",
       "0      0.000000       118         0         4       1.0       0.0      24.0  \\\n",
       "1      0.000000       118         0         4       1.0       0.0      24.0   \n",
       "2      0.000000       119         0         4       2.0       0.0     200.0   \n",
       "3      0.000000       119         0         4       2.0       0.0     200.0   \n",
       "4      0.000000       119         0         4       2.0       0.0     200.0   \n",
       "...         ...       ...       ...       ...       ...       ...       ...   \n",
       "4805  59.810604        78         0         4     130.0       0.0   35360.0   \n",
       "4806  59.810604        78         0         4     130.0       0.0   35360.0   \n",
       "4807  59.879597        78         0         4     128.0       0.0   34816.0   \n",
       "4808  59.879597        78         0         4     128.0       0.0   34816.0   \n",
       "4809  59.879597        78         0         4     128.0       0.0   34816.0   \n",
       "\n",
       "      feature8  feature9  feature10    feature11  feature12  feature13   \n",
       "0          0.0     254.0        0.0     0.000000        0.0        0.0  \\\n",
       "1          0.0     254.0        0.0     0.000000        0.0        0.0   \n",
       "2          0.0     254.0        0.0     0.000000        0.0        0.0   \n",
       "3          0.0     254.0        0.0     0.000000        0.0        0.0   \n",
       "4          0.0     254.0        0.0     0.000000        0.0        0.0   \n",
       "...        ...       ...        ...          ...        ...        ...   \n",
       "4805       0.0     254.0        0.0  4693.214355        0.0        0.0   \n",
       "4806       0.0     254.0        0.0  4693.214355        0.0        0.0   \n",
       "4807       0.0     254.0        0.0  4615.127930        0.0        0.0   \n",
       "4808       0.0     254.0        0.0  4615.127930        0.0        0.0   \n",
       "4809       0.0     254.0        0.0  4615.127930        0.0        0.0   \n",
       "\n",
       "      feature14   feature15  feature16   feature17  feature18  feature19   \n",
       "0           0.0    0.000000        0.0    0.000000        0.0        0.0  \\\n",
       "1           0.0    0.000000        0.0    0.000000        0.0        0.0   \n",
       "2           0.0    0.000000        0.0    0.000000        0.0        0.0   \n",
       "3           0.0    0.000000        0.0    0.000000        0.0        0.0   \n",
       "4           0.0    0.000000        0.0    0.000000        0.0        0.0   \n",
       "...         ...         ...        ...         ...        ...        ...   \n",
       "4805        0.0  463.647906        0.0  553.786375        0.0        0.0   \n",
       "4806        0.0  463.647906        0.0  553.786375        0.0        0.0   \n",
       "4807        0.0  471.492656        0.0  562.680187        0.0        0.0   \n",
       "4808        0.0  471.492656        0.0  562.680187        0.0        0.0   \n",
       "4809        0.0  471.492656        0.0  562.680187        0.0        0.0   \n",
       "\n",
       "      feature20  feature21  feature22  feature23  feature24  feature25   \n",
       "0           0.0        0.0        0.0        0.0        0.0        0.0  \\\n",
       "1           0.0        0.0        0.0        0.0        0.0        0.0   \n",
       "2           0.0        0.0        0.0        0.0        0.0        0.0   \n",
       "3           0.0        0.0        0.0        0.0        0.0        0.0   \n",
       "4           0.0        0.0        0.0        0.0        0.0        0.0   \n",
       "...         ...        ...        ...        ...        ...        ...   \n",
       "4805        0.0        0.0        0.0        0.0        0.0        0.0   \n",
       "4806        0.0        0.0        0.0        0.0        0.0        0.0   \n",
       "4807        0.0        0.0        0.0        0.0        0.0        0.0   \n",
       "4808        0.0        0.0        0.0        0.0        0.0        0.0   \n",
       "4809        0.0        0.0        0.0        0.0        0.0        0.0   \n",
       "\n",
       "      feature26  feature27  feature28  feature29  feature30  feature31   \n",
       "0          24.0        0.0        0.0        0.0        4.0        2.0  \\\n",
       "1          24.0        0.0        0.0        0.0        4.0        2.0   \n",
       "2         100.0        0.0        0.0        0.0        7.0        2.0   \n",
       "3         100.0        0.0        0.0        0.0        7.0        2.0   \n",
       "4         100.0        0.0        0.0        0.0        7.0        2.0   \n",
       "...         ...        ...        ...        ...        ...        ...   \n",
       "4805      272.0        0.0        0.0        0.0        2.0        2.0   \n",
       "4806      272.0        0.0        0.0        0.0        2.0        2.0   \n",
       "4807      272.0        0.0        0.0        0.0        1.0        2.0   \n",
       "4808      272.0        0.0        0.0        0.0        1.0        2.0   \n",
       "4809      272.0        0.0        0.0        0.0        1.0        2.0   \n",
       "\n",
       "      feature32  feature33  feature34  feature35  feature36  feature37   \n",
       "0           2.0        1.0        1.0        2.0        0.0        0.0  \\\n",
       "1           2.0        1.0        1.0        2.0        0.0        0.0   \n",
       "2           4.0        3.0        3.0        9.0        0.0        0.0   \n",
       "3           4.0        3.0        3.0        9.0        0.0        0.0   \n",
       "4           4.0        3.0        3.0        9.0        0.0        0.0   \n",
       "...         ...        ...        ...        ...        ...        ...   \n",
       "4805        2.0        2.0        2.0        2.0        0.0        0.0   \n",
       "4806        2.0        2.0        2.0        2.0        0.0        0.0   \n",
       "4807        1.0        1.0        1.0       28.0        0.0        0.0   \n",
       "4808        1.0        1.0        1.0       28.0        0.0        0.0   \n",
       "4809        1.0        1.0        1.0       28.0        0.0        0.0   \n",
       "\n",
       "      feature38  feature39  feature40  feature41                  label   \n",
       "0           0.0        3.0        2.0        0.0      Denial of Service  \\\n",
       "1           0.0        3.0        2.0        0.0               Exploits   \n",
       "2           0.0        5.0        7.0        0.0      Denial of Service   \n",
       "3           0.0        5.0        7.0        0.0               Exploits   \n",
       "4           0.0        5.0        7.0        0.0  Information Gathering   \n",
       "...         ...        ...        ...        ...                    ...   \n",
       "4805        0.0        2.0        2.0        0.0                Malware   \n",
       "4806        0.0        2.0        2.0        0.0                  Other   \n",
       "4807        0.0        1.0        1.0        0.0      Denial of Service   \n",
       "4808        0.0        1.0        1.0        0.0               Exploits   \n",
       "4809        0.0        1.0        1.0        0.0                Malware   \n",
       "\n",
       "      count_per_label  count_distinct_label  \n",
       "0                   1                     2  \n",
       "1                   1                     2  \n",
       "2                   1                     3  \n",
       "3                   5                     3  \n",
       "4                   1                     3  \n",
       "...               ...                   ...  \n",
       "4805                1                     4  \n",
       "4806                1                     4  \n",
       "4807                3                     3  \n",
       "4808                3                     3  \n",
       "4809                1                     3  \n",
       "\n",
       "[4810 rows x 44 columns]"
      ]
     },
     "execution_count": 144,
     "metadata": {},
     "output_type": "execute_result"
    }
   ],
   "source": [
    "X_train = train_x\n",
    "target_col = 'label'\n",
    "\n",
    "feature_group = X_train.columns.tolist()\n",
    "dup_ = X_train.groupby(feature_group).agg(count_per_label=(target_col, \"count\")).reset_index()\n",
    "feature_group.remove('label')\n",
    "\n",
    "count_record = X_train.groupby(feature_group).agg(count_distinct_label=(target_col, \"nunique\")).reset_index()\n",
    "# dup_['order'] = dup_.sort_values(['count_per_label', target_col], ascending=[False, False]).groupby(feature_group).cumcount()\n",
    "# dup_['count_per_label_lag'] = dup_.sort_values(['order']).groupby(feature_group)['count_per_label'].shift(-1)\n",
    "dup_ = dup_.merge(count_record, how='inner', on=feature_group)\n",
    "total_dup = dup_[dup_['count_distinct_label'] != 1].reset_index(drop=True)\n",
    "\n",
    "total_dup"
   ]
  },
  {
   "cell_type": "code",
   "execution_count": 147,
   "metadata": {},
   "outputs": [],
   "source": [
    "X = pd.concat([train_x, val_x])\n",
    "y = pd.concat([train_y, val_y])"
   ]
  },
  {
   "cell_type": "code",
   "execution_count": 197,
   "metadata": {},
   "outputs": [
    {
     "name": "stderr",
     "output_type": "stream",
     "text": [
      "  1%|          | 1/100 [00:00<00:01, 51.57it/s]\n"
     ]
    }
   ],
   "source": [
    "for i in tqdm(range(100)):\n",
    "    # random.seed(i)\n",
    "    batch_0_path, batch_1_path = random.choices(batches, k=2)\n",
    "    batch_0 = pd.read_parquet(batch_0_path)\n",
    "    batch_1 = pd.read_parquet(batch_1_path)\n",
    "    \n",
    "    drift0 = model.detect_drift(batch_0)\n",
    "    drift1 = model.detect_drift(batch_1)\n",
    "    \n",
    "    if not (drift0==0 and drift1==0):\n",
    "        continue\n",
    "    else:\n",
    "        break"
   ]
  },
  {
   "cell_type": "code",
   "execution_count": 198,
   "metadata": {},
   "outputs": [],
   "source": [
    "batch_0['mark_distribution'] = 1\n",
    "X['mark_distribution'] = 0"
   ]
  },
  {
   "cell_type": "code",
   "execution_count": 199,
   "metadata": {},
   "outputs": [],
   "source": [
    "def train_catboost(train_x, val_x, train_y, val_y):\n",
    "    train_data = Pool(train_x, train_y, cat_features=cat_features)\n",
    "    val_data = Pool(val_x, val_y, cat_features=cat_features)\n",
    "\n",
    "    cb = CatBoostClassifier(random_state=42, loss_function=\"Logloss\", verbose=100)\n",
    "\n",
    "    cb.fit(train_data, eval_set=(val_data), early_stopping_rounds=100)\n",
    "    return cb"
   ]
  },
  {
   "cell_type": "code",
   "execution_count": 217,
   "metadata": {},
   "outputs": [
    {
     "name": "stdout",
     "output_type": "stream",
     "text": [
      "Learning rate set to 0.092058\n",
      "0:\tlearn: 0.5104492\ttest: 0.5104198\tbest: 0.5104198 (0)\ttotal: 32ms\tremaining: 32s\n",
      "100:\tlearn: 0.0286467\ttest: 0.0320477\tbest: 0.0320112 (80)\ttotal: 2.79s\tremaining: 24.8s\n",
      "200:\tlearn: 0.0273202\ttest: 0.0322056\tbest: 0.0319984 (126)\ttotal: 5.4s\tremaining: 21.5s\n",
      "Stopped by overfitting detector  (100 iterations wait)\n",
      "\n",
      "bestTest = 0.03199839523\n",
      "bestIteration = 126\n",
      "\n",
      "Shrink model to first 127 iterations.\n",
      "0.9947208446648537\n",
      "=================\n"
     ]
    }
   ],
   "source": [
    "import random\n",
    "\n",
    "# importance_df_all = pd.DataFrame(columns=['features', 'importances'])\n",
    "\n",
    "# for i in tqdm(range(100)):\n",
    "#     random.seed(i)\n",
    "#     batch_0_path, batch_1_path = random.choices(batches, k=2)\n",
    "#     batch_0 = pd.read_parquet(batch_0_path)\n",
    "#     batch_1 = pd.read_parquet(batch_1_path)\n",
    "    \n",
    "#     drift0 = model.detect_drift(batch_0)\n",
    "#     drift1 = model.detect_drift(batch_1)\n",
    "    \n",
    "#     if not (drift0==0 and drift1==0):\n",
    "#         continue\n",
    "    \n",
    "#     print('Drift', drift0, drift1)\n",
    "    \n",
    "    # batch_0['label'] = 0\n",
    "    # batch_1['label'] = 1\n",
    "    \n",
    "data = pd.concat([batch_0, X])\n",
    "train_x, val_x, train_y, val_y = train_test_split(data[features], data['mark_distribution'], test_size=0.2)\n",
    "\n",
    "# print(len(train_x))\n",
    "# print(len(train_y))\n",
    "\n",
    "cb = train_catboost(train_x, val_x, train_y, val_y)\n",
    "\n",
    "print(accuracy_score(val_y, cb.predict(val_x)))\n",
    "\n",
    "print('=================')\n",
    "\n",
    "importance_df = pd.DataFrame({'features':cb.feature_names_, 'importances':cb.feature_importances_})\n",
    "importance_df_all = pd.concat([importance_df_all, importance_df])\n",
    "    "
   ]
  },
  {
   "cell_type": "code",
   "execution_count": 219,
   "metadata": {},
   "outputs": [
    {
     "data": {
      "text/plain": [
       "(array([1.0000e+00, 0.0000e+00, 0.0000e+00, 1.0000e+00, 0.0000e+00,\n",
       "        4.0000e+00, 6.0000e+00, 7.0000e+00, 4.1000e+01, 9.2702e+04]),\n",
       " array([0.75725185, 0.78142006, 0.80558827, 0.82975649, 0.8539247 ,\n",
       "        0.87809291, 0.90226112, 0.92642934, 0.95059755, 0.97476576,\n",
       "        0.99893398]),\n",
       " <BarContainer object of 10 artists>)"
      ]
     },
     "execution_count": 219,
     "metadata": {},
     "output_type": "execute_result"
    },
    {
     "data": {
      "image/png": "[encoded data removed]",
      "text/plain": [
       "<Figure size 640x480 with 1 Axes>"
      ]
     },
     "metadata": {},
     "output_type": "display_data"
    }
   ],
   "source": [
    "prob_train = cb.predict_proba(Pool(X, cat_features=cat_features))[:,0]\n",
    "plt.hist(prob_train)"
   ]
  },
  {
   "cell_type": "code",
   "execution_count": 220,
   "metadata": {},
   "outputs": [
    {
     "data": {
      "text/plain": [
       "93"
      ]
     },
     "execution_count": 220,
     "metadata": {},
     "output_type": "execute_result"
    }
   ],
   "source": [
    "len(prob_train[prob_train<0.98])"
   ]
  },
  {
   "cell_type": "code",
   "execution_count": 221,
   "metadata": {},
   "outputs": [
    {
     "name": "stdout",
     "output_type": "stream",
     "text": [
      "Learning rate set to 0.030652\n",
      "0:\tlearn: 0.6255342\ttest: 0.6266774\tbest: 0.6266774 (0)\ttotal: 3.72ms\tremaining: 3.71s\n",
      "100:\tlearn: 0.0405013\ttest: 0.0863323\tbest: 0.0863041 (98)\ttotal: 317ms\tremaining: 2.82s\n",
      "200:\tlearn: 0.0216676\ttest: 0.0817810\tbest: 0.0813178 (179)\ttotal: 621ms\tremaining: 2.47s\n",
      "300:\tlearn: 0.0129147\ttest: 0.0806054\tbest: 0.0797992 (248)\ttotal: 928ms\tremaining: 2.15s\n",
      "Stopped by overfitting detector  (100 iterations wait)\n",
      "\n",
      "bestTest = 0.07979916753\n",
      "bestIteration = 248\n",
      "\n",
      "Shrink model to first 249 iterations.\n",
      "0.9817351598173516\n",
      "=================\n"
     ]
    }
   ],
   "source": [
    "data = pd.concat([batch_0, X[prob_train<0.98]])\n",
    "train_x, val_x, train_y, val_y = train_test_split(data[features], data['mark_distribution'], test_size=0.2)\n",
    "\n",
    "\n",
    "cb = train_catboost(train_x, val_x, train_y, val_y)\n",
    "\n",
    "print(accuracy_score(val_y, cb.predict(val_x)))\n",
    "\n",
    "print('=================')\n",
    "\n",
    "importance_df = pd.DataFrame({'features':cb.feature_names_, 'importances':cb.feature_importances_})\n",
    "importance_df_all = pd.concat([importance_df_all, importance_df])"
   ]
  },
  {
   "cell_type": "code",
   "execution_count": 222,
   "metadata": {},
   "outputs": [
    {
     "data": {
      "text/plain": [
       "(array([ 2.,  1.,  1.,  0.,  0.,  1.,  2.,  2., 20., 64.]),\n",
       " array([0.0091495 , 0.10572616, 0.20230281, 0.29887946, 0.39545612,\n",
       "        0.49203277, 0.58860943, 0.68518608, 0.78176274, 0.87833939,\n",
       "        0.97491604]),\n",
       " <BarContainer object of 10 artists>)"
      ]
     },
     "execution_count": 222,
     "metadata": {},
     "output_type": "execute_result"
    },
    {
     "data": {
      "image/png": "[encoded data removed]",
      "text/plain": [
       "<Figure size 640x480 with 1 Axes>"
      ]
     },
     "metadata": {},
     "output_type": "display_data"
    }
   ],
   "source": [
    "prob_train = cb.predict_proba(Pool(X[prob_train<0.98], cat_features=cat_features))[:,0]\n",
    "plt.hist(prob_train)"
   ]
  },
  {
   "cell_type": "code",
   "execution_count": 229,
   "metadata": {},
   "outputs": [],
   "source": [
    "# len(prob_train[prob_train<0.5])/len(prob_train)"
   ]
  },
  {
   "attachments": {},
   "cell_type": "markdown",
   "metadata": {},
   "source": [
    "# Phase-2 data"
   ]
  },
  {
   "cell_type": "code",
   "execution_count": 88,
   "metadata": {},
   "outputs": [],
   "source": [
    "from raw_data_processor import RawDataProcessor"
   ]
  },
  {
   "cell_type": "code",
   "execution_count": 102,
   "metadata": {},
   "outputs": [],
   "source": [
    "raw_df = pd.read_parquet('data/raw_data/phase-2/prob-2/raw_train.parquet')\n",
    "cate_cols = cat_features\n",
    "\n",
    "phase2_df = RawDataProcessor.apply_category_features(\n",
    "    raw_df=raw_df,\n",
    "    categorical_cols=cate_cols,\n",
    "    category_index=model.category_index,\n",
    "    \n",
    ")\n"
   ]
  },
  {
   "cell_type": "code",
   "execution_count": 103,
   "metadata": {},
   "outputs": [],
   "source": [
    "phase2_df = phase2_df[features]\n",
    "# phase2_df[phase2_df['feature4'] == 'Normal']"
   ]
  },
  {
   "cell_type": "code",
   "execution_count": 104,
   "metadata": {},
   "outputs": [
    {
     "data": {
      "text/plain": [
       "149"
      ]
     },
     "execution_count": 104,
     "metadata": {},
     "output_type": "execute_result"
    }
   ],
   "source": [
    "phase2_df = Pool(phase2_df, cat_features=cat_features)\n",
    "phase2_df\n",
    "phase2_drift = detect_drift_model.predict(phase2_df)\n",
    "phase2_drift\n",
    "(phase2_drift==1).sum()"
   ]
  },
  {
   "cell_type": "code",
   "execution_count": null,
   "metadata": {},
   "outputs": [],
   "source": []
  }
 ],
 "metadata": {
  "kernelspec": {
   "display_name": "Python 3",
   "language": "python",
   "name": "python3"
  },
  "language_info": {
   "codemirror_mode": {
    "name": "ipython",
    "version": 3
   },
   "file_extension": ".py",
   "mimetype": "text/x-python",
   "name": "python",
   "nbconvert_exporter": "python",
   "pygments_lexer": "ipython3",
   "version": "3.8.10"
  },
  "orig_nbformat": 4
 },
 "nbformat": 4,
 "nbformat_minor": 2
}
